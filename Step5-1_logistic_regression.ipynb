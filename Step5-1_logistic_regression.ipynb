{
 "cells": [
  {
   "cell_type": "markdown",
   "metadata": {
    "nbpresent": {
     "id": "a7289771-729f-48bb-9be7-bd99538fb72a"
    }
   },
   "source": [
    "# Project 3 Fraud Detection Algorithm"
   ]
  },
  {
   "cell_type": "markdown",
   "metadata": {
    "nbpresent": {
     "id": "44d4eb36-ee0e-4070-b455-472afb0f3f4a"
    }
   },
   "source": [
    "## Load data and data split"
   ]
  },
  {
   "cell_type": "code",
   "execution_count": 2,
   "metadata": {
    "nbpresent": {
     "id": "3be92b91-7733-4e0b-b0e7-5f48915edeb6"
    },
    "scrolled": true
   },
   "outputs": [],
   "source": [
    "import numpy as np\n",
    "import pandas as pd\n",
    "import matplotlib.pyplot as plt\n",
    "from sklearn.model_selection import train_test_split\n",
    "import random\n",
    "\n",
    "data = pd.read_csv(\"vars_final_zscale.csv\", index_col = 0)"
   ]
  },
  {
   "cell_type": "code",
   "execution_count": 2,
   "metadata": {
    "nbpresent": {
     "id": "affacd4e-c4f5-4205-8c3b-ddf001223236"
    }
   },
   "outputs": [
    {
     "data": {
      "text/html": [
       "<div>\n",
       "<style scoped>\n",
       "    .dataframe tbody tr th:only-of-type {\n",
       "        vertical-align: middle;\n",
       "    }\n",
       "\n",
       "    .dataframe tbody tr th {\n",
       "        vertical-align: top;\n",
       "    }\n",
       "\n",
       "    .dataframe thead th {\n",
       "        text-align: right;\n",
       "    }\n",
       "</style>\n",
       "<table border=\"1\" class=\"dataframe\">\n",
       "  <thead>\n",
       "    <tr style=\"text-align: right;\">\n",
       "      <th></th>\n",
       "      <th>Fraud</th>\n",
       "      <th>Card_Amount_Act_median_30D</th>\n",
       "      <th>Card_Merch_Amount_max_7D</th>\n",
       "      <th>v_num_card_amount_card14</th>\n",
       "      <th>v_num_card_amount_card7</th>\n",
       "      <th>v_num_merch_amount_card7</th>\n",
       "      <th>v_num_merch_amount_merch14</th>\n",
       "      <th>Card_Merch_Amount_max_30D</th>\n",
       "      <th>Card_State_Amount_max_30D</th>\n",
       "      <th>Card_State_Amount_max_14D</th>\n",
       "      <th>...</th>\n",
       "      <th>Card_Zip_Amount_total_3D</th>\n",
       "      <th>Card_Zip_Amount_max_3D</th>\n",
       "      <th>Card_Zip_Amount_median_3D</th>\n",
       "      <th>Card_Zip_Amount_mean_3D</th>\n",
       "      <th>Card_Amount_median_14D</th>\n",
       "      <th>Card_Merch_Amount_median_7D</th>\n",
       "      <th>Card_State_Amount_mean_30D</th>\n",
       "      <th>Card_State_Amount_mean_14D</th>\n",
       "      <th>v_amount_card_num_card7</th>\n",
       "      <th>Card_Merch_Amount_mean_14D</th>\n",
       "    </tr>\n",
       "    <tr>\n",
       "      <th>Recnum</th>\n",
       "      <th></th>\n",
       "      <th></th>\n",
       "      <th></th>\n",
       "      <th></th>\n",
       "      <th></th>\n",
       "      <th></th>\n",
       "      <th></th>\n",
       "      <th></th>\n",
       "      <th></th>\n",
       "      <th></th>\n",
       "      <th></th>\n",
       "      <th></th>\n",
       "      <th></th>\n",
       "      <th></th>\n",
       "      <th></th>\n",
       "      <th></th>\n",
       "      <th></th>\n",
       "      <th></th>\n",
       "      <th></th>\n",
       "      <th></th>\n",
       "      <th></th>\n",
       "    </tr>\n",
       "  </thead>\n",
       "  <tbody>\n",
       "    <tr>\n",
       "      <th>1</th>\n",
       "      <td>0</td>\n",
       "      <td>-0.120119</td>\n",
       "      <td>-0.158959</td>\n",
       "      <td>5.871008</td>\n",
       "      <td>4.898253</td>\n",
       "      <td>0.501112</td>\n",
       "      <td>5.898894</td>\n",
       "      <td>-0.175484</td>\n",
       "      <td>-0.231773</td>\n",
       "      <td>-0.203669</td>\n",
       "      <td>...</td>\n",
       "      <td>-0.127423</td>\n",
       "      <td>-0.156257</td>\n",
       "      <td>-0.188153</td>\n",
       "      <td>-0.188405</td>\n",
       "      <td>-0.245421</td>\n",
       "      <td>-0.188017</td>\n",
       "      <td>-0.194931</td>\n",
       "      <td>-0.196986</td>\n",
       "      <td>-0.472119</td>\n",
       "      <td>-0.187477</td>\n",
       "    </tr>\n",
       "    <tr>\n",
       "      <th>2</th>\n",
       "      <td>0</td>\n",
       "      <td>-0.120119</td>\n",
       "      <td>-0.160996</td>\n",
       "      <td>0.518050</td>\n",
       "      <td>0.338047</td>\n",
       "      <td>-0.096451</td>\n",
       "      <td>0.551609</td>\n",
       "      <td>-0.177512</td>\n",
       "      <td>-0.233739</td>\n",
       "      <td>-0.205665</td>\n",
       "      <td>...</td>\n",
       "      <td>-0.128918</td>\n",
       "      <td>-0.158296</td>\n",
       "      <td>-0.190803</td>\n",
       "      <td>-0.191053</td>\n",
       "      <td>-0.248927</td>\n",
       "      <td>-0.190735</td>\n",
       "      <td>-0.197738</td>\n",
       "      <td>-0.199734</td>\n",
       "      <td>-0.411548</td>\n",
       "      <td>-0.190208</td>\n",
       "    </tr>\n",
       "    <tr>\n",
       "      <th>3</th>\n",
       "      <td>0</td>\n",
       "      <td>-0.120119</td>\n",
       "      <td>-0.125551</td>\n",
       "      <td>-0.057104</td>\n",
       "      <td>-0.151928</td>\n",
       "      <td>-0.115540</td>\n",
       "      <td>-0.070261</td>\n",
       "      <td>-0.142209</td>\n",
       "      <td>-0.199517</td>\n",
       "      <td>-0.170932</td>\n",
       "      <td>...</td>\n",
       "      <td>-0.102904</td>\n",
       "      <td>-0.122819</td>\n",
       "      <td>-0.144685</td>\n",
       "      <td>-0.144963</td>\n",
       "      <td>-0.187902</td>\n",
       "      <td>-0.143425</td>\n",
       "      <td>-0.148884</td>\n",
       "      <td>-0.151906</td>\n",
       "      <td>-0.091059</td>\n",
       "      <td>-0.142679</td>\n",
       "    </tr>\n",
       "    <tr>\n",
       "      <th>4</th>\n",
       "      <td>0</td>\n",
       "      <td>-0.120119</td>\n",
       "      <td>-0.162273</td>\n",
       "      <td>5.697684</td>\n",
       "      <td>4.750597</td>\n",
       "      <td>0.827875</td>\n",
       "      <td>5.898894</td>\n",
       "      <td>-0.178785</td>\n",
       "      <td>-0.234972</td>\n",
       "      <td>-0.206917</td>\n",
       "      <td>...</td>\n",
       "      <td>-0.129855</td>\n",
       "      <td>-0.159574</td>\n",
       "      <td>-0.192465</td>\n",
       "      <td>-0.192714</td>\n",
       "      <td>-0.251127</td>\n",
       "      <td>-0.192440</td>\n",
       "      <td>-0.199498</td>\n",
       "      <td>-0.201458</td>\n",
       "      <td>-0.471886</td>\n",
       "      <td>-0.191920</td>\n",
       "    </tr>\n",
       "    <tr>\n",
       "      <th>5</th>\n",
       "      <td>0</td>\n",
       "      <td>-0.120119</td>\n",
       "      <td>-0.158959</td>\n",
       "      <td>5.871008</td>\n",
       "      <td>4.898253</td>\n",
       "      <td>0.501112</td>\n",
       "      <td>5.898894</td>\n",
       "      <td>-0.175484</td>\n",
       "      <td>-0.231773</td>\n",
       "      <td>-0.203669</td>\n",
       "      <td>...</td>\n",
       "      <td>-0.127423</td>\n",
       "      <td>-0.156257</td>\n",
       "      <td>-0.188153</td>\n",
       "      <td>-0.188405</td>\n",
       "      <td>-0.245421</td>\n",
       "      <td>-0.188017</td>\n",
       "      <td>-0.194931</td>\n",
       "      <td>-0.196986</td>\n",
       "      <td>-0.472119</td>\n",
       "      <td>-0.187477</td>\n",
       "    </tr>\n",
       "  </tbody>\n",
       "</table>\n",
       "<p>5 rows × 21 columns</p>\n",
       "</div>"
      ],
      "text/plain": [
       "        Fraud  Card_Amount_Act_median_30D  Card_Merch_Amount_max_7D  \\\n",
       "Recnum                                                                \n",
       "1           0                   -0.120119                 -0.158959   \n",
       "2           0                   -0.120119                 -0.160996   \n",
       "3           0                   -0.120119                 -0.125551   \n",
       "4           0                   -0.120119                 -0.162273   \n",
       "5           0                   -0.120119                 -0.158959   \n",
       "\n",
       "        v_num_card_amount_card14  v_num_card_amount_card7  \\\n",
       "Recnum                                                      \n",
       "1                       5.871008                 4.898253   \n",
       "2                       0.518050                 0.338047   \n",
       "3                      -0.057104                -0.151928   \n",
       "4                       5.697684                 4.750597   \n",
       "5                       5.871008                 4.898253   \n",
       "\n",
       "        v_num_merch_amount_card7  v_num_merch_amount_merch14  \\\n",
       "Recnum                                                         \n",
       "1                       0.501112                    5.898894   \n",
       "2                      -0.096451                    0.551609   \n",
       "3                      -0.115540                   -0.070261   \n",
       "4                       0.827875                    5.898894   \n",
       "5                       0.501112                    5.898894   \n",
       "\n",
       "        Card_Merch_Amount_max_30D  Card_State_Amount_max_30D  \\\n",
       "Recnum                                                         \n",
       "1                       -0.175484                  -0.231773   \n",
       "2                       -0.177512                  -0.233739   \n",
       "3                       -0.142209                  -0.199517   \n",
       "4                       -0.178785                  -0.234972   \n",
       "5                       -0.175484                  -0.231773   \n",
       "\n",
       "        Card_State_Amount_max_14D  ...  Card_Zip_Amount_total_3D  \\\n",
       "Recnum                             ...                             \n",
       "1                       -0.203669  ...                 -0.127423   \n",
       "2                       -0.205665  ...                 -0.128918   \n",
       "3                       -0.170932  ...                 -0.102904   \n",
       "4                       -0.206917  ...                 -0.129855   \n",
       "5                       -0.203669  ...                 -0.127423   \n",
       "\n",
       "        Card_Zip_Amount_max_3D  Card_Zip_Amount_median_3D  \\\n",
       "Recnum                                                      \n",
       "1                    -0.156257                  -0.188153   \n",
       "2                    -0.158296                  -0.190803   \n",
       "3                    -0.122819                  -0.144685   \n",
       "4                    -0.159574                  -0.192465   \n",
       "5                    -0.156257                  -0.188153   \n",
       "\n",
       "        Card_Zip_Amount_mean_3D  Card_Amount_median_14D  \\\n",
       "Recnum                                                    \n",
       "1                     -0.188405               -0.245421   \n",
       "2                     -0.191053               -0.248927   \n",
       "3                     -0.144963               -0.187902   \n",
       "4                     -0.192714               -0.251127   \n",
       "5                     -0.188405               -0.245421   \n",
       "\n",
       "        Card_Merch_Amount_median_7D  Card_State_Amount_mean_30D  \\\n",
       "Recnum                                                            \n",
       "1                         -0.188017                   -0.194931   \n",
       "2                         -0.190735                   -0.197738   \n",
       "3                         -0.143425                   -0.148884   \n",
       "4                         -0.192440                   -0.199498   \n",
       "5                         -0.188017                   -0.194931   \n",
       "\n",
       "        Card_State_Amount_mean_14D  v_amount_card_num_card7  \\\n",
       "Recnum                                                        \n",
       "1                        -0.196986                -0.472119   \n",
       "2                        -0.199734                -0.411548   \n",
       "3                        -0.151906                -0.091059   \n",
       "4                        -0.201458                -0.471886   \n",
       "5                        -0.196986                -0.472119   \n",
       "\n",
       "        Card_Merch_Amount_mean_14D  \n",
       "Recnum                              \n",
       "1                        -0.187477  \n",
       "2                        -0.190208  \n",
       "3                        -0.142679  \n",
       "4                        -0.191920  \n",
       "5                        -0.187477  \n",
       "\n",
       "[5 rows x 21 columns]"
      ]
     },
     "execution_count": 2,
     "metadata": {},
     "output_type": "execute_result"
    }
   ],
   "source": [
    "# Look at the data\n",
    "data.head()"
   ]
  },
  {
   "cell_type": "code",
   "execution_count": 3,
   "metadata": {
    "nbpresent": {
     "id": "d26d6714-cef7-4d41-a351-91c541107406"
    }
   },
   "outputs": [
    {
     "data": {
      "text/plain": [
       "Fraud                          False\n",
       "Card_Amount_Act_median_30D     False\n",
       "Card_Merch_Amount_max_7D       False\n",
       "v_num_card_amount_card14       False\n",
       "v_num_card_amount_card7        False\n",
       "v_num_merch_amount_card7       False\n",
       "v_num_merch_amount_merch14     False\n",
       "Card_Merch_Amount_max_30D      False\n",
       "Card_State_Amount_max_30D      False\n",
       "Card_State_Amount_max_14D      False\n",
       "Card_Amount_mean_30D           False\n",
       "Card_Zip_Amount_total_3D       False\n",
       "Card_Zip_Amount_max_3D         False\n",
       "Card_Zip_Amount_median_3D      False\n",
       "Card_Zip_Amount_mean_3D        False\n",
       "Card_Amount_median_14D         False\n",
       "Card_Merch_Amount_median_7D    False\n",
       "Card_State_Amount_mean_30D     False\n",
       "Card_State_Amount_mean_14D     False\n",
       "v_amount_card_num_card7        False\n",
       "Card_Merch_Amount_mean_14D     False\n",
       "dtype: bool"
      ]
     },
     "execution_count": 3,
     "metadata": {},
     "output_type": "execute_result"
    }
   ],
   "source": [
    "# test for NAN\n",
    "pd.isnull(data).any()"
   ]
  },
  {
   "cell_type": "code",
   "execution_count": 3,
   "metadata": {},
   "outputs": [],
   "source": [
    "# split data into out of date(after 11/1/10), train and test\n",
    "oot_df = data.iloc[84300:,:]\n",
    "trte_df = data.iloc[:84299,:]"
   ]
  },
  {
   "cell_type": "code",
   "execution_count": 4,
   "metadata": {},
   "outputs": [],
   "source": [
    "train, test = train_test_split(trte_df, test_size=0.2, random_state=0)"
   ]
  },
  {
   "cell_type": "code",
   "execution_count": 5,
   "metadata": {},
   "outputs": [],
   "source": [
    "oot_df.to_csv('oot.csv',index=True)\n",
    "train.to_csv('train.csv',index=True)\n",
    "test.to_csv('test.csv',index=True)"
   ]
  },
  {
   "cell_type": "code",
   "execution_count": 54,
   "metadata": {
    "nbpresent": {
     "id": "082165ed-e1a2-484a-9477-f19bc7fcc478"
    }
   },
   "outputs": [
    {
     "data": {
      "text/html": [
       "<div>\n",
       "<style scoped>\n",
       "    .dataframe tbody tr th:only-of-type {\n",
       "        vertical-align: middle;\n",
       "    }\n",
       "\n",
       "    .dataframe tbody tr th {\n",
       "        vertical-align: top;\n",
       "    }\n",
       "\n",
       "    .dataframe thead th {\n",
       "        text-align: right;\n",
       "    }\n",
       "</style>\n",
       "<table border=\"1\" class=\"dataframe\">\n",
       "  <thead>\n",
       "    <tr style=\"text-align: right;\">\n",
       "      <th></th>\n",
       "      <th>Fraud</th>\n",
       "      <th>Card_Amount_Act_median_30D</th>\n",
       "      <th>Card_Merch_Amount_max_7D</th>\n",
       "      <th>v_num_card_amount_card14</th>\n",
       "      <th>v_num_card_amount_card7</th>\n",
       "      <th>v_num_merch_amount_card7</th>\n",
       "      <th>v_num_merch_amount_merch14</th>\n",
       "      <th>Card_Merch_Amount_max_30D</th>\n",
       "      <th>Card_State_Amount_max_30D</th>\n",
       "      <th>Card_State_Amount_max_14D</th>\n",
       "      <th>...</th>\n",
       "      <th>Card_Zip_Amount_total_3D</th>\n",
       "      <th>Card_Zip_Amount_max_3D</th>\n",
       "      <th>Card_Zip_Amount_median_3D</th>\n",
       "      <th>Card_Zip_Amount_mean_3D</th>\n",
       "      <th>Card_Amount_median_14D</th>\n",
       "      <th>Card_Merch_Amount_median_7D</th>\n",
       "      <th>Card_State_Amount_mean_30D</th>\n",
       "      <th>Card_State_Amount_mean_14D</th>\n",
       "      <th>v_amount_card_num_card7</th>\n",
       "      <th>Card_Merch_Amount_mean_14D</th>\n",
       "    </tr>\n",
       "    <tr>\n",
       "      <th>Recnum</th>\n",
       "      <th></th>\n",
       "      <th></th>\n",
       "      <th></th>\n",
       "      <th></th>\n",
       "      <th></th>\n",
       "      <th></th>\n",
       "      <th></th>\n",
       "      <th></th>\n",
       "      <th></th>\n",
       "      <th></th>\n",
       "      <th></th>\n",
       "      <th></th>\n",
       "      <th></th>\n",
       "      <th></th>\n",
       "      <th></th>\n",
       "      <th></th>\n",
       "      <th></th>\n",
       "      <th></th>\n",
       "      <th></th>\n",
       "      <th></th>\n",
       "      <th></th>\n",
       "    </tr>\n",
       "  </thead>\n",
       "  <tbody>\n",
       "    <tr>\n",
       "      <th>61285</th>\n",
       "      <td>0</td>\n",
       "      <td>-0.042729</td>\n",
       "      <td>0.329705</td>\n",
       "      <td>-0.175753</td>\n",
       "      <td>-0.248781</td>\n",
       "      <td>-0.119465</td>\n",
       "      <td>-0.191647</td>\n",
       "      <td>0.311229</td>\n",
       "      <td>0.240022</td>\n",
       "      <td>0.275170</td>\n",
       "      <td>...</td>\n",
       "      <td>0.231208</td>\n",
       "      <td>0.332842</td>\n",
       "      <td>0.447649</td>\n",
       "      <td>0.447009</td>\n",
       "      <td>0.063996</td>\n",
       "      <td>0.464213</td>\n",
       "      <td>0.156768</td>\n",
       "      <td>0.462389</td>\n",
       "      <td>0.327241</td>\n",
       "      <td>0.467770</td>\n",
       "    </tr>\n",
       "    <tr>\n",
       "      <th>20776</th>\n",
       "      <td>0</td>\n",
       "      <td>-0.120119</td>\n",
       "      <td>-0.144467</td>\n",
       "      <td>0.301409</td>\n",
       "      <td>0.153490</td>\n",
       "      <td>-0.103641</td>\n",
       "      <td>-0.039867</td>\n",
       "      <td>0.028589</td>\n",
       "      <td>-0.033955</td>\n",
       "      <td>-0.189469</td>\n",
       "      <td>...</td>\n",
       "      <td>-0.116788</td>\n",
       "      <td>-0.141753</td>\n",
       "      <td>-0.169298</td>\n",
       "      <td>-0.169561</td>\n",
       "      <td>-0.157989</td>\n",
       "      <td>-0.168674</td>\n",
       "      <td>-0.043746</td>\n",
       "      <td>-0.177432</td>\n",
       "      <td>-0.433885</td>\n",
       "      <td>-0.168045</td>\n",
       "    </tr>\n",
       "    <tr>\n",
       "      <th>57697</th>\n",
       "      <td>0</td>\n",
       "      <td>-0.149679</td>\n",
       "      <td>-0.062861</td>\n",
       "      <td>-0.171344</td>\n",
       "      <td>-0.245763</td>\n",
       "      <td>-0.118773</td>\n",
       "      <td>-0.195958</td>\n",
       "      <td>-0.079769</td>\n",
       "      <td>-0.138992</td>\n",
       "      <td>-0.109503</td>\n",
       "      <td>...</td>\n",
       "      <td>-0.122748</td>\n",
       "      <td>-0.149882</td>\n",
       "      <td>-0.179865</td>\n",
       "      <td>-0.180122</td>\n",
       "      <td>-0.172338</td>\n",
       "      <td>-0.132645</td>\n",
       "      <td>-0.128795</td>\n",
       "      <td>-0.132239</td>\n",
       "      <td>-0.451122</td>\n",
       "      <td>-0.123135</td>\n",
       "    </tr>\n",
       "    <tr>\n",
       "      <th>7284</th>\n",
       "      <td>0</td>\n",
       "      <td>0.035387</td>\n",
       "      <td>-0.152903</td>\n",
       "      <td>-0.098997</td>\n",
       "      <td>-0.187617</td>\n",
       "      <td>-0.118274</td>\n",
       "      <td>0.161706</td>\n",
       "      <td>-0.169452</td>\n",
       "      <td>-0.225925</td>\n",
       "      <td>-0.197734</td>\n",
       "      <td>...</td>\n",
       "      <td>-0.122978</td>\n",
       "      <td>-0.150195</td>\n",
       "      <td>-0.180273</td>\n",
       "      <td>-0.180529</td>\n",
       "      <td>-0.177545</td>\n",
       "      <td>-0.179933</td>\n",
       "      <td>-0.186583</td>\n",
       "      <td>-0.188814</td>\n",
       "      <td>-0.307728</td>\n",
       "      <td>-0.179356</td>\n",
       "    </tr>\n",
       "    <tr>\n",
       "      <th>83938</th>\n",
       "      <td>0</td>\n",
       "      <td>-0.120119</td>\n",
       "      <td>-0.067115</td>\n",
       "      <td>-0.161152</td>\n",
       "      <td>-0.200819</td>\n",
       "      <td>-0.118531</td>\n",
       "      <td>-0.146784</td>\n",
       "      <td>-0.084006</td>\n",
       "      <td>0.145217</td>\n",
       "      <td>0.178949</td>\n",
       "      <td>...</td>\n",
       "      <td>-0.060019</td>\n",
       "      <td>-0.064331</td>\n",
       "      <td>-0.068654</td>\n",
       "      <td>-0.068979</td>\n",
       "      <td>0.000879</td>\n",
       "      <td>-0.065430</td>\n",
       "      <td>0.137450</td>\n",
       "      <td>0.128417</td>\n",
       "      <td>-0.019888</td>\n",
       "      <td>-0.064323</td>\n",
       "    </tr>\n",
       "  </tbody>\n",
       "</table>\n",
       "<p>5 rows × 21 columns</p>\n",
       "</div>"
      ],
      "text/plain": [
       "        Fraud  Card_Amount_Act_median_30D  Card_Merch_Amount_max_7D  \\\n",
       "Recnum                                                                \n",
       "61285       0                   -0.042729                  0.329705   \n",
       "20776       0                   -0.120119                 -0.144467   \n",
       "57697       0                   -0.149679                 -0.062861   \n",
       "7284        0                    0.035387                 -0.152903   \n",
       "83938       0                   -0.120119                 -0.067115   \n",
       "\n",
       "        v_num_card_amount_card14  v_num_card_amount_card7  \\\n",
       "Recnum                                                      \n",
       "61285                  -0.175753                -0.248781   \n",
       "20776                   0.301409                 0.153490   \n",
       "57697                  -0.171344                -0.245763   \n",
       "7284                   -0.098997                -0.187617   \n",
       "83938                  -0.161152                -0.200819   \n",
       "\n",
       "        v_num_merch_amount_card7  v_num_merch_amount_merch14  \\\n",
       "Recnum                                                         \n",
       "61285                  -0.119465                   -0.191647   \n",
       "20776                  -0.103641                   -0.039867   \n",
       "57697                  -0.118773                   -0.195958   \n",
       "7284                   -0.118274                    0.161706   \n",
       "83938                  -0.118531                   -0.146784   \n",
       "\n",
       "        Card_Merch_Amount_max_30D  Card_State_Amount_max_30D  \\\n",
       "Recnum                                                         \n",
       "61285                    0.311229                   0.240022   \n",
       "20776                    0.028589                  -0.033955   \n",
       "57697                   -0.079769                  -0.138992   \n",
       "7284                    -0.169452                  -0.225925   \n",
       "83938                   -0.084006                   0.145217   \n",
       "\n",
       "        Card_State_Amount_max_14D  ...  Card_Zip_Amount_total_3D  \\\n",
       "Recnum                             ...                             \n",
       "61285                    0.275170  ...                  0.231208   \n",
       "20776                   -0.189469  ...                 -0.116788   \n",
       "57697                   -0.109503  ...                 -0.122748   \n",
       "7284                    -0.197734  ...                 -0.122978   \n",
       "83938                    0.178949  ...                 -0.060019   \n",
       "\n",
       "        Card_Zip_Amount_max_3D  Card_Zip_Amount_median_3D  \\\n",
       "Recnum                                                      \n",
       "61285                 0.332842                   0.447649   \n",
       "20776                -0.141753                  -0.169298   \n",
       "57697                -0.149882                  -0.179865   \n",
       "7284                 -0.150195                  -0.180273   \n",
       "83938                -0.064331                  -0.068654   \n",
       "\n",
       "        Card_Zip_Amount_mean_3D  Card_Amount_median_14D  \\\n",
       "Recnum                                                    \n",
       "61285                  0.447009                0.063996   \n",
       "20776                 -0.169561               -0.157989   \n",
       "57697                 -0.180122               -0.172338   \n",
       "7284                  -0.180529               -0.177545   \n",
       "83938                 -0.068979                0.000879   \n",
       "\n",
       "        Card_Merch_Amount_median_7D  Card_State_Amount_mean_30D  \\\n",
       "Recnum                                                            \n",
       "61285                      0.464213                    0.156768   \n",
       "20776                     -0.168674                   -0.043746   \n",
       "57697                     -0.132645                   -0.128795   \n",
       "7284                      -0.179933                   -0.186583   \n",
       "83938                     -0.065430                    0.137450   \n",
       "\n",
       "        Card_State_Amount_mean_14D  v_amount_card_num_card7  \\\n",
       "Recnum                                                        \n",
       "61285                     0.462389                 0.327241   \n",
       "20776                    -0.177432                -0.433885   \n",
       "57697                    -0.132239                -0.451122   \n",
       "7284                     -0.188814                -0.307728   \n",
       "83938                     0.128417                -0.019888   \n",
       "\n",
       "        Card_Merch_Amount_mean_14D  \n",
       "Recnum                              \n",
       "61285                     0.467770  \n",
       "20776                    -0.168045  \n",
       "57697                    -0.123135  \n",
       "7284                     -0.179356  \n",
       "83938                    -0.064323  \n",
       "\n",
       "[5 rows x 21 columns]"
      ]
     },
     "execution_count": 54,
     "metadata": {},
     "output_type": "execute_result"
    }
   ],
   "source": [
    "train.head()"
   ]
  },
  {
   "cell_type": "code",
   "execution_count": 55,
   "metadata": {},
   "outputs": [
    {
     "data": {
      "text/html": [
       "<div>\n",
       "<style scoped>\n",
       "    .dataframe tbody tr th:only-of-type {\n",
       "        vertical-align: middle;\n",
       "    }\n",
       "\n",
       "    .dataframe tbody tr th {\n",
       "        vertical-align: top;\n",
       "    }\n",
       "\n",
       "    .dataframe thead th {\n",
       "        text-align: right;\n",
       "    }\n",
       "</style>\n",
       "<table border=\"1\" class=\"dataframe\">\n",
       "  <thead>\n",
       "    <tr style=\"text-align: right;\">\n",
       "      <th></th>\n",
       "      <th>Fraud</th>\n",
       "      <th>Card_Amount_Act_median_30D</th>\n",
       "      <th>Card_Merch_Amount_max_7D</th>\n",
       "      <th>v_num_card_amount_card14</th>\n",
       "      <th>v_num_card_amount_card7</th>\n",
       "      <th>v_num_merch_amount_card7</th>\n",
       "      <th>v_num_merch_amount_merch14</th>\n",
       "      <th>Card_Merch_Amount_max_30D</th>\n",
       "      <th>Card_State_Amount_max_30D</th>\n",
       "      <th>Card_State_Amount_max_14D</th>\n",
       "      <th>...</th>\n",
       "      <th>Card_Zip_Amount_total_3D</th>\n",
       "      <th>Card_Zip_Amount_max_3D</th>\n",
       "      <th>Card_Zip_Amount_median_3D</th>\n",
       "      <th>Card_Zip_Amount_mean_3D</th>\n",
       "      <th>Card_Amount_median_14D</th>\n",
       "      <th>Card_Merch_Amount_median_7D</th>\n",
       "      <th>Card_State_Amount_mean_30D</th>\n",
       "      <th>Card_State_Amount_mean_14D</th>\n",
       "      <th>v_amount_card_num_card7</th>\n",
       "      <th>Card_Merch_Amount_mean_14D</th>\n",
       "    </tr>\n",
       "  </thead>\n",
       "  <tbody>\n",
       "    <tr>\n",
       "      <th>count</th>\n",
       "      <td>67439.000000</td>\n",
       "      <td>67439.000000</td>\n",
       "      <td>67439.000000</td>\n",
       "      <td>67439.000000</td>\n",
       "      <td>67439.000000</td>\n",
       "      <td>67439.000000</td>\n",
       "      <td>67439.000000</td>\n",
       "      <td>67439.000000</td>\n",
       "      <td>67439.000000</td>\n",
       "      <td>67439.000000</td>\n",
       "      <td>...</td>\n",
       "      <td>67439.000000</td>\n",
       "      <td>67439.000000</td>\n",
       "      <td>67439.000000</td>\n",
       "      <td>67439.000000</td>\n",
       "      <td>67439.000000</td>\n",
       "      <td>67439.000000</td>\n",
       "      <td>67439.000000</td>\n",
       "      <td>67439.000000</td>\n",
       "      <td>67439.000000</td>\n",
       "      <td>67439.000000</td>\n",
       "    </tr>\n",
       "    <tr>\n",
       "      <th>mean</th>\n",
       "      <td>0.010350</td>\n",
       "      <td>0.006837</td>\n",
       "      <td>0.000119</td>\n",
       "      <td>0.007408</td>\n",
       "      <td>0.009245</td>\n",
       "      <td>0.013316</td>\n",
       "      <td>-0.003163</td>\n",
       "      <td>0.000451</td>\n",
       "      <td>0.000740</td>\n",
       "      <td>0.000160</td>\n",
       "      <td>...</td>\n",
       "      <td>0.000492</td>\n",
       "      <td>0.000095</td>\n",
       "      <td>-0.000439</td>\n",
       "      <td>-0.000479</td>\n",
       "      <td>0.004815</td>\n",
       "      <td>-0.000851</td>\n",
       "      <td>0.000967</td>\n",
       "      <td>0.000541</td>\n",
       "      <td>-0.000338</td>\n",
       "      <td>0.000264</td>\n",
       "    </tr>\n",
       "    <tr>\n",
       "      <th>std</th>\n",
       "      <td>0.101208</td>\n",
       "      <td>1.097416</td>\n",
       "      <td>1.040219</td>\n",
       "      <td>0.830678</td>\n",
       "      <td>0.885574</td>\n",
       "      <td>1.071959</td>\n",
       "      <td>0.889737</td>\n",
       "      <td>1.039649</td>\n",
       "      <td>1.035745</td>\n",
       "      <td>1.037151</td>\n",
       "      <td>...</td>\n",
       "      <td>1.044059</td>\n",
       "      <td>1.040415</td>\n",
       "      <td>1.033109</td>\n",
       "      <td>1.032900</td>\n",
       "      <td>1.052365</td>\n",
       "      <td>1.033052</td>\n",
       "      <td>1.036631</td>\n",
       "      <td>1.033606</td>\n",
       "      <td>1.029082</td>\n",
       "      <td>1.034116</td>\n",
       "    </tr>\n",
       "    <tr>\n",
       "      <th>min</th>\n",
       "      <td>0.000000</td>\n",
       "      <td>-0.160211</td>\n",
       "      <td>-0.168566</td>\n",
       "      <td>-0.179910</td>\n",
       "      <td>-0.256505</td>\n",
       "      <td>-0.119615</td>\n",
       "      <td>-0.202937</td>\n",
       "      <td>-0.185052</td>\n",
       "      <td>-0.241048</td>\n",
       "      <td>-0.213083</td>\n",
       "      <td>...</td>\n",
       "      <td>-0.134474</td>\n",
       "      <td>-0.165873</td>\n",
       "      <td>-0.200653</td>\n",
       "      <td>-0.200896</td>\n",
       "      <td>-0.261894</td>\n",
       "      <td>-0.200839</td>\n",
       "      <td>-0.208172</td>\n",
       "      <td>-0.209949</td>\n",
       "      <td>-0.479974</td>\n",
       "      <td>-0.200358</td>\n",
       "    </tr>\n",
       "    <tr>\n",
       "      <th>25%</th>\n",
       "      <td>0.000000</td>\n",
       "      <td>-0.133872</td>\n",
       "      <td>-0.153160</td>\n",
       "      <td>-0.170082</td>\n",
       "      <td>-0.242393</td>\n",
       "      <td>-0.119118</td>\n",
       "      <td>-0.188243</td>\n",
       "      <td>-0.165869</td>\n",
       "      <td>-0.211664</td>\n",
       "      <td>-0.190080</td>\n",
       "      <td>...</td>\n",
       "      <td>-0.123077</td>\n",
       "      <td>-0.151136</td>\n",
       "      <td>-0.183425</td>\n",
       "      <td>-0.183496</td>\n",
       "      <td>-0.218166</td>\n",
       "      <td>-0.184357</td>\n",
       "      <td>-0.181783</td>\n",
       "      <td>-0.186951</td>\n",
       "      <td>-0.433885</td>\n",
       "      <td>-0.182628</td>\n",
       "    </tr>\n",
       "    <tr>\n",
       "      <th>50%</th>\n",
       "      <td>0.000000</td>\n",
       "      <td>-0.117090</td>\n",
       "      <td>-0.120983</td>\n",
       "      <td>-0.156514</td>\n",
       "      <td>-0.221692</td>\n",
       "      <td>-0.117963</td>\n",
       "      <td>-0.160467</td>\n",
       "      <td>-0.126377</td>\n",
       "      <td>-0.149270</td>\n",
       "      <td>-0.141574</td>\n",
       "      <td>...</td>\n",
       "      <td>-0.099365</td>\n",
       "      <td>-0.119938</td>\n",
       "      <td>-0.143772</td>\n",
       "      <td>-0.143863</td>\n",
       "      <td>-0.143084</td>\n",
       "      <td>-0.143753</td>\n",
       "      <td>-0.123511</td>\n",
       "      <td>-0.135230</td>\n",
       "      <td>-0.302793</td>\n",
       "      <td>-0.140591</td>\n",
       "    </tr>\n",
       "    <tr>\n",
       "      <th>75%</th>\n",
       "      <td>0.000000</td>\n",
       "      <td>-0.058265</td>\n",
       "      <td>-0.026372</td>\n",
       "      <td>-0.105634</td>\n",
       "      <td>-0.136278</td>\n",
       "      <td>-0.110833</td>\n",
       "      <td>-0.076981</td>\n",
       "      <td>-0.017261</td>\n",
       "      <td>0.019098</td>\n",
       "      <td>-0.003191</td>\n",
       "      <td>...</td>\n",
       "      <td>-0.028879</td>\n",
       "      <td>-0.028135</td>\n",
       "      <td>-0.028500</td>\n",
       "      <td>-0.028685</td>\n",
       "      <td>0.001887</td>\n",
       "      <td>-0.025947</td>\n",
       "      <td>0.002418</td>\n",
       "      <td>-0.006035</td>\n",
       "      <td>0.032521</td>\n",
       "      <td>-0.021002</td>\n",
       "    </tr>\n",
       "    <tr>\n",
       "      <th>max</th>\n",
       "      <td>1.000000</td>\n",
       "      <td>172.276381</td>\n",
       "      <td>52.243400</td>\n",
       "      <td>128.832259</td>\n",
       "      <td>109.649404</td>\n",
       "      <td>51.448014</td>\n",
       "      <td>139.288013</td>\n",
       "      <td>52.017693</td>\n",
       "      <td>50.361630</td>\n",
       "      <td>51.145151</td>\n",
       "      <td>...</td>\n",
       "      <td>54.102343</td>\n",
       "      <td>52.292759</td>\n",
       "      <td>47.876426</td>\n",
       "      <td>47.846760</td>\n",
       "      <td>29.176163</td>\n",
       "      <td>49.118417</td>\n",
       "      <td>50.720573</td>\n",
       "      <td>49.649640</td>\n",
       "      <td>55.088561</td>\n",
       "      <td>49.346992</td>\n",
       "    </tr>\n",
       "  </tbody>\n",
       "</table>\n",
       "<p>8 rows × 21 columns</p>\n",
       "</div>"
      ],
      "text/plain": [
       "              Fraud  Card_Amount_Act_median_30D  Card_Merch_Amount_max_7D  \\\n",
       "count  67439.000000                67439.000000              67439.000000   \n",
       "mean       0.010350                    0.006837                  0.000119   \n",
       "std        0.101208                    1.097416                  1.040219   \n",
       "min        0.000000                   -0.160211                 -0.168566   \n",
       "25%        0.000000                   -0.133872                 -0.153160   \n",
       "50%        0.000000                   -0.117090                 -0.120983   \n",
       "75%        0.000000                   -0.058265                 -0.026372   \n",
       "max        1.000000                  172.276381                 52.243400   \n",
       "\n",
       "       v_num_card_amount_card14  v_num_card_amount_card7  \\\n",
       "count              67439.000000             67439.000000   \n",
       "mean                   0.007408                 0.009245   \n",
       "std                    0.830678                 0.885574   \n",
       "min                   -0.179910                -0.256505   \n",
       "25%                   -0.170082                -0.242393   \n",
       "50%                   -0.156514                -0.221692   \n",
       "75%                   -0.105634                -0.136278   \n",
       "max                  128.832259               109.649404   \n",
       "\n",
       "       v_num_merch_amount_card7  v_num_merch_amount_merch14  \\\n",
       "count              67439.000000                67439.000000   \n",
       "mean                   0.013316                   -0.003163   \n",
       "std                    1.071959                    0.889737   \n",
       "min                   -0.119615                   -0.202937   \n",
       "25%                   -0.119118                   -0.188243   \n",
       "50%                   -0.117963                   -0.160467   \n",
       "75%                   -0.110833                   -0.076981   \n",
       "max                   51.448014                  139.288013   \n",
       "\n",
       "       Card_Merch_Amount_max_30D  Card_State_Amount_max_30D  \\\n",
       "count               67439.000000               67439.000000   \n",
       "mean                    0.000451                   0.000740   \n",
       "std                     1.039649                   1.035745   \n",
       "min                    -0.185052                  -0.241048   \n",
       "25%                    -0.165869                  -0.211664   \n",
       "50%                    -0.126377                  -0.149270   \n",
       "75%                    -0.017261                   0.019098   \n",
       "max                    52.017693                  50.361630   \n",
       "\n",
       "       Card_State_Amount_max_14D  ...  Card_Zip_Amount_total_3D  \\\n",
       "count               67439.000000  ...              67439.000000   \n",
       "mean                    0.000160  ...                  0.000492   \n",
       "std                     1.037151  ...                  1.044059   \n",
       "min                    -0.213083  ...                 -0.134474   \n",
       "25%                    -0.190080  ...                 -0.123077   \n",
       "50%                    -0.141574  ...                 -0.099365   \n",
       "75%                    -0.003191  ...                 -0.028879   \n",
       "max                    51.145151  ...                 54.102343   \n",
       "\n",
       "       Card_Zip_Amount_max_3D  Card_Zip_Amount_median_3D  \\\n",
       "count            67439.000000               67439.000000   \n",
       "mean                 0.000095                  -0.000439   \n",
       "std                  1.040415                   1.033109   \n",
       "min                 -0.165873                  -0.200653   \n",
       "25%                 -0.151136                  -0.183425   \n",
       "50%                 -0.119938                  -0.143772   \n",
       "75%                 -0.028135                  -0.028500   \n",
       "max                 52.292759                  47.876426   \n",
       "\n",
       "       Card_Zip_Amount_mean_3D  Card_Amount_median_14D  \\\n",
       "count             67439.000000            67439.000000   \n",
       "mean                 -0.000479                0.004815   \n",
       "std                   1.032900                1.052365   \n",
       "min                  -0.200896               -0.261894   \n",
       "25%                  -0.183496               -0.218166   \n",
       "50%                  -0.143863               -0.143084   \n",
       "75%                  -0.028685                0.001887   \n",
       "max                  47.846760               29.176163   \n",
       "\n",
       "       Card_Merch_Amount_median_7D  Card_State_Amount_mean_30D  \\\n",
       "count                 67439.000000                67439.000000   \n",
       "mean                     -0.000851                    0.000967   \n",
       "std                       1.033052                    1.036631   \n",
       "min                      -0.200839                   -0.208172   \n",
       "25%                      -0.184357                   -0.181783   \n",
       "50%                      -0.143753                   -0.123511   \n",
       "75%                      -0.025947                    0.002418   \n",
       "max                      49.118417                   50.720573   \n",
       "\n",
       "       Card_State_Amount_mean_14D  v_amount_card_num_card7  \\\n",
       "count                67439.000000             67439.000000   \n",
       "mean                     0.000541                -0.000338   \n",
       "std                      1.033606                 1.029082   \n",
       "min                     -0.209949                -0.479974   \n",
       "25%                     -0.186951                -0.433885   \n",
       "50%                     -0.135230                -0.302793   \n",
       "75%                     -0.006035                 0.032521   \n",
       "max                     49.649640                55.088561   \n",
       "\n",
       "       Card_Merch_Amount_mean_14D  \n",
       "count                67439.000000  \n",
       "mean                     0.000264  \n",
       "std                      1.034116  \n",
       "min                     -0.200358  \n",
       "25%                     -0.182628  \n",
       "50%                     -0.140591  \n",
       "75%                     -0.021002  \n",
       "max                     49.346992  \n",
       "\n",
       "[8 rows x 21 columns]"
      ]
     },
     "execution_count": 55,
     "metadata": {},
     "output_type": "execute_result"
    }
   ],
   "source": [
    "train.describe()"
   ]
  },
  {
   "cell_type": "code",
   "execution_count": 56,
   "metadata": {},
   "outputs": [
    {
     "data": {
      "text/plain": [
       "0.010350094159166061"
      ]
     },
     "execution_count": 56,
     "metadata": {},
     "output_type": "execute_result"
    }
   ],
   "source": [
    "sum(train['Fraud'])\n",
    "sum(train['Fraud'])/len(train['Fraud'])"
   ]
  },
  {
   "cell_type": "code",
   "execution_count": 57,
   "metadata": {},
   "outputs": [
    {
     "data": {
      "text/html": [
       "<div>\n",
       "<style scoped>\n",
       "    .dataframe tbody tr th:only-of-type {\n",
       "        vertical-align: middle;\n",
       "    }\n",
       "\n",
       "    .dataframe tbody tr th {\n",
       "        vertical-align: top;\n",
       "    }\n",
       "\n",
       "    .dataframe thead th {\n",
       "        text-align: right;\n",
       "    }\n",
       "</style>\n",
       "<table border=\"1\" class=\"dataframe\">\n",
       "  <thead>\n",
       "    <tr style=\"text-align: right;\">\n",
       "      <th></th>\n",
       "      <th>Fraud</th>\n",
       "      <th>Card_Amount_Act_median_30D</th>\n",
       "      <th>Card_Merch_Amount_max_7D</th>\n",
       "      <th>v_num_card_amount_card14</th>\n",
       "      <th>v_num_card_amount_card7</th>\n",
       "      <th>v_num_merch_amount_card7</th>\n",
       "      <th>v_num_merch_amount_merch14</th>\n",
       "      <th>Card_Merch_Amount_max_30D</th>\n",
       "      <th>Card_State_Amount_max_30D</th>\n",
       "      <th>Card_State_Amount_max_14D</th>\n",
       "      <th>...</th>\n",
       "      <th>Card_Zip_Amount_total_3D</th>\n",
       "      <th>Card_Zip_Amount_max_3D</th>\n",
       "      <th>Card_Zip_Amount_median_3D</th>\n",
       "      <th>Card_Zip_Amount_mean_3D</th>\n",
       "      <th>Card_Amount_median_14D</th>\n",
       "      <th>Card_Merch_Amount_median_7D</th>\n",
       "      <th>Card_State_Amount_mean_30D</th>\n",
       "      <th>Card_State_Amount_mean_14D</th>\n",
       "      <th>v_amount_card_num_card7</th>\n",
       "      <th>Card_Merch_Amount_mean_14D</th>\n",
       "    </tr>\n",
       "    <tr>\n",
       "      <th>Recnum</th>\n",
       "      <th></th>\n",
       "      <th></th>\n",
       "      <th></th>\n",
       "      <th></th>\n",
       "      <th></th>\n",
       "      <th></th>\n",
       "      <th></th>\n",
       "      <th></th>\n",
       "      <th></th>\n",
       "      <th></th>\n",
       "      <th></th>\n",
       "      <th></th>\n",
       "      <th></th>\n",
       "      <th></th>\n",
       "      <th></th>\n",
       "      <th></th>\n",
       "      <th></th>\n",
       "      <th></th>\n",
       "      <th></th>\n",
       "      <th></th>\n",
       "      <th></th>\n",
       "    </tr>\n",
       "  </thead>\n",
       "  <tbody>\n",
       "    <tr>\n",
       "      <th>52846</th>\n",
       "      <td>0</td>\n",
       "      <td>-0.079432</td>\n",
       "      <td>-0.082046</td>\n",
       "      <td>-0.150362</td>\n",
       "      <td>-0.220624</td>\n",
       "      <td>-0.118216</td>\n",
       "      <td>-0.137063</td>\n",
       "      <td>-0.098877</td>\n",
       "      <td>-0.157514</td>\n",
       "      <td>-0.128302</td>\n",
       "      <td>...</td>\n",
       "      <td>-0.070976</td>\n",
       "      <td>-0.079275</td>\n",
       "      <td>-0.088081</td>\n",
       "      <td>-0.088393</td>\n",
       "      <td>-0.170159</td>\n",
       "      <td>-0.085358</td>\n",
       "      <td>-0.088922</td>\n",
       "      <td>-0.093203</td>\n",
       "      <td>-0.088858</td>\n",
       "      <td>-0.084344</td>\n",
       "    </tr>\n",
       "    <tr>\n",
       "      <th>79652</th>\n",
       "      <td>0</td>\n",
       "      <td>-0.120119</td>\n",
       "      <td>-0.059150</td>\n",
       "      <td>-0.131671</td>\n",
       "      <td>-0.215452</td>\n",
       "      <td>-0.105188</td>\n",
       "      <td>-0.196731</td>\n",
       "      <td>-0.076073</td>\n",
       "      <td>-0.135409</td>\n",
       "      <td>-0.105866</td>\n",
       "      <td>...</td>\n",
       "      <td>-0.054173</td>\n",
       "      <td>-0.056359</td>\n",
       "      <td>-0.058290</td>\n",
       "      <td>-0.058621</td>\n",
       "      <td>-0.073582</td>\n",
       "      <td>-0.054798</td>\n",
       "      <td>-0.057365</td>\n",
       "      <td>-0.062309</td>\n",
       "      <td>0.509321</td>\n",
       "      <td>-0.053642</td>\n",
       "    </tr>\n",
       "    <tr>\n",
       "      <th>61111</th>\n",
       "      <td>0</td>\n",
       "      <td>-0.103954</td>\n",
       "      <td>0.045184</td>\n",
       "      <td>-0.155251</td>\n",
       "      <td>-0.235540</td>\n",
       "      <td>-0.117976</td>\n",
       "      <td>-0.159359</td>\n",
       "      <td>0.027845</td>\n",
       "      <td>-0.034677</td>\n",
       "      <td>-0.003630</td>\n",
       "      <td>...</td>\n",
       "      <td>0.022398</td>\n",
       "      <td>0.048068</td>\n",
       "      <td>0.077458</td>\n",
       "      <td>0.077045</td>\n",
       "      <td>0.106046</td>\n",
       "      <td>0.084458</td>\n",
       "      <td>0.086435</td>\n",
       "      <td>0.078473</td>\n",
       "      <td>1.452679</td>\n",
       "      <td>0.086258</td>\n",
       "    </tr>\n",
       "    <tr>\n",
       "      <th>71644</th>\n",
       "      <td>0</td>\n",
       "      <td>-0.120177</td>\n",
       "      <td>-0.001548</td>\n",
       "      <td>-0.112437</td>\n",
       "      <td>-0.154667</td>\n",
       "      <td>-0.115646</td>\n",
       "      <td>-0.103516</td>\n",
       "      <td>-0.018701</td>\n",
       "      <td>-0.079795</td>\n",
       "      <td>-0.049423</td>\n",
       "      <td>...</td>\n",
       "      <td>-0.011899</td>\n",
       "      <td>0.001294</td>\n",
       "      <td>0.016655</td>\n",
       "      <td>0.016279</td>\n",
       "      <td>0.025589</td>\n",
       "      <td>0.022084</td>\n",
       "      <td>0.022026</td>\n",
       "      <td>0.015416</td>\n",
       "      <td>-0.312222</td>\n",
       "      <td>0.023595</td>\n",
       "    </tr>\n",
       "    <tr>\n",
       "      <th>82706</th>\n",
       "      <td>0</td>\n",
       "      <td>-0.120119</td>\n",
       "      <td>-0.115551</td>\n",
       "      <td>-0.080279</td>\n",
       "      <td>-0.171672</td>\n",
       "      <td>-0.116309</td>\n",
       "      <td>-0.095318</td>\n",
       "      <td>-0.132249</td>\n",
       "      <td>-0.189863</td>\n",
       "      <td>-0.161134</td>\n",
       "      <td>...</td>\n",
       "      <td>-0.095566</td>\n",
       "      <td>-0.112810</td>\n",
       "      <td>-0.131674</td>\n",
       "      <td>-0.131960</td>\n",
       "      <td>-0.170686</td>\n",
       "      <td>-0.130078</td>\n",
       "      <td>-0.135102</td>\n",
       "      <td>-0.138413</td>\n",
       "      <td>-0.000646</td>\n",
       "      <td>-0.129271</td>\n",
       "    </tr>\n",
       "  </tbody>\n",
       "</table>\n",
       "<p>5 rows × 21 columns</p>\n",
       "</div>"
      ],
      "text/plain": [
       "        Fraud  Card_Amount_Act_median_30D  Card_Merch_Amount_max_7D  \\\n",
       "Recnum                                                                \n",
       "52846       0                   -0.079432                 -0.082046   \n",
       "79652       0                   -0.120119                 -0.059150   \n",
       "61111       0                   -0.103954                  0.045184   \n",
       "71644       0                   -0.120177                 -0.001548   \n",
       "82706       0                   -0.120119                 -0.115551   \n",
       "\n",
       "        v_num_card_amount_card14  v_num_card_amount_card7  \\\n",
       "Recnum                                                      \n",
       "52846                  -0.150362                -0.220624   \n",
       "79652                  -0.131671                -0.215452   \n",
       "61111                  -0.155251                -0.235540   \n",
       "71644                  -0.112437                -0.154667   \n",
       "82706                  -0.080279                -0.171672   \n",
       "\n",
       "        v_num_merch_amount_card7  v_num_merch_amount_merch14  \\\n",
       "Recnum                                                         \n",
       "52846                  -0.118216                   -0.137063   \n",
       "79652                  -0.105188                   -0.196731   \n",
       "61111                  -0.117976                   -0.159359   \n",
       "71644                  -0.115646                   -0.103516   \n",
       "82706                  -0.116309                   -0.095318   \n",
       "\n",
       "        Card_Merch_Amount_max_30D  Card_State_Amount_max_30D  \\\n",
       "Recnum                                                         \n",
       "52846                   -0.098877                  -0.157514   \n",
       "79652                   -0.076073                  -0.135409   \n",
       "61111                    0.027845                  -0.034677   \n",
       "71644                   -0.018701                  -0.079795   \n",
       "82706                   -0.132249                  -0.189863   \n",
       "\n",
       "        Card_State_Amount_max_14D  ...  Card_Zip_Amount_total_3D  \\\n",
       "Recnum                             ...                             \n",
       "52846                   -0.128302  ...                 -0.070976   \n",
       "79652                   -0.105866  ...                 -0.054173   \n",
       "61111                   -0.003630  ...                  0.022398   \n",
       "71644                   -0.049423  ...                 -0.011899   \n",
       "82706                   -0.161134  ...                 -0.095566   \n",
       "\n",
       "        Card_Zip_Amount_max_3D  Card_Zip_Amount_median_3D  \\\n",
       "Recnum                                                      \n",
       "52846                -0.079275                  -0.088081   \n",
       "79652                -0.056359                  -0.058290   \n",
       "61111                 0.048068                   0.077458   \n",
       "71644                 0.001294                   0.016655   \n",
       "82706                -0.112810                  -0.131674   \n",
       "\n",
       "        Card_Zip_Amount_mean_3D  Card_Amount_median_14D  \\\n",
       "Recnum                                                    \n",
       "52846                 -0.088393               -0.170159   \n",
       "79652                 -0.058621               -0.073582   \n",
       "61111                  0.077045                0.106046   \n",
       "71644                  0.016279                0.025589   \n",
       "82706                 -0.131960               -0.170686   \n",
       "\n",
       "        Card_Merch_Amount_median_7D  Card_State_Amount_mean_30D  \\\n",
       "Recnum                                                            \n",
       "52846                     -0.085358                   -0.088922   \n",
       "79652                     -0.054798                   -0.057365   \n",
       "61111                      0.084458                    0.086435   \n",
       "71644                      0.022084                    0.022026   \n",
       "82706                     -0.130078                   -0.135102   \n",
       "\n",
       "        Card_State_Amount_mean_14D  v_amount_card_num_card7  \\\n",
       "Recnum                                                        \n",
       "52846                    -0.093203                -0.088858   \n",
       "79652                    -0.062309                 0.509321   \n",
       "61111                     0.078473                 1.452679   \n",
       "71644                     0.015416                -0.312222   \n",
       "82706                    -0.138413                -0.000646   \n",
       "\n",
       "        Card_Merch_Amount_mean_14D  \n",
       "Recnum                              \n",
       "52846                    -0.084344  \n",
       "79652                    -0.053642  \n",
       "61111                     0.086258  \n",
       "71644                     0.023595  \n",
       "82706                    -0.129271  \n",
       "\n",
       "[5 rows x 21 columns]"
      ]
     },
     "execution_count": 57,
     "metadata": {},
     "output_type": "execute_result"
    }
   ],
   "source": [
    "test.head()"
   ]
  },
  {
   "cell_type": "code",
   "execution_count": 58,
   "metadata": {},
   "outputs": [
    {
     "data": {
      "text/html": [
       "<div>\n",
       "<style scoped>\n",
       "    .dataframe tbody tr th:only-of-type {\n",
       "        vertical-align: middle;\n",
       "    }\n",
       "\n",
       "    .dataframe tbody tr th {\n",
       "        vertical-align: top;\n",
       "    }\n",
       "\n",
       "    .dataframe thead th {\n",
       "        text-align: right;\n",
       "    }\n",
       "</style>\n",
       "<table border=\"1\" class=\"dataframe\">\n",
       "  <thead>\n",
       "    <tr style=\"text-align: right;\">\n",
       "      <th></th>\n",
       "      <th>Fraud</th>\n",
       "      <th>Card_Amount_Act_median_30D</th>\n",
       "      <th>Card_Merch_Amount_max_7D</th>\n",
       "      <th>v_num_card_amount_card14</th>\n",
       "      <th>v_num_card_amount_card7</th>\n",
       "      <th>v_num_merch_amount_card7</th>\n",
       "      <th>v_num_merch_amount_merch14</th>\n",
       "      <th>Card_Merch_Amount_max_30D</th>\n",
       "      <th>Card_State_Amount_max_30D</th>\n",
       "      <th>Card_State_Amount_max_14D</th>\n",
       "      <th>...</th>\n",
       "      <th>Card_Zip_Amount_total_3D</th>\n",
       "      <th>Card_Zip_Amount_max_3D</th>\n",
       "      <th>Card_Zip_Amount_median_3D</th>\n",
       "      <th>Card_Zip_Amount_mean_3D</th>\n",
       "      <th>Card_Amount_median_14D</th>\n",
       "      <th>Card_Merch_Amount_median_7D</th>\n",
       "      <th>Card_State_Amount_mean_30D</th>\n",
       "      <th>Card_State_Amount_mean_14D</th>\n",
       "      <th>v_amount_card_num_card7</th>\n",
       "      <th>Card_Merch_Amount_mean_14D</th>\n",
       "    </tr>\n",
       "  </thead>\n",
       "  <tbody>\n",
       "    <tr>\n",
       "      <th>count</th>\n",
       "      <td>16860.000000</td>\n",
       "      <td>16860.000000</td>\n",
       "      <td>16860.000000</td>\n",
       "      <td>16860.000000</td>\n",
       "      <td>16860.000000</td>\n",
       "      <td>16860.000000</td>\n",
       "      <td>16860.000000</td>\n",
       "      <td>16860.000000</td>\n",
       "      <td>16860.000000</td>\n",
       "      <td>16860.000000</td>\n",
       "      <td>...</td>\n",
       "      <td>16860.000000</td>\n",
       "      <td>16860.000000</td>\n",
       "      <td>16860.000000</td>\n",
       "      <td>16860.000000</td>\n",
       "      <td>16860.000000</td>\n",
       "      <td>16860.000000</td>\n",
       "      <td>16860.000000</td>\n",
       "      <td>16860.000000</td>\n",
       "      <td>16860.000000</td>\n",
       "      <td>16860.000000</td>\n",
       "    </tr>\n",
       "    <tr>\n",
       "      <th>mean</th>\n",
       "      <td>0.010795</td>\n",
       "      <td>0.011238</td>\n",
       "      <td>0.008993</td>\n",
       "      <td>0.013380</td>\n",
       "      <td>0.012578</td>\n",
       "      <td>0.009646</td>\n",
       "      <td>0.005798</td>\n",
       "      <td>0.008957</td>\n",
       "      <td>0.007501</td>\n",
       "      <td>0.007038</td>\n",
       "      <td>...</td>\n",
       "      <td>0.006999</td>\n",
       "      <td>0.007690</td>\n",
       "      <td>0.006831</td>\n",
       "      <td>0.007031</td>\n",
       "      <td>0.005956</td>\n",
       "      <td>0.006148</td>\n",
       "      <td>0.005978</td>\n",
       "      <td>0.005832</td>\n",
       "      <td>0.004209</td>\n",
       "      <td>0.006677</td>\n",
       "    </tr>\n",
       "    <tr>\n",
       "      <th>std</th>\n",
       "      <td>0.103339</td>\n",
       "      <td>0.925062</td>\n",
       "      <td>1.124757</td>\n",
       "      <td>1.684186</td>\n",
       "      <td>1.529370</td>\n",
       "      <td>1.022207</td>\n",
       "      <td>1.393149</td>\n",
       "      <td>1.124042</td>\n",
       "      <td>1.122173</td>\n",
       "      <td>1.121671</td>\n",
       "      <td>...</td>\n",
       "      <td>1.120069</td>\n",
       "      <td>1.123608</td>\n",
       "      <td>1.117014</td>\n",
       "      <td>1.117906</td>\n",
       "      <td>1.073830</td>\n",
       "      <td>1.112527</td>\n",
       "      <td>1.119071</td>\n",
       "      <td>1.115670</td>\n",
       "      <td>0.952077</td>\n",
       "      <td>1.112942</td>\n",
       "    </tr>\n",
       "    <tr>\n",
       "      <th>min</th>\n",
       "      <td>0.000000</td>\n",
       "      <td>-0.160168</td>\n",
       "      <td>-0.168535</td>\n",
       "      <td>-0.179909</td>\n",
       "      <td>-0.256546</td>\n",
       "      <td>-0.119615</td>\n",
       "      <td>-0.202794</td>\n",
       "      <td>-0.185014</td>\n",
       "      <td>-0.241011</td>\n",
       "      <td>-0.213052</td>\n",
       "      <td>...</td>\n",
       "      <td>-0.134451</td>\n",
       "      <td>-0.165841</td>\n",
       "      <td>-0.200612</td>\n",
       "      <td>-0.200856</td>\n",
       "      <td>-0.261907</td>\n",
       "      <td>-0.200797</td>\n",
       "      <td>-0.208119</td>\n",
       "      <td>-0.209907</td>\n",
       "      <td>-0.479906</td>\n",
       "      <td>-0.200316</td>\n",
       "    </tr>\n",
       "    <tr>\n",
       "      <th>25%</th>\n",
       "      <td>0.000000</td>\n",
       "      <td>-0.133157</td>\n",
       "      <td>-0.152816</td>\n",
       "      <td>-0.169880</td>\n",
       "      <td>-0.242377</td>\n",
       "      <td>-0.119117</td>\n",
       "      <td>-0.188596</td>\n",
       "      <td>-0.165405</td>\n",
       "      <td>-0.211154</td>\n",
       "      <td>-0.189844</td>\n",
       "      <td>...</td>\n",
       "      <td>-0.123021</td>\n",
       "      <td>-0.151134</td>\n",
       "      <td>-0.183138</td>\n",
       "      <td>-0.183166</td>\n",
       "      <td>-0.217404</td>\n",
       "      <td>-0.183860</td>\n",
       "      <td>-0.181367</td>\n",
       "      <td>-0.186473</td>\n",
       "      <td>-0.433783</td>\n",
       "      <td>-0.182372</td>\n",
       "    </tr>\n",
       "    <tr>\n",
       "      <th>50%</th>\n",
       "      <td>0.000000</td>\n",
       "      <td>-0.116295</td>\n",
       "      <td>-0.120366</td>\n",
       "      <td>-0.156063</td>\n",
       "      <td>-0.221346</td>\n",
       "      <td>-0.117994</td>\n",
       "      <td>-0.161342</td>\n",
       "      <td>-0.125283</td>\n",
       "      <td>-0.149137</td>\n",
       "      <td>-0.140114</td>\n",
       "      <td>...</td>\n",
       "      <td>-0.099100</td>\n",
       "      <td>-0.119022</td>\n",
       "      <td>-0.142560</td>\n",
       "      <td>-0.142620</td>\n",
       "      <td>-0.141277</td>\n",
       "      <td>-0.142605</td>\n",
       "      <td>-0.123310</td>\n",
       "      <td>-0.134522</td>\n",
       "      <td>-0.295366</td>\n",
       "      <td>-0.139315</td>\n",
       "    </tr>\n",
       "    <tr>\n",
       "      <th>75%</th>\n",
       "      <td>0.000000</td>\n",
       "      <td>-0.058470</td>\n",
       "      <td>-0.023973</td>\n",
       "      <td>-0.106447</td>\n",
       "      <td>-0.140520</td>\n",
       "      <td>-0.111127</td>\n",
       "      <td>-0.073229</td>\n",
       "      <td>-0.017021</td>\n",
       "      <td>0.016468</td>\n",
       "      <td>-0.002674</td>\n",
       "      <td>...</td>\n",
       "      <td>-0.028702</td>\n",
       "      <td>-0.027170</td>\n",
       "      <td>-0.026869</td>\n",
       "      <td>-0.026969</td>\n",
       "      <td>0.000901</td>\n",
       "      <td>-0.023158</td>\n",
       "      <td>0.000961</td>\n",
       "      <td>-0.006088</td>\n",
       "      <td>0.042869</td>\n",
       "      <td>-0.018103</td>\n",
       "    </tr>\n",
       "    <tr>\n",
       "      <th>max</th>\n",
       "      <td>1.000000</td>\n",
       "      <td>28.975467</td>\n",
       "      <td>52.243400</td>\n",
       "      <td>156.477738</td>\n",
       "      <td>133.200692</td>\n",
       "      <td>35.269847</td>\n",
       "      <td>139.288013</td>\n",
       "      <td>52.017693</td>\n",
       "      <td>50.361630</td>\n",
       "      <td>51.145151</td>\n",
       "      <td>...</td>\n",
       "      <td>54.102343</td>\n",
       "      <td>52.292759</td>\n",
       "      <td>47.876426</td>\n",
       "      <td>47.846760</td>\n",
       "      <td>29.176163</td>\n",
       "      <td>49.118417</td>\n",
       "      <td>50.720573</td>\n",
       "      <td>49.649640</td>\n",
       "      <td>22.270412</td>\n",
       "      <td>49.346992</td>\n",
       "    </tr>\n",
       "  </tbody>\n",
       "</table>\n",
       "<p>8 rows × 21 columns</p>\n",
       "</div>"
      ],
      "text/plain": [
       "              Fraud  Card_Amount_Act_median_30D  Card_Merch_Amount_max_7D  \\\n",
       "count  16860.000000                16860.000000              16860.000000   \n",
       "mean       0.010795                    0.011238                  0.008993   \n",
       "std        0.103339                    0.925062                  1.124757   \n",
       "min        0.000000                   -0.160168                 -0.168535   \n",
       "25%        0.000000                   -0.133157                 -0.152816   \n",
       "50%        0.000000                   -0.116295                 -0.120366   \n",
       "75%        0.000000                   -0.058470                 -0.023973   \n",
       "max        1.000000                   28.975467                 52.243400   \n",
       "\n",
       "       v_num_card_amount_card14  v_num_card_amount_card7  \\\n",
       "count              16860.000000             16860.000000   \n",
       "mean                   0.013380                 0.012578   \n",
       "std                    1.684186                 1.529370   \n",
       "min                   -0.179909                -0.256546   \n",
       "25%                   -0.169880                -0.242377   \n",
       "50%                   -0.156063                -0.221346   \n",
       "75%                   -0.106447                -0.140520   \n",
       "max                  156.477738               133.200692   \n",
       "\n",
       "       v_num_merch_amount_card7  v_num_merch_amount_merch14  \\\n",
       "count              16860.000000                16860.000000   \n",
       "mean                   0.009646                    0.005798   \n",
       "std                    1.022207                    1.393149   \n",
       "min                   -0.119615                   -0.202794   \n",
       "25%                   -0.119117                   -0.188596   \n",
       "50%                   -0.117994                   -0.161342   \n",
       "75%                   -0.111127                   -0.073229   \n",
       "max                   35.269847                  139.288013   \n",
       "\n",
       "       Card_Merch_Amount_max_30D  Card_State_Amount_max_30D  \\\n",
       "count               16860.000000               16860.000000   \n",
       "mean                    0.008957                   0.007501   \n",
       "std                     1.124042                   1.122173   \n",
       "min                    -0.185014                  -0.241011   \n",
       "25%                    -0.165405                  -0.211154   \n",
       "50%                    -0.125283                  -0.149137   \n",
       "75%                    -0.017021                   0.016468   \n",
       "max                    52.017693                  50.361630   \n",
       "\n",
       "       Card_State_Amount_max_14D  ...  Card_Zip_Amount_total_3D  \\\n",
       "count               16860.000000  ...              16860.000000   \n",
       "mean                    0.007038  ...                  0.006999   \n",
       "std                     1.121671  ...                  1.120069   \n",
       "min                    -0.213052  ...                 -0.134451   \n",
       "25%                    -0.189844  ...                 -0.123021   \n",
       "50%                    -0.140114  ...                 -0.099100   \n",
       "75%                    -0.002674  ...                 -0.028702   \n",
       "max                    51.145151  ...                 54.102343   \n",
       "\n",
       "       Card_Zip_Amount_max_3D  Card_Zip_Amount_median_3D  \\\n",
       "count            16860.000000               16860.000000   \n",
       "mean                 0.007690                   0.006831   \n",
       "std                  1.123608                   1.117014   \n",
       "min                 -0.165841                  -0.200612   \n",
       "25%                 -0.151134                  -0.183138   \n",
       "50%                 -0.119022                  -0.142560   \n",
       "75%                 -0.027170                  -0.026869   \n",
       "max                 52.292759                  47.876426   \n",
       "\n",
       "       Card_Zip_Amount_mean_3D  Card_Amount_median_14D  \\\n",
       "count             16860.000000            16860.000000   \n",
       "mean                  0.007031                0.005956   \n",
       "std                   1.117906                1.073830   \n",
       "min                  -0.200856               -0.261907   \n",
       "25%                  -0.183166               -0.217404   \n",
       "50%                  -0.142620               -0.141277   \n",
       "75%                  -0.026969                0.000901   \n",
       "max                  47.846760               29.176163   \n",
       "\n",
       "       Card_Merch_Amount_median_7D  Card_State_Amount_mean_30D  \\\n",
       "count                 16860.000000                16860.000000   \n",
       "mean                      0.006148                    0.005978   \n",
       "std                       1.112527                    1.119071   \n",
       "min                      -0.200797                   -0.208119   \n",
       "25%                      -0.183860                   -0.181367   \n",
       "50%                      -0.142605                   -0.123310   \n",
       "75%                      -0.023158                    0.000961   \n",
       "max                      49.118417                   50.720573   \n",
       "\n",
       "       Card_State_Amount_mean_14D  v_amount_card_num_card7  \\\n",
       "count                16860.000000             16860.000000   \n",
       "mean                     0.005832                 0.004209   \n",
       "std                      1.115670                 0.952077   \n",
       "min                     -0.209907                -0.479906   \n",
       "25%                     -0.186473                -0.433783   \n",
       "50%                     -0.134522                -0.295366   \n",
       "75%                     -0.006088                 0.042869   \n",
       "max                     49.649640                22.270412   \n",
       "\n",
       "       Card_Merch_Amount_mean_14D  \n",
       "count                16860.000000  \n",
       "mean                     0.006677  \n",
       "std                      1.112942  \n",
       "min                     -0.200316  \n",
       "25%                     -0.182372  \n",
       "50%                     -0.139315  \n",
       "75%                     -0.018103  \n",
       "max                     49.346992  \n",
       "\n",
       "[8 rows x 21 columns]"
      ]
     },
     "execution_count": 58,
     "metadata": {},
     "output_type": "execute_result"
    }
   ],
   "source": [
    "test.describe()"
   ]
  },
  {
   "cell_type": "code",
   "execution_count": 59,
   "metadata": {},
   "outputs": [
    {
     "data": {
      "text/plain": [
       "0.010794780545670225"
      ]
     },
     "execution_count": 59,
     "metadata": {},
     "output_type": "execute_result"
    }
   ],
   "source": [
    "sum(test['Fraud'])\n",
    "sum(test['Fraud'])/len(test['Fraud'])"
   ]
  },
  {
   "cell_type": "markdown",
   "metadata": {
    "nbpresent": {
     "id": "6dd1e682-6841-4836-a4cd-9786c98d6d8d"
    }
   },
   "source": [
    "## Build algorithm"
   ]
  },
  {
   "cell_type": "code",
   "execution_count": 6,
   "metadata": {
    "nbpresent": {
     "id": "8ff86ed0-ffa6-4cf9-8314-f3b419fa06ce"
    },
    "scrolled": true
   },
   "outputs": [
    {
     "data": {
      "text/html": [
       "<div>\n",
       "<style scoped>\n",
       "    .dataframe tbody tr th:only-of-type {\n",
       "        vertical-align: middle;\n",
       "    }\n",
       "\n",
       "    .dataframe tbody tr th {\n",
       "        vertical-align: top;\n",
       "    }\n",
       "\n",
       "    .dataframe thead th {\n",
       "        text-align: right;\n",
       "    }\n",
       "</style>\n",
       "<table border=\"1\" class=\"dataframe\">\n",
       "  <thead>\n",
       "    <tr style=\"text-align: right;\">\n",
       "      <th></th>\n",
       "      <th>Card_Amount_Act_median_30D</th>\n",
       "      <th>Card_Merch_Amount_max_7D</th>\n",
       "      <th>v_num_card_amount_card14</th>\n",
       "      <th>v_num_card_amount_card7</th>\n",
       "      <th>v_num_merch_amount_card7</th>\n",
       "      <th>v_num_merch_amount_merch14</th>\n",
       "      <th>Card_Merch_Amount_max_30D</th>\n",
       "      <th>Card_State_Amount_max_30D</th>\n",
       "      <th>Card_State_Amount_max_14D</th>\n",
       "      <th>Card_Amount_mean_30D</th>\n",
       "      <th>Card_Zip_Amount_total_3D</th>\n",
       "      <th>Card_Zip_Amount_max_3D</th>\n",
       "      <th>Card_Zip_Amount_median_3D</th>\n",
       "      <th>Card_Zip_Amount_mean_3D</th>\n",
       "      <th>Card_Amount_median_14D</th>\n",
       "      <th>Card_Merch_Amount_median_7D</th>\n",
       "      <th>Card_State_Amount_mean_30D</th>\n",
       "      <th>Card_State_Amount_mean_14D</th>\n",
       "      <th>v_amount_card_num_card7</th>\n",
       "      <th>Card_Merch_Amount_mean_14D</th>\n",
       "    </tr>\n",
       "    <tr>\n",
       "      <th>Recnum</th>\n",
       "      <th></th>\n",
       "      <th></th>\n",
       "      <th></th>\n",
       "      <th></th>\n",
       "      <th></th>\n",
       "      <th></th>\n",
       "      <th></th>\n",
       "      <th></th>\n",
       "      <th></th>\n",
       "      <th></th>\n",
       "      <th></th>\n",
       "      <th></th>\n",
       "      <th></th>\n",
       "      <th></th>\n",
       "      <th></th>\n",
       "      <th></th>\n",
       "      <th></th>\n",
       "      <th></th>\n",
       "      <th></th>\n",
       "      <th></th>\n",
       "    </tr>\n",
       "  </thead>\n",
       "  <tbody>\n",
       "    <tr>\n",
       "      <th>47152</th>\n",
       "      <td>0.134537</td>\n",
       "      <td>-0.024034</td>\n",
       "      <td>-0.163762</td>\n",
       "      <td>-0.239841</td>\n",
       "      <td>-0.118964</td>\n",
       "      <td>-0.200408</td>\n",
       "      <td>-0.041098</td>\n",
       "      <td>-0.101505</td>\n",
       "      <td>-0.071457</td>\n",
       "      <td>-0.341606</td>\n",
       "      <td>-0.028402</td>\n",
       "      <td>-0.021212</td>\n",
       "      <td>-0.012602</td>\n",
       "      <td>-0.012961</td>\n",
       "      <td>-0.222213</td>\n",
       "      <td>-0.007929</td>\n",
       "      <td>-0.142846</td>\n",
       "      <td>-0.118167</td>\n",
       "      <td>-0.044403</td>\n",
       "      <td>-0.006557</td>\n",
       "    </tr>\n",
       "    <tr>\n",
       "      <th>74500</th>\n",
       "      <td>-0.116442</td>\n",
       "      <td>0.212952</td>\n",
       "      <td>-0.174148</td>\n",
       "      <td>-0.249107</td>\n",
       "      <td>-0.119520</td>\n",
       "      <td>-0.188137</td>\n",
       "      <td>0.194943</td>\n",
       "      <td>0.320759</td>\n",
       "      <td>0.191221</td>\n",
       "      <td>0.861028</td>\n",
       "      <td>0.145523</td>\n",
       "      <td>0.215985</td>\n",
       "      <td>0.295742</td>\n",
       "      <td>0.295194</td>\n",
       "      <td>0.294790</td>\n",
       "      <td>0.308381</td>\n",
       "      <td>0.116784</td>\n",
       "      <td>0.056680</td>\n",
       "      <td>0.010545</td>\n",
       "      <td>0.311216</td>\n",
       "    </tr>\n",
       "    <tr>\n",
       "      <th>69232</th>\n",
       "      <td>-0.152066</td>\n",
       "      <td>-0.157243</td>\n",
       "      <td>-0.131525</td>\n",
       "      <td>-0.213607</td>\n",
       "      <td>-0.106216</td>\n",
       "      <td>-0.182392</td>\n",
       "      <td>-0.129652</td>\n",
       "      <td>-0.187345</td>\n",
       "      <td>-0.201988</td>\n",
       "      <td>-0.204853</td>\n",
       "      <td>-0.126164</td>\n",
       "      <td>-0.154540</td>\n",
       "      <td>-0.185921</td>\n",
       "      <td>-0.186173</td>\n",
       "      <td>-0.242467</td>\n",
       "      <td>-0.185726</td>\n",
       "      <td>-0.162037</td>\n",
       "      <td>-0.194671</td>\n",
       "      <td>-0.445885</td>\n",
       "      <td>-0.185176</td>\n",
       "    </tr>\n",
       "    <tr>\n",
       "      <th>21726</th>\n",
       "      <td>-0.120119</td>\n",
       "      <td>-0.135974</td>\n",
       "      <td>-0.090550</td>\n",
       "      <td>-0.180422</td>\n",
       "      <td>-0.106261</td>\n",
       "      <td>-0.147378</td>\n",
       "      <td>-0.152591</td>\n",
       "      <td>-0.209581</td>\n",
       "      <td>-0.181146</td>\n",
       "      <td>-0.286515</td>\n",
       "      <td>-0.096468</td>\n",
       "      <td>-0.133252</td>\n",
       "      <td>-0.187843</td>\n",
       "      <td>-0.178453</td>\n",
       "      <td>-0.206093</td>\n",
       "      <td>-0.187698</td>\n",
       "      <td>-0.184382</td>\n",
       "      <td>-0.186659</td>\n",
       "      <td>-0.439954</td>\n",
       "      <td>-0.177214</td>\n",
       "    </tr>\n",
       "    <tr>\n",
       "      <th>5655</th>\n",
       "      <td>-0.106726</td>\n",
       "      <td>-0.104640</td>\n",
       "      <td>-0.172669</td>\n",
       "      <td>-0.250379</td>\n",
       "      <td>-0.119496</td>\n",
       "      <td>-0.192307</td>\n",
       "      <td>-0.059761</td>\n",
       "      <td>-0.119597</td>\n",
       "      <td>-0.150442</td>\n",
       "      <td>0.183705</td>\n",
       "      <td>-0.087558</td>\n",
       "      <td>-0.101890</td>\n",
       "      <td>-0.117479</td>\n",
       "      <td>-0.117773</td>\n",
       "      <td>0.447488</td>\n",
       "      <td>-0.115516</td>\n",
       "      <td>-0.077429</td>\n",
       "      <td>-0.123691</td>\n",
       "      <td>-0.024473</td>\n",
       "      <td>-0.114641</td>\n",
       "    </tr>\n",
       "  </tbody>\n",
       "</table>\n",
       "</div>"
      ],
      "text/plain": [
       "        Card_Amount_Act_median_30D  Card_Merch_Amount_max_7D  \\\n",
       "Recnum                                                         \n",
       "47152                     0.134537                 -0.024034   \n",
       "74500                    -0.116442                  0.212952   \n",
       "69232                    -0.152066                 -0.157243   \n",
       "21726                    -0.120119                 -0.135974   \n",
       "5655                     -0.106726                 -0.104640   \n",
       "\n",
       "        v_num_card_amount_card14  v_num_card_amount_card7  \\\n",
       "Recnum                                                      \n",
       "47152                  -0.163762                -0.239841   \n",
       "74500                  -0.174148                -0.249107   \n",
       "69232                  -0.131525                -0.213607   \n",
       "21726                  -0.090550                -0.180422   \n",
       "5655                   -0.172669                -0.250379   \n",
       "\n",
       "        v_num_merch_amount_card7  v_num_merch_amount_merch14  \\\n",
       "Recnum                                                         \n",
       "47152                  -0.118964                   -0.200408   \n",
       "74500                  -0.119520                   -0.188137   \n",
       "69232                  -0.106216                   -0.182392   \n",
       "21726                  -0.106261                   -0.147378   \n",
       "5655                   -0.119496                   -0.192307   \n",
       "\n",
       "        Card_Merch_Amount_max_30D  Card_State_Amount_max_30D  \\\n",
       "Recnum                                                         \n",
       "47152                   -0.041098                  -0.101505   \n",
       "74500                    0.194943                   0.320759   \n",
       "69232                   -0.129652                  -0.187345   \n",
       "21726                   -0.152591                  -0.209581   \n",
       "5655                    -0.059761                  -0.119597   \n",
       "\n",
       "        Card_State_Amount_max_14D  Card_Amount_mean_30D  \\\n",
       "Recnum                                                    \n",
       "47152                   -0.071457             -0.341606   \n",
       "74500                    0.191221              0.861028   \n",
       "69232                   -0.201988             -0.204853   \n",
       "21726                   -0.181146             -0.286515   \n",
       "5655                    -0.150442              0.183705   \n",
       "\n",
       "        Card_Zip_Amount_total_3D  Card_Zip_Amount_max_3D  \\\n",
       "Recnum                                                     \n",
       "47152                  -0.028402               -0.021212   \n",
       "74500                   0.145523                0.215985   \n",
       "69232                  -0.126164               -0.154540   \n",
       "21726                  -0.096468               -0.133252   \n",
       "5655                   -0.087558               -0.101890   \n",
       "\n",
       "        Card_Zip_Amount_median_3D  Card_Zip_Amount_mean_3D  \\\n",
       "Recnum                                                       \n",
       "47152                   -0.012602                -0.012961   \n",
       "74500                    0.295742                 0.295194   \n",
       "69232                   -0.185921                -0.186173   \n",
       "21726                   -0.187843                -0.178453   \n",
       "5655                    -0.117479                -0.117773   \n",
       "\n",
       "        Card_Amount_median_14D  Card_Merch_Amount_median_7D  \\\n",
       "Recnum                                                        \n",
       "47152                -0.222213                    -0.007929   \n",
       "74500                 0.294790                     0.308381   \n",
       "69232                -0.242467                    -0.185726   \n",
       "21726                -0.206093                    -0.187698   \n",
       "5655                  0.447488                    -0.115516   \n",
       "\n",
       "        Card_State_Amount_mean_30D  Card_State_Amount_mean_14D  \\\n",
       "Recnum                                                           \n",
       "47152                    -0.142846                   -0.118167   \n",
       "74500                     0.116784                    0.056680   \n",
       "69232                    -0.162037                   -0.194671   \n",
       "21726                    -0.184382                   -0.186659   \n",
       "5655                     -0.077429                   -0.123691   \n",
       "\n",
       "        v_amount_card_num_card7  Card_Merch_Amount_mean_14D  \n",
       "Recnum                                                       \n",
       "47152                 -0.044403                   -0.006557  \n",
       "74500                  0.010545                    0.311216  \n",
       "69232                 -0.445885                   -0.185176  \n",
       "21726                 -0.439954                   -0.177214  \n",
       "5655                  -0.024473                   -0.114641  "
      ]
     },
     "execution_count": 6,
     "metadata": {},
     "output_type": "execute_result"
    }
   ],
   "source": [
    "# split lables and features\n",
    "train_lab = train[\"Fraud\"]\n",
    "train_fea = train.iloc[:,1:]\n",
    "\n",
    "train_fea.head()"
   ]
  },
  {
   "cell_type": "code",
   "execution_count": 7,
   "metadata": {},
   "outputs": [
    {
     "data": {
      "text/html": [
       "<div>\n",
       "<style scoped>\n",
       "    .dataframe tbody tr th:only-of-type {\n",
       "        vertical-align: middle;\n",
       "    }\n",
       "\n",
       "    .dataframe tbody tr th {\n",
       "        vertical-align: top;\n",
       "    }\n",
       "\n",
       "    .dataframe thead th {\n",
       "        text-align: right;\n",
       "    }\n",
       "</style>\n",
       "<table border=\"1\" class=\"dataframe\">\n",
       "  <thead>\n",
       "    <tr style=\"text-align: right;\">\n",
       "      <th></th>\n",
       "      <th>Card_Amount_Act_median_30D</th>\n",
       "      <th>Card_Merch_Amount_max_7D</th>\n",
       "      <th>v_num_card_amount_card14</th>\n",
       "      <th>v_num_card_amount_card7</th>\n",
       "      <th>v_num_merch_amount_card7</th>\n",
       "      <th>v_num_merch_amount_merch14</th>\n",
       "      <th>Card_Merch_Amount_max_30D</th>\n",
       "      <th>Card_State_Amount_max_30D</th>\n",
       "      <th>Card_State_Amount_max_14D</th>\n",
       "      <th>Card_Amount_mean_30D</th>\n",
       "      <th>Card_Zip_Amount_total_3D</th>\n",
       "      <th>Card_Zip_Amount_max_3D</th>\n",
       "      <th>Card_Zip_Amount_median_3D</th>\n",
       "      <th>Card_Zip_Amount_mean_3D</th>\n",
       "      <th>Card_Amount_median_14D</th>\n",
       "      <th>Card_Merch_Amount_median_7D</th>\n",
       "      <th>Card_State_Amount_mean_30D</th>\n",
       "      <th>Card_State_Amount_mean_14D</th>\n",
       "      <th>v_amount_card_num_card7</th>\n",
       "      <th>Card_Merch_Amount_mean_14D</th>\n",
       "    </tr>\n",
       "    <tr>\n",
       "      <th>Recnum</th>\n",
       "      <th></th>\n",
       "      <th></th>\n",
       "      <th></th>\n",
       "      <th></th>\n",
       "      <th></th>\n",
       "      <th></th>\n",
       "      <th></th>\n",
       "      <th></th>\n",
       "      <th></th>\n",
       "      <th></th>\n",
       "      <th></th>\n",
       "      <th></th>\n",
       "      <th></th>\n",
       "      <th></th>\n",
       "      <th></th>\n",
       "      <th></th>\n",
       "      <th></th>\n",
       "      <th></th>\n",
       "      <th></th>\n",
       "      <th></th>\n",
       "    </tr>\n",
       "  </thead>\n",
       "  <tbody>\n",
       "    <tr>\n",
       "      <th>40396</th>\n",
       "      <td>-0.120119</td>\n",
       "      <td>-0.014037</td>\n",
       "      <td>-0.168169</td>\n",
       "      <td>-0.167116</td>\n",
       "      <td>-0.111773</td>\n",
       "      <td>-0.158701</td>\n",
       "      <td>-0.031140</td>\n",
       "      <td>0.336954</td>\n",
       "      <td>0.373550</td>\n",
       "      <td>0.253024</td>\n",
       "      <td>-0.021065</td>\n",
       "      <td>-0.011206</td>\n",
       "      <td>0.000406</td>\n",
       "      <td>0.000039</td>\n",
       "      <td>-0.004702</td>\n",
       "      <td>0.005414</td>\n",
       "      <td>0.104099</td>\n",
       "      <td>0.223235</td>\n",
       "      <td>-0.148707</td>\n",
       "      <td>0.006849</td>\n",
       "    </tr>\n",
       "    <tr>\n",
       "      <th>64454</th>\n",
       "      <td>-0.120119</td>\n",
       "      <td>-0.157617</td>\n",
       "      <td>-0.157747</td>\n",
       "      <td>-0.209001</td>\n",
       "      <td>-0.118381</td>\n",
       "      <td>-0.176305</td>\n",
       "      <td>-0.171055</td>\n",
       "      <td>-0.078143</td>\n",
       "      <td>-0.047746</td>\n",
       "      <td>-0.061483</td>\n",
       "      <td>-0.126438</td>\n",
       "      <td>-0.154914</td>\n",
       "      <td>-0.186407</td>\n",
       "      <td>-0.186659</td>\n",
       "      <td>0.028535</td>\n",
       "      <td>-0.186225</td>\n",
       "      <td>-0.119166</td>\n",
       "      <td>-0.088725</td>\n",
       "      <td>-0.219978</td>\n",
       "      <td>-0.185677</td>\n",
       "    </tr>\n",
       "    <tr>\n",
       "      <th>40417</th>\n",
       "      <td>-0.121891</td>\n",
       "      <td>-0.009501</td>\n",
       "      <td>-0.174548</td>\n",
       "      <td>-0.245831</td>\n",
       "      <td>-0.119408</td>\n",
       "      <td>-0.191619</td>\n",
       "      <td>0.151614</td>\n",
       "      <td>0.398138</td>\n",
       "      <td>0.435647</td>\n",
       "      <td>0.100108</td>\n",
       "      <td>0.294455</td>\n",
       "      <td>0.259888</td>\n",
       "      <td>0.179560</td>\n",
       "      <td>0.179084</td>\n",
       "      <td>0.338881</td>\n",
       "      <td>0.011468</td>\n",
       "      <td>0.032083</td>\n",
       "      <td>0.224872</td>\n",
       "      <td>-0.165835</td>\n",
       "      <td>0.132907</td>\n",
       "    </tr>\n",
       "    <tr>\n",
       "      <th>40880</th>\n",
       "      <td>-0.087993</td>\n",
       "      <td>-0.027095</td>\n",
       "      <td>-0.131933</td>\n",
       "      <td>-0.215676</td>\n",
       "      <td>-0.086928</td>\n",
       "      <td>-0.167446</td>\n",
       "      <td>-0.044146</td>\n",
       "      <td>-0.104461</td>\n",
       "      <td>-0.074456</td>\n",
       "      <td>-0.246956</td>\n",
       "      <td>-0.030648</td>\n",
       "      <td>-0.024276</td>\n",
       "      <td>-0.016584</td>\n",
       "      <td>-0.016941</td>\n",
       "      <td>-0.072555</td>\n",
       "      <td>-0.012015</td>\n",
       "      <td>-0.013185</td>\n",
       "      <td>-0.019056</td>\n",
       "      <td>-0.053628</td>\n",
       "      <td>-0.010661</td>\n",
       "    </tr>\n",
       "    <tr>\n",
       "      <th>37038</th>\n",
       "      <td>-0.110350</td>\n",
       "      <td>-0.090700</td>\n",
       "      <td>-0.156955</td>\n",
       "      <td>-0.198778</td>\n",
       "      <td>-0.112859</td>\n",
       "      <td>-0.194323</td>\n",
       "      <td>-0.107497</td>\n",
       "      <td>-0.165870</td>\n",
       "      <td>-0.136783</td>\n",
       "      <td>-0.254985</td>\n",
       "      <td>-0.077328</td>\n",
       "      <td>-0.087938</td>\n",
       "      <td>-0.099341</td>\n",
       "      <td>-0.099647</td>\n",
       "      <td>-0.064341</td>\n",
       "      <td>-0.096910</td>\n",
       "      <td>-0.100851</td>\n",
       "      <td>-0.104881</td>\n",
       "      <td>0.224047</td>\n",
       "      <td>-0.095949</td>\n",
       "    </tr>\n",
       "  </tbody>\n",
       "</table>\n",
       "</div>"
      ],
      "text/plain": [
       "        Card_Amount_Act_median_30D  Card_Merch_Amount_max_7D  \\\n",
       "Recnum                                                         \n",
       "40396                    -0.120119                 -0.014037   \n",
       "64454                    -0.120119                 -0.157617   \n",
       "40417                    -0.121891                 -0.009501   \n",
       "40880                    -0.087993                 -0.027095   \n",
       "37038                    -0.110350                 -0.090700   \n",
       "\n",
       "        v_num_card_amount_card14  v_num_card_amount_card7  \\\n",
       "Recnum                                                      \n",
       "40396                  -0.168169                -0.167116   \n",
       "64454                  -0.157747                -0.209001   \n",
       "40417                  -0.174548                -0.245831   \n",
       "40880                  -0.131933                -0.215676   \n",
       "37038                  -0.156955                -0.198778   \n",
       "\n",
       "        v_num_merch_amount_card7  v_num_merch_amount_merch14  \\\n",
       "Recnum                                                         \n",
       "40396                  -0.111773                   -0.158701   \n",
       "64454                  -0.118381                   -0.176305   \n",
       "40417                  -0.119408                   -0.191619   \n",
       "40880                  -0.086928                   -0.167446   \n",
       "37038                  -0.112859                   -0.194323   \n",
       "\n",
       "        Card_Merch_Amount_max_30D  Card_State_Amount_max_30D  \\\n",
       "Recnum                                                         \n",
       "40396                   -0.031140                   0.336954   \n",
       "64454                   -0.171055                  -0.078143   \n",
       "40417                    0.151614                   0.398138   \n",
       "40880                   -0.044146                  -0.104461   \n",
       "37038                   -0.107497                  -0.165870   \n",
       "\n",
       "        Card_State_Amount_max_14D  Card_Amount_mean_30D  \\\n",
       "Recnum                                                    \n",
       "40396                    0.373550              0.253024   \n",
       "64454                   -0.047746             -0.061483   \n",
       "40417                    0.435647              0.100108   \n",
       "40880                   -0.074456             -0.246956   \n",
       "37038                   -0.136783             -0.254985   \n",
       "\n",
       "        Card_Zip_Amount_total_3D  Card_Zip_Amount_max_3D  \\\n",
       "Recnum                                                     \n",
       "40396                  -0.021065               -0.011206   \n",
       "64454                  -0.126438               -0.154914   \n",
       "40417                   0.294455                0.259888   \n",
       "40880                  -0.030648               -0.024276   \n",
       "37038                  -0.077328               -0.087938   \n",
       "\n",
       "        Card_Zip_Amount_median_3D  Card_Zip_Amount_mean_3D  \\\n",
       "Recnum                                                       \n",
       "40396                    0.000406                 0.000039   \n",
       "64454                   -0.186407                -0.186659   \n",
       "40417                    0.179560                 0.179084   \n",
       "40880                   -0.016584                -0.016941   \n",
       "37038                   -0.099341                -0.099647   \n",
       "\n",
       "        Card_Amount_median_14D  Card_Merch_Amount_median_7D  \\\n",
       "Recnum                                                        \n",
       "40396                -0.004702                     0.005414   \n",
       "64454                 0.028535                    -0.186225   \n",
       "40417                 0.338881                     0.011468   \n",
       "40880                -0.072555                    -0.012015   \n",
       "37038                -0.064341                    -0.096910   \n",
       "\n",
       "        Card_State_Amount_mean_30D  Card_State_Amount_mean_14D  \\\n",
       "Recnum                                                           \n",
       "40396                     0.104099                    0.223235   \n",
       "64454                    -0.119166                   -0.088725   \n",
       "40417                     0.032083                    0.224872   \n",
       "40880                    -0.013185                   -0.019056   \n",
       "37038                    -0.100851                   -0.104881   \n",
       "\n",
       "        v_amount_card_num_card7  Card_Merch_Amount_mean_14D  \n",
       "Recnum                                                       \n",
       "40396                 -0.148707                    0.006849  \n",
       "64454                 -0.219978                   -0.185677  \n",
       "40417                 -0.165835                    0.132907  \n",
       "40880                 -0.053628                   -0.010661  \n",
       "37038                  0.224047                   -0.095949  "
      ]
     },
     "execution_count": 7,
     "metadata": {},
     "output_type": "execute_result"
    }
   ],
   "source": [
    "test_lab = test[\"Fraud\"]\n",
    "test_fea = test.iloc[:,1:]\n",
    "\n",
    "test_fea.head()"
   ]
  },
  {
   "cell_type": "code",
   "execution_count": 59,
   "metadata": {},
   "outputs": [
    {
     "data": {
      "text/html": [
       "<div>\n",
       "<style scoped>\n",
       "    .dataframe tbody tr th:only-of-type {\n",
       "        vertical-align: middle;\n",
       "    }\n",
       "\n",
       "    .dataframe tbody tr th {\n",
       "        vertical-align: top;\n",
       "    }\n",
       "\n",
       "    .dataframe thead th {\n",
       "        text-align: right;\n",
       "    }\n",
       "</style>\n",
       "<table border=\"1\" class=\"dataframe\">\n",
       "  <thead>\n",
       "    <tr style=\"text-align: right;\">\n",
       "      <th></th>\n",
       "      <th>Card_Amount_Act_median_30D</th>\n",
       "      <th>Card_Merch_Amount_max_7D</th>\n",
       "      <th>v_num_card_amount_card14</th>\n",
       "      <th>v_num_card_amount_card7</th>\n",
       "      <th>v_num_merch_amount_card7</th>\n",
       "      <th>v_num_merch_amount_merch14</th>\n",
       "      <th>Card_Merch_Amount_max_30D</th>\n",
       "      <th>Card_State_Amount_max_30D</th>\n",
       "      <th>Card_State_Amount_max_14D</th>\n",
       "      <th>Card_Amount_mean_30D</th>\n",
       "      <th>Card_Zip_Amount_total_3D</th>\n",
       "      <th>Card_Zip_Amount_max_3D</th>\n",
       "      <th>Card_Zip_Amount_median_3D</th>\n",
       "      <th>Card_Zip_Amount_mean_3D</th>\n",
       "      <th>Card_Amount_median_14D</th>\n",
       "      <th>Card_Merch_Amount_median_7D</th>\n",
       "      <th>Card_State_Amount_mean_30D</th>\n",
       "      <th>Card_State_Amount_mean_14D</th>\n",
       "      <th>v_amount_card_num_card7</th>\n",
       "      <th>Card_Merch_Amount_mean_14D</th>\n",
       "    </tr>\n",
       "    <tr>\n",
       "      <th>Recnum</th>\n",
       "      <th></th>\n",
       "      <th></th>\n",
       "      <th></th>\n",
       "      <th></th>\n",
       "      <th></th>\n",
       "      <th></th>\n",
       "      <th></th>\n",
       "      <th></th>\n",
       "      <th></th>\n",
       "      <th></th>\n",
       "      <th></th>\n",
       "      <th></th>\n",
       "      <th></th>\n",
       "      <th></th>\n",
       "      <th></th>\n",
       "      <th></th>\n",
       "      <th></th>\n",
       "      <th></th>\n",
       "      <th></th>\n",
       "      <th></th>\n",
       "    </tr>\n",
       "  </thead>\n",
       "  <tbody>\n",
       "    <tr>\n",
       "      <th>84630</th>\n",
       "      <td>-0.133288</td>\n",
       "      <td>-0.135102</td>\n",
       "      <td>-0.165760</td>\n",
       "      <td>-0.237590</td>\n",
       "      <td>-0.119247</td>\n",
       "      <td>-0.032344</td>\n",
       "      <td>-0.151722</td>\n",
       "      <td>0.126509</td>\n",
       "      <td>-0.143693</td>\n",
       "      <td>-0.005600</td>\n",
       "      <td>-0.109914</td>\n",
       "      <td>-0.132378</td>\n",
       "      <td>-0.157112</td>\n",
       "      <td>-0.157382</td>\n",
       "      <td>-0.080455</td>\n",
       "      <td>-0.156173</td>\n",
       "      <td>-0.018733</td>\n",
       "      <td>-0.129041</td>\n",
       "      <td>-0.439999</td>\n",
       "      <td>-0.155486</td>\n",
       "    </tr>\n",
       "    <tr>\n",
       "      <th>84631</th>\n",
       "      <td>-0.120119</td>\n",
       "      <td>-0.158138</td>\n",
       "      <td>0.035379</td>\n",
       "      <td>-0.073142</td>\n",
       "      <td>-0.112470</td>\n",
       "      <td>0.373503</td>\n",
       "      <td>-0.174666</td>\n",
       "      <td>-0.193656</td>\n",
       "      <td>-0.164983</td>\n",
       "      <td>-0.311902</td>\n",
       "      <td>-0.098449</td>\n",
       "      <td>-0.116742</td>\n",
       "      <td>-0.136786</td>\n",
       "      <td>-0.137069</td>\n",
       "      <td>-0.177450</td>\n",
       "      <td>-0.186920</td>\n",
       "      <td>-0.140517</td>\n",
       "      <td>-0.143714</td>\n",
       "      <td>-0.258092</td>\n",
       "      <td>-0.186375</td>\n",
       "    </tr>\n",
       "    <tr>\n",
       "      <th>84632</th>\n",
       "      <td>0.202877</td>\n",
       "      <td>0.322298</td>\n",
       "      <td>-0.169211</td>\n",
       "      <td>-0.247433</td>\n",
       "      <td>-0.118903</td>\n",
       "      <td>-0.197509</td>\n",
       "      <td>0.303853</td>\n",
       "      <td>0.232872</td>\n",
       "      <td>0.267913</td>\n",
       "      <td>0.035164</td>\n",
       "      <td>0.225773</td>\n",
       "      <td>0.325429</td>\n",
       "      <td>0.438013</td>\n",
       "      <td>0.437378</td>\n",
       "      <td>0.583144</td>\n",
       "      <td>0.454328</td>\n",
       "      <td>0.468376</td>\n",
       "      <td>0.452396</td>\n",
       "      <td>3.958278</td>\n",
       "      <td>0.457839</td>\n",
       "    </tr>\n",
       "    <tr>\n",
       "      <th>84633</th>\n",
       "      <td>-0.126975</td>\n",
       "      <td>-0.120366</td>\n",
       "      <td>-0.170521</td>\n",
       "      <td>-0.248534</td>\n",
       "      <td>-0.119303</td>\n",
       "      <td>-0.084549</td>\n",
       "      <td>-0.137045</td>\n",
       "      <td>-0.194512</td>\n",
       "      <td>-0.165852</td>\n",
       "      <td>-0.041604</td>\n",
       "      <td>-0.099100</td>\n",
       "      <td>-0.117630</td>\n",
       "      <td>-0.137940</td>\n",
       "      <td>-0.138222</td>\n",
       "      <td>-0.178977</td>\n",
       "      <td>-0.136506</td>\n",
       "      <td>-0.146139</td>\n",
       "      <td>-0.144911</td>\n",
       "      <td>-0.262101</td>\n",
       "      <td>-0.135728</td>\n",
       "    </tr>\n",
       "    <tr>\n",
       "      <th>84634</th>\n",
       "      <td>-0.045275</td>\n",
       "      <td>-0.022658</td>\n",
       "      <td>-0.147133</td>\n",
       "      <td>-0.217820</td>\n",
       "      <td>-0.118107</td>\n",
       "      <td>-0.186504</td>\n",
       "      <td>-0.039727</td>\n",
       "      <td>-0.100177</td>\n",
       "      <td>-0.070108</td>\n",
       "      <td>-0.223806</td>\n",
       "      <td>-0.027392</td>\n",
       "      <td>-0.019835</td>\n",
       "      <td>-0.010811</td>\n",
       "      <td>-0.011171</td>\n",
       "      <td>-0.176275</td>\n",
       "      <td>-0.006092</td>\n",
       "      <td>-0.007070</td>\n",
       "      <td>-0.013069</td>\n",
       "      <td>0.134077</td>\n",
       "      <td>-0.004711</td>\n",
       "    </tr>\n",
       "  </tbody>\n",
       "</table>\n",
       "</div>"
      ],
      "text/plain": [
       "        Card_Amount_Act_median_30D  Card_Merch_Amount_max_7D  \\\n",
       "Recnum                                                         \n",
       "84630                    -0.133288                 -0.135102   \n",
       "84631                    -0.120119                 -0.158138   \n",
       "84632                     0.202877                  0.322298   \n",
       "84633                    -0.126975                 -0.120366   \n",
       "84634                    -0.045275                 -0.022658   \n",
       "\n",
       "        v_num_card_amount_card14  v_num_card_amount_card7  \\\n",
       "Recnum                                                      \n",
       "84630                  -0.165760                -0.237590   \n",
       "84631                   0.035379                -0.073142   \n",
       "84632                  -0.169211                -0.247433   \n",
       "84633                  -0.170521                -0.248534   \n",
       "84634                  -0.147133                -0.217820   \n",
       "\n",
       "        v_num_merch_amount_card7  v_num_merch_amount_merch14  \\\n",
       "Recnum                                                         \n",
       "84630                  -0.119247                   -0.032344   \n",
       "84631                  -0.112470                    0.373503   \n",
       "84632                  -0.118903                   -0.197509   \n",
       "84633                  -0.119303                   -0.084549   \n",
       "84634                  -0.118107                   -0.186504   \n",
       "\n",
       "        Card_Merch_Amount_max_30D  Card_State_Amount_max_30D  \\\n",
       "Recnum                                                         \n",
       "84630                   -0.151722                   0.126509   \n",
       "84631                   -0.174666                  -0.193656   \n",
       "84632                    0.303853                   0.232872   \n",
       "84633                   -0.137045                  -0.194512   \n",
       "84634                   -0.039727                  -0.100177   \n",
       "\n",
       "        Card_State_Amount_max_14D  Card_Amount_mean_30D  \\\n",
       "Recnum                                                    \n",
       "84630                   -0.143693             -0.005600   \n",
       "84631                   -0.164983             -0.311902   \n",
       "84632                    0.267913              0.035164   \n",
       "84633                   -0.165852             -0.041604   \n",
       "84634                   -0.070108             -0.223806   \n",
       "\n",
       "        Card_Zip_Amount_total_3D  Card_Zip_Amount_max_3D  \\\n",
       "Recnum                                                     \n",
       "84630                  -0.109914               -0.132378   \n",
       "84631                  -0.098449               -0.116742   \n",
       "84632                   0.225773                0.325429   \n",
       "84633                  -0.099100               -0.117630   \n",
       "84634                  -0.027392               -0.019835   \n",
       "\n",
       "        Card_Zip_Amount_median_3D  Card_Zip_Amount_mean_3D  \\\n",
       "Recnum                                                       \n",
       "84630                   -0.157112                -0.157382   \n",
       "84631                   -0.136786                -0.137069   \n",
       "84632                    0.438013                 0.437378   \n",
       "84633                   -0.137940                -0.138222   \n",
       "84634                   -0.010811                -0.011171   \n",
       "\n",
       "        Card_Amount_median_14D  Card_Merch_Amount_median_7D  \\\n",
       "Recnum                                                        \n",
       "84630                -0.080455                    -0.156173   \n",
       "84631                -0.177450                    -0.186920   \n",
       "84632                 0.583144                     0.454328   \n",
       "84633                -0.178977                    -0.136506   \n",
       "84634                -0.176275                    -0.006092   \n",
       "\n",
       "        Card_State_Amount_mean_30D  Card_State_Amount_mean_14D  \\\n",
       "Recnum                                                           \n",
       "84630                    -0.018733                   -0.129041   \n",
       "84631                    -0.140517                   -0.143714   \n",
       "84632                     0.468376                    0.452396   \n",
       "84633                    -0.146139                   -0.144911   \n",
       "84634                    -0.007070                   -0.013069   \n",
       "\n",
       "        v_amount_card_num_card7  Card_Merch_Amount_mean_14D  \n",
       "Recnum                                                       \n",
       "84630                 -0.439999                   -0.155486  \n",
       "84631                 -0.258092                   -0.186375  \n",
       "84632                  3.958278                    0.457839  \n",
       "84633                 -0.262101                   -0.135728  \n",
       "84634                  0.134077                   -0.004711  "
      ]
     },
     "execution_count": 59,
     "metadata": {},
     "output_type": "execute_result"
    }
   ],
   "source": [
    "oot_lab = oot_df[\"Fraud\"]\n",
    "oot_fea = oot_df.iloc[:,1:]\n",
    "\n",
    "oot_fea.head()"
   ]
  },
  {
   "cell_type": "code",
   "execution_count": 8,
   "metadata": {},
   "outputs": [],
   "source": [
    "# import neccessary packages\n",
    "from sklearn.linear_model import LogisticRegression\n",
    "from sklearn.metrics import roc_auc_score\n",
    "from sklearn.metrics import confusion_matrix"
   ]
  },
  {
   "cell_type": "markdown",
   "metadata": {
    "nbpresent": {
     "id": "183c6087-bab7-495b-991e-5f26dbc87272"
    }
   },
   "source": [
    "### Trial on Logistic Regression With All the Features"
   ]
  },
  {
   "cell_type": "code",
   "execution_count": 9,
   "metadata": {
    "nbpresent": {
     "id": "6a5dc069-a3a0-47f0-8c1e-8ab2fcaa2fb8"
    },
    "scrolled": true
   },
   "outputs": [
    {
     "name": "stderr",
     "output_type": "stream",
     "text": [
      "/anaconda3/lib/python3.6/site-packages/sklearn/linear_model/logistic.py:433: FutureWarning: Default solver will be changed to 'lbfgs' in 0.22. Specify a solver to silence this warning.\n",
      "  FutureWarning)\n"
     ]
    },
    {
     "name": "stdout",
     "output_type": "stream",
     "text": [
      "accuracy: 0.992556236005872\n"
     ]
    }
   ],
   "source": [
    "clf = LogisticRegression()\n",
    "\n",
    "# train the classifier and fit the model\n",
    "clf.fit(train_fea, train_lab)\n",
    "\n",
    "# model evaluation: the mean accuracy on the given test data and labels\n",
    "accuracy = clf.score(train_fea, train_lab)\n",
    "print(\"accuracy:\", accuracy)"
   ]
  },
  {
   "cell_type": "markdown",
   "metadata": {},
   "source": [
    "# Feature Selection based on Accuracy"
   ]
  },
  {
   "cell_type": "code",
   "execution_count": 10,
   "metadata": {},
   "outputs": [
    {
     "name": "stderr",
     "output_type": "stream",
     "text": [
      "/anaconda3/lib/python3.6/site-packages/sklearn/linear_model/logistic.py:433: FutureWarning: Default solver will be changed to 'lbfgs' in 0.22. Specify a solver to silence this warning.\n",
      "  FutureWarning)\n",
      "/anaconda3/lib/python3.6/site-packages/sklearn/linear_model/logistic.py:433: FutureWarning: Default solver will be changed to 'lbfgs' in 0.22. Specify a solver to silence this warning.\n",
      "  FutureWarning)\n",
      "/anaconda3/lib/python3.6/site-packages/sklearn/linear_model/logistic.py:433: FutureWarning: Default solver will be changed to 'lbfgs' in 0.22. Specify a solver to silence this warning.\n",
      "  FutureWarning)\n",
      "/anaconda3/lib/python3.6/site-packages/sklearn/linear_model/logistic.py:433: FutureWarning: Default solver will be changed to 'lbfgs' in 0.22. Specify a solver to silence this warning.\n",
      "  FutureWarning)\n"
     ]
    },
    {
     "name": "stdout",
     "output_type": "stream",
     "text": [
      "1 0.9896350776257062\n",
      "2 0.9912810095048858\n",
      "3 0.9912513530746304\n",
      "4 0.9912810095048858\n",
      "5 0.9912810095048858\n"
     ]
    },
    {
     "name": "stderr",
     "output_type": "stream",
     "text": [
      "/anaconda3/lib/python3.6/site-packages/sklearn/linear_model/logistic.py:433: FutureWarning: Default solver will be changed to 'lbfgs' in 0.22. Specify a solver to silence this warning.\n",
      "  FutureWarning)\n",
      "/anaconda3/lib/python3.6/site-packages/sklearn/linear_model/logistic.py:433: FutureWarning: Default solver will be changed to 'lbfgs' in 0.22. Specify a solver to silence this warning.\n",
      "  FutureWarning)\n"
     ]
    },
    {
     "name": "stdout",
     "output_type": "stream",
     "text": [
      "6 0.9913996352259079\n",
      "7 0.9913996352259079\n"
     ]
    },
    {
     "name": "stderr",
     "output_type": "stream",
     "text": [
      "/anaconda3/lib/python3.6/site-packages/sklearn/linear_model/logistic.py:433: FutureWarning: Default solver will be changed to 'lbfgs' in 0.22. Specify a solver to silence this warning.\n",
      "  FutureWarning)\n",
      "/anaconda3/lib/python3.6/site-packages/sklearn/linear_model/logistic.py:433: FutureWarning: Default solver will be changed to 'lbfgs' in 0.22. Specify a solver to silence this warning.\n",
      "  FutureWarning)\n"
     ]
    },
    {
     "name": "stdout",
     "output_type": "stream",
     "text": [
      "8 0.9914886045166743\n",
      "9 0.9914886045166743\n"
     ]
    },
    {
     "name": "stderr",
     "output_type": "stream",
     "text": [
      "/anaconda3/lib/python3.6/site-packages/sklearn/linear_model/logistic.py:433: FutureWarning: Default solver will be changed to 'lbfgs' in 0.22. Specify a solver to silence this warning.\n",
      "  FutureWarning)\n",
      "/anaconda3/lib/python3.6/site-packages/sklearn/linear_model/logistic.py:433: FutureWarning: Default solver will be changed to 'lbfgs' in 0.22. Specify a solver to silence this warning.\n",
      "  FutureWarning)\n"
     ]
    },
    {
     "name": "stdout",
     "output_type": "stream",
     "text": [
      "10 0.9921410459822951\n"
     ]
    },
    {
     "name": "stderr",
     "output_type": "stream",
     "text": [
      "/anaconda3/lib/python3.6/site-packages/sklearn/linear_model/logistic.py:433: FutureWarning: Default solver will be changed to 'lbfgs' in 0.22. Specify a solver to silence this warning.\n",
      "  FutureWarning)\n"
     ]
    },
    {
     "name": "stdout",
     "output_type": "stream",
     "text": [
      "11 0.9922448434881893\n"
     ]
    },
    {
     "name": "stderr",
     "output_type": "stream",
     "text": [
      "/anaconda3/lib/python3.6/site-packages/sklearn/linear_model/logistic.py:433: FutureWarning: Default solver will be changed to 'lbfgs' in 0.22. Specify a solver to silence this warning.\n",
      "  FutureWarning)\n"
     ]
    },
    {
     "name": "stdout",
     "output_type": "stream",
     "text": [
      "12 0.9922448434881893\n"
     ]
    },
    {
     "name": "stderr",
     "output_type": "stream",
     "text": [
      "/anaconda3/lib/python3.6/site-packages/sklearn/linear_model/logistic.py:433: FutureWarning: Default solver will be changed to 'lbfgs' in 0.22. Specify a solver to silence this warning.\n",
      "  FutureWarning)\n"
     ]
    },
    {
     "name": "stdout",
     "output_type": "stream",
     "text": [
      "13 0.9920965613369119\n"
     ]
    },
    {
     "name": "stderr",
     "output_type": "stream",
     "text": [
      "/anaconda3/lib/python3.6/site-packages/sklearn/linear_model/logistic.py:433: FutureWarning: Default solver will be changed to 'lbfgs' in 0.22. Specify a solver to silence this warning.\n",
      "  FutureWarning)\n"
     ]
    },
    {
     "name": "stdout",
     "output_type": "stream",
     "text": [
      "14 0.9920669049066564\n"
     ]
    },
    {
     "name": "stderr",
     "output_type": "stream",
     "text": [
      "/anaconda3/lib/python3.6/site-packages/sklearn/linear_model/logistic.py:433: FutureWarning: Default solver will be changed to 'lbfgs' in 0.22. Specify a solver to silence this warning.\n",
      "  FutureWarning)\n"
     ]
    },
    {
     "name": "stdout",
     "output_type": "stream",
     "text": [
      "15 0.9920520766915286\n"
     ]
    },
    {
     "name": "stderr",
     "output_type": "stream",
     "text": [
      "/anaconda3/lib/python3.6/site-packages/sklearn/linear_model/logistic.py:433: FutureWarning: Default solver will be changed to 'lbfgs' in 0.22. Specify a solver to silence this warning.\n",
      "  FutureWarning)\n"
     ]
    },
    {
     "name": "stdout",
     "output_type": "stream",
     "text": [
      "16 0.992378297424339\n"
     ]
    },
    {
     "name": "stderr",
     "output_type": "stream",
     "text": [
      "/anaconda3/lib/python3.6/site-packages/sklearn/linear_model/logistic.py:433: FutureWarning: Default solver will be changed to 'lbfgs' in 0.22. Specify a solver to silence this warning.\n",
      "  FutureWarning)\n"
     ]
    },
    {
     "name": "stdout",
     "output_type": "stream",
     "text": [
      "17 0.992378297424339\n"
     ]
    },
    {
     "name": "stderr",
     "output_type": "stream",
     "text": [
      "/anaconda3/lib/python3.6/site-packages/sklearn/linear_model/logistic.py:433: FutureWarning: Default solver will be changed to 'lbfgs' in 0.22. Specify a solver to silence this warning.\n",
      "  FutureWarning)\n"
     ]
    },
    {
     "name": "stdout",
     "output_type": "stream",
     "text": [
      "18 0.9924079538545946\n"
     ]
    },
    {
     "name": "stderr",
     "output_type": "stream",
     "text": [
      "/anaconda3/lib/python3.6/site-packages/sklearn/linear_model/logistic.py:433: FutureWarning: Default solver will be changed to 'lbfgs' in 0.22. Specify a solver to silence this warning.\n",
      "  FutureWarning)\n"
     ]
    },
    {
     "name": "stdout",
     "output_type": "stream",
     "text": [
      "19 0.992318984563828\n",
      "\n",
      "19\n",
      "0.9924079538545946\n"
     ]
    }
   ],
   "source": [
    "accuracy = []\n",
    "for i in range(1,train_fea.shape[1]):\n",
    "    features_sub = train_fea.iloc[:,:i]\n",
    "    clf = LogisticRegression()\n",
    "    clf.fit(features_sub, train_lab)\n",
    "    score = clf.score(features_sub, train_lab)\n",
    "    accuracy.append(score)\n",
    "    print(i, score)\n",
    "\n",
    "print(\"\")\n",
    "print(len(accuracy))\n",
    "print(max(accuracy))"
   ]
  },
  {
   "cell_type": "code",
   "execution_count": 11,
   "metadata": {},
   "outputs": [
    {
     "data": {
      "text/plain": [
       "Text(0, 0.5, 'Accuracy')"
      ]
     },
     "execution_count": 11,
     "metadata": {},
     "output_type": "execute_result"
    },
    {
     "data": {
      "image/png": "[encoded data removed]",
      "text/plain": [
       "<Figure size 432x288 with 1 Axes>"
      ]
     },
     "metadata": {
      "needs_background": "light"
     },
     "output_type": "display_data"
    }
   ],
   "source": [
    "plt.plot(accuracy)\n",
    "plt.title('Accuracy on training data')\n",
    "plt.ylabel('Accuracy')"
   ]
  },
  {
   "cell_type": "code",
   "execution_count": 12,
   "metadata": {},
   "outputs": [
    {
     "name": "stderr",
     "output_type": "stream",
     "text": [
      "/anaconda3/lib/python3.6/site-packages/sklearn/linear_model/logistic.py:433: FutureWarning: Default solver will be changed to 'lbfgs' in 0.22. Specify a solver to silence this warning.\n",
      "  FutureWarning)\n",
      "/anaconda3/lib/python3.6/site-packages/sklearn/linear_model/logistic.py:433: FutureWarning: Default solver will be changed to 'lbfgs' in 0.22. Specify a solver to silence this warning.\n",
      "  FutureWarning)\n",
      "/anaconda3/lib/python3.6/site-packages/sklearn/linear_model/logistic.py:433: FutureWarning: Default solver will be changed to 'lbfgs' in 0.22. Specify a solver to silence this warning.\n",
      "  FutureWarning)\n"
     ]
    },
    {
     "name": "stdout",
     "output_type": "stream",
     "text": [
      "1 0.9915183867141163\n",
      "2 0.9924080664294187\n",
      "3 0.9924080664294187\n"
     ]
    },
    {
     "name": "stderr",
     "output_type": "stream",
     "text": [
      "/anaconda3/lib/python3.6/site-packages/sklearn/linear_model/logistic.py:433: FutureWarning: Default solver will be changed to 'lbfgs' in 0.22. Specify a solver to silence this warning.\n",
      "  FutureWarning)\n",
      "/anaconda3/lib/python3.6/site-packages/sklearn/linear_model/logistic.py:433: FutureWarning: Default solver will be changed to 'lbfgs' in 0.22. Specify a solver to silence this warning.\n",
      "  FutureWarning)\n"
     ]
    },
    {
     "name": "stdout",
     "output_type": "stream",
     "text": [
      "4 0.9924080664294187\n",
      "5 0.9924080664294187\n"
     ]
    },
    {
     "name": "stderr",
     "output_type": "stream",
     "text": [
      "/anaconda3/lib/python3.6/site-packages/sklearn/linear_model/logistic.py:433: FutureWarning: Default solver will be changed to 'lbfgs' in 0.22. Specify a solver to silence this warning.\n",
      "  FutureWarning)\n",
      "/anaconda3/lib/python3.6/site-packages/sklearn/linear_model/logistic.py:433: FutureWarning: Default solver will be changed to 'lbfgs' in 0.22. Specify a solver to silence this warning.\n",
      "  FutureWarning)\n"
     ]
    },
    {
     "name": "stdout",
     "output_type": "stream",
     "text": [
      "6 0.992526690391459\n",
      "7 0.992526690391459\n"
     ]
    },
    {
     "name": "stderr",
     "output_type": "stream",
     "text": [
      "/anaconda3/lib/python3.6/site-packages/sklearn/linear_model/logistic.py:433: FutureWarning: Default solver will be changed to 'lbfgs' in 0.22. Specify a solver to silence this warning.\n",
      "  FutureWarning)\n"
     ]
    },
    {
     "name": "stdout",
     "output_type": "stream",
     "text": [
      "8 0.9921708185053381\n"
     ]
    },
    {
     "name": "stderr",
     "output_type": "stream",
     "text": [
      "/anaconda3/lib/python3.6/site-packages/sklearn/linear_model/logistic.py:433: FutureWarning: Default solver will be changed to 'lbfgs' in 0.22. Specify a solver to silence this warning.\n",
      "  FutureWarning)\n"
     ]
    },
    {
     "name": "stdout",
     "output_type": "stream",
     "text": [
      "9 0.9924673784104389\n"
     ]
    },
    {
     "name": "stderr",
     "output_type": "stream",
     "text": [
      "/anaconda3/lib/python3.6/site-packages/sklearn/linear_model/logistic.py:433: FutureWarning: Default solver will be changed to 'lbfgs' in 0.22. Specify a solver to silence this warning.\n",
      "  FutureWarning)\n"
     ]
    },
    {
     "name": "stdout",
     "output_type": "stream",
     "text": [
      "10 0.9931791221826809\n",
      "11 0.9931198102016607\n"
     ]
    },
    {
     "name": "stderr",
     "output_type": "stream",
     "text": [
      "/anaconda3/lib/python3.6/site-packages/sklearn/linear_model/logistic.py:433: FutureWarning: Default solver will be changed to 'lbfgs' in 0.22. Specify a solver to silence this warning.\n",
      "  FutureWarning)\n",
      "/anaconda3/lib/python3.6/site-packages/sklearn/linear_model/logistic.py:433: FutureWarning: Default solver will be changed to 'lbfgs' in 0.22. Specify a solver to silence this warning.\n",
      "  FutureWarning)\n"
     ]
    },
    {
     "name": "stdout",
     "output_type": "stream",
     "text": [
      "12 0.9934756820877817\n"
     ]
    },
    {
     "name": "stderr",
     "output_type": "stream",
     "text": [
      "/anaconda3/lib/python3.6/site-packages/sklearn/linear_model/logistic.py:433: FutureWarning: Default solver will be changed to 'lbfgs' in 0.22. Specify a solver to silence this warning.\n",
      "  FutureWarning)\n"
     ]
    },
    {
     "name": "stdout",
     "output_type": "stream",
     "text": [
      "13 0.9934163701067615\n"
     ]
    },
    {
     "name": "stderr",
     "output_type": "stream",
     "text": [
      "/anaconda3/lib/python3.6/site-packages/sklearn/linear_model/logistic.py:433: FutureWarning: Default solver will be changed to 'lbfgs' in 0.22. Specify a solver to silence this warning.\n",
      "  FutureWarning)\n"
     ]
    },
    {
     "name": "stdout",
     "output_type": "stream",
     "text": [
      "14 0.9934163701067615\n"
     ]
    },
    {
     "name": "stderr",
     "output_type": "stream",
     "text": [
      "/anaconda3/lib/python3.6/site-packages/sklearn/linear_model/logistic.py:433: FutureWarning: Default solver will be changed to 'lbfgs' in 0.22. Specify a solver to silence this warning.\n",
      "  FutureWarning)\n"
     ]
    },
    {
     "name": "stdout",
     "output_type": "stream",
     "text": [
      "15 0.9934756820877817\n"
     ]
    },
    {
     "name": "stderr",
     "output_type": "stream",
     "text": [
      "/anaconda3/lib/python3.6/site-packages/sklearn/linear_model/logistic.py:433: FutureWarning: Default solver will be changed to 'lbfgs' in 0.22. Specify a solver to silence this warning.\n",
      "  FutureWarning)\n"
     ]
    },
    {
     "name": "stdout",
     "output_type": "stream",
     "text": [
      "16 0.993594306049822\n"
     ]
    },
    {
     "name": "stderr",
     "output_type": "stream",
     "text": [
      "/anaconda3/lib/python3.6/site-packages/sklearn/linear_model/logistic.py:433: FutureWarning: Default solver will be changed to 'lbfgs' in 0.22. Specify a solver to silence this warning.\n",
      "  FutureWarning)\n"
     ]
    },
    {
     "name": "stdout",
     "output_type": "stream",
     "text": [
      "17 0.993594306049822\n"
     ]
    },
    {
     "name": "stderr",
     "output_type": "stream",
     "text": [
      "/anaconda3/lib/python3.6/site-packages/sklearn/linear_model/logistic.py:433: FutureWarning: Default solver will be changed to 'lbfgs' in 0.22. Specify a solver to silence this warning.\n",
      "  FutureWarning)\n"
     ]
    },
    {
     "name": "stdout",
     "output_type": "stream",
     "text": [
      "18 0.993594306049822\n"
     ]
    },
    {
     "name": "stderr",
     "output_type": "stream",
     "text": [
      "/anaconda3/lib/python3.6/site-packages/sklearn/linear_model/logistic.py:433: FutureWarning: Default solver will be changed to 'lbfgs' in 0.22. Specify a solver to silence this warning.\n",
      "  FutureWarning)\n"
     ]
    },
    {
     "name": "stdout",
     "output_type": "stream",
     "text": [
      "19 0.9932977461447212\n",
      "\n",
      "19\n",
      "0.993594306049822\n"
     ]
    }
   ],
   "source": [
    "accuracy = []\n",
    "for i in range(1,train_fea.shape[1]):\n",
    "    features_sub = train_fea.iloc[:,:i]\n",
    "    features_sub_test = test_fea.iloc[:,:i]\n",
    "    clf = LogisticRegression()\n",
    "    clf.fit(features_sub, train_lab)\n",
    "    score = clf.score(features_sub_test, test_lab)\n",
    "    accuracy.append(score)\n",
    "    print(i, score)\n",
    "\n",
    "print(\"\")\n",
    "print(len(accuracy))\n",
    "print(max(accuracy))"
   ]
  },
  {
   "cell_type": "code",
   "execution_count": 13,
   "metadata": {},
   "outputs": [
    {
     "data": {
      "text/plain": [
       "Text(0, 0.5, 'Accuracy')"
      ]
     },
     "execution_count": 13,
     "metadata": {},
     "output_type": "execute_result"
    },
    {
     "data": {
      "image/png": "[encoded data removed]",
      "text/plain": [
       "<Figure size 432x288 with 1 Axes>"
      ]
     },
     "metadata": {
      "needs_background": "light"
     },
     "output_type": "display_data"
    }
   ],
   "source": [
    "plt.plot(accuracy)\n",
    "plt.title('Accuracy on testing data')\n",
    "plt.ylabel('Accuracy')"
   ]
  },
  {
   "cell_type": "code",
   "execution_count": 60,
   "metadata": {},
   "outputs": [
    {
     "name": "stderr",
     "output_type": "stream",
     "text": [
      "/anaconda3/lib/python3.6/site-packages/sklearn/linear_model/logistic.py:433: FutureWarning: Default solver will be changed to 'lbfgs' in 0.22. Specify a solver to silence this warning.\n",
      "  FutureWarning)\n",
      "/anaconda3/lib/python3.6/site-packages/sklearn/linear_model/logistic.py:433: FutureWarning: Default solver will be changed to 'lbfgs' in 0.22. Specify a solver to silence this warning.\n",
      "  FutureWarning)\n",
      "/anaconda3/lib/python3.6/site-packages/sklearn/linear_model/logistic.py:433: FutureWarning: Default solver will be changed to 'lbfgs' in 0.22. Specify a solver to silence this warning.\n",
      "  FutureWarning)\n"
     ]
    },
    {
     "name": "stdout",
     "output_type": "stream",
     "text": [
      "1 0.9852029428783996\n",
      "2 0.987352236091593\n",
      "3 0.987352236091593\n"
     ]
    },
    {
     "name": "stderr",
     "output_type": "stream",
     "text": [
      "/anaconda3/lib/python3.6/site-packages/sklearn/linear_model/logistic.py:433: FutureWarning: Default solver will be changed to 'lbfgs' in 0.22. Specify a solver to silence this warning.\n",
      "  FutureWarning)\n",
      "/anaconda3/lib/python3.6/site-packages/sklearn/linear_model/logistic.py:433: FutureWarning: Default solver will be changed to 'lbfgs' in 0.22. Specify a solver to silence this warning.\n",
      "  FutureWarning)\n"
     ]
    },
    {
     "name": "stdout",
     "output_type": "stream",
     "text": [
      "4 0.987352236091593\n",
      "5 0.987352236091593\n"
     ]
    },
    {
     "name": "stderr",
     "output_type": "stream",
     "text": [
      "/anaconda3/lib/python3.6/site-packages/sklearn/linear_model/logistic.py:433: FutureWarning: Default solver will be changed to 'lbfgs' in 0.22. Specify a solver to silence this warning.\n",
      "  FutureWarning)\n",
      "/anaconda3/lib/python3.6/site-packages/sklearn/linear_model/logistic.py:433: FutureWarning: Default solver will be changed to 'lbfgs' in 0.22. Specify a solver to silence this warning.\n",
      "  FutureWarning)\n"
     ]
    },
    {
     "name": "stdout",
     "output_type": "stream",
     "text": [
      "6 0.987352236091593\n",
      "7 0.987352236091593\n"
     ]
    },
    {
     "name": "stderr",
     "output_type": "stream",
     "text": [
      "/anaconda3/lib/python3.6/site-packages/sklearn/linear_model/logistic.py:433: FutureWarning: Default solver will be changed to 'lbfgs' in 0.22. Specify a solver to silence this warning.\n",
      "  FutureWarning)\n",
      "/anaconda3/lib/python3.6/site-packages/sklearn/linear_model/logistic.py:433: FutureWarning: Default solver will be changed to 'lbfgs' in 0.22. Specify a solver to silence this warning.\n",
      "  FutureWarning)\n"
     ]
    },
    {
     "name": "stdout",
     "output_type": "stream",
     "text": [
      "8 0.9874349012151773\n",
      "9 0.987352236091593\n"
     ]
    },
    {
     "name": "stderr",
     "output_type": "stream",
     "text": [
      "/anaconda3/lib/python3.6/site-packages/sklearn/linear_model/logistic.py:433: FutureWarning: Default solver will be changed to 'lbfgs' in 0.22. Specify a solver to silence this warning.\n",
      "  FutureWarning)\n",
      "/anaconda3/lib/python3.6/site-packages/sklearn/linear_model/logistic.py:433: FutureWarning: Default solver will be changed to 'lbfgs' in 0.22. Specify a solver to silence this warning.\n",
      "  FutureWarning)\n"
     ]
    },
    {
     "name": "stdout",
     "output_type": "stream",
     "text": [
      "10 0.9874349012151773\n",
      "11 0.9874349012151773\n"
     ]
    },
    {
     "name": "stderr",
     "output_type": "stream",
     "text": [
      "/anaconda3/lib/python3.6/site-packages/sklearn/linear_model/logistic.py:433: FutureWarning: Default solver will be changed to 'lbfgs' in 0.22. Specify a solver to silence this warning.\n",
      "  FutureWarning)\n"
     ]
    },
    {
     "name": "stdout",
     "output_type": "stream",
     "text": [
      "12 0.9874349012151773\n"
     ]
    },
    {
     "name": "stderr",
     "output_type": "stream",
     "text": [
      "/anaconda3/lib/python3.6/site-packages/sklearn/linear_model/logistic.py:433: FutureWarning: Default solver will be changed to 'lbfgs' in 0.22. Specify a solver to silence this warning.\n",
      "  FutureWarning)\n"
     ]
    },
    {
     "name": "stdout",
     "output_type": "stream",
     "text": [
      "13 0.9874349012151773\n"
     ]
    },
    {
     "name": "stderr",
     "output_type": "stream",
     "text": [
      "/anaconda3/lib/python3.6/site-packages/sklearn/linear_model/logistic.py:433: FutureWarning: Default solver will be changed to 'lbfgs' in 0.22. Specify a solver to silence this warning.\n",
      "  FutureWarning)\n"
     ]
    },
    {
     "name": "stdout",
     "output_type": "stream",
     "text": [
      "14 0.9874349012151773\n"
     ]
    },
    {
     "name": "stderr",
     "output_type": "stream",
     "text": [
      "/anaconda3/lib/python3.6/site-packages/sklearn/linear_model/logistic.py:433: FutureWarning: Default solver will be changed to 'lbfgs' in 0.22. Specify a solver to silence this warning.\n",
      "  FutureWarning)\n"
     ]
    },
    {
     "name": "stdout",
     "output_type": "stream",
     "text": [
      "15 0.9874349012151773\n"
     ]
    },
    {
     "name": "stderr",
     "output_type": "stream",
     "text": [
      "/anaconda3/lib/python3.6/site-packages/sklearn/linear_model/logistic.py:433: FutureWarning: Default solver will be changed to 'lbfgs' in 0.22. Specify a solver to silence this warning.\n",
      "  FutureWarning)\n"
     ]
    },
    {
     "name": "stdout",
     "output_type": "stream",
     "text": [
      "16 0.9875175663387616\n"
     ]
    },
    {
     "name": "stderr",
     "output_type": "stream",
     "text": [
      "/anaconda3/lib/python3.6/site-packages/sklearn/linear_model/logistic.py:433: FutureWarning: Default solver will be changed to 'lbfgs' in 0.22. Specify a solver to silence this warning.\n",
      "  FutureWarning)\n"
     ]
    },
    {
     "name": "stdout",
     "output_type": "stream",
     "text": [
      "17 0.9875175663387616\n"
     ]
    },
    {
     "name": "stderr",
     "output_type": "stream",
     "text": [
      "/anaconda3/lib/python3.6/site-packages/sklearn/linear_model/logistic.py:433: FutureWarning: Default solver will be changed to 'lbfgs' in 0.22. Specify a solver to silence this warning.\n",
      "  FutureWarning)\n"
     ]
    },
    {
     "name": "stdout",
     "output_type": "stream",
     "text": [
      "18 0.9875175663387616\n"
     ]
    },
    {
     "name": "stderr",
     "output_type": "stream",
     "text": [
      "/anaconda3/lib/python3.6/site-packages/sklearn/linear_model/logistic.py:433: FutureWarning: Default solver will be changed to 'lbfgs' in 0.22. Specify a solver to silence this warning.\n",
      "  FutureWarning)\n"
     ]
    },
    {
     "name": "stdout",
     "output_type": "stream",
     "text": [
      "19 0.9875175663387616\n",
      "\n",
      "19\n",
      "0.9875175663387616\n"
     ]
    }
   ],
   "source": [
    "accuracy = []\n",
    "for i in range(1,train_fea.shape[1]):\n",
    "    features_sub = train_fea.iloc[:,:i]\n",
    "    features_sub_oot = oot_fea.iloc[:,:i]\n",
    "    clf = LogisticRegression()\n",
    "    clf.fit(features_sub, train_lab)\n",
    "    score = clf.score(features_sub_oot, oot_lab)\n",
    "    accuracy.append(score)\n",
    "    print(i, score)\n",
    "\n",
    "print(\"\")\n",
    "print(len(accuracy))\n",
    "print(max(accuracy))"
   ]
  },
  {
   "cell_type": "code",
   "execution_count": 61,
   "metadata": {},
   "outputs": [
    {
     "data": {
      "text/plain": [
       "Text(0, 0.5, 'Accuracy')"
      ]
     },
     "execution_count": 61,
     "metadata": {},
     "output_type": "execute_result"
    },
    {
     "data": {
      "image/png": "[encoded data removed]",
      "text/plain": [
       "<Figure size 432x288 with 1 Axes>"
      ]
     },
     "metadata": {
      "needs_background": "light"
     },
     "output_type": "display_data"
    }
   ],
   "source": [
    "plt.plot(accuracy)\n",
    "plt.title('Accuracy on oot data')\n",
    "plt.ylabel('Accuracy')"
   ]
  },
  {
   "cell_type": "markdown",
   "metadata": {},
   "source": [
    "# Feature Selection based on ROC_AUC"
   ]
  },
  {
   "cell_type": "code",
   "execution_count": 14,
   "metadata": {},
   "outputs": [
    {
     "name": "stderr",
     "output_type": "stream",
     "text": [
      "/anaconda3/lib/python3.6/site-packages/sklearn/linear_model/logistic.py:433: FutureWarning: Default solver will be changed to 'lbfgs' in 0.22. Specify a solver to silence this warning.\n",
      "  FutureWarning)\n",
      "/anaconda3/lib/python3.6/site-packages/sklearn/linear_model/logistic.py:433: FutureWarning: Default solver will be changed to 'lbfgs' in 0.22. Specify a solver to silence this warning.\n",
      "  FutureWarning)\n",
      "/anaconda3/lib/python3.6/site-packages/sklearn/linear_model/logistic.py:433: FutureWarning: Default solver will be changed to 'lbfgs' in 0.22. Specify a solver to silence this warning.\n",
      "  FutureWarning)\n"
     ]
    },
    {
     "name": "stdout",
     "output_type": "stream",
     "text": [
      "1 0.547421574556483\n",
      "2 0.6432457501786608\n",
      "3 0.6432307587987044\n"
     ]
    },
    {
     "name": "stderr",
     "output_type": "stream",
     "text": [
      "/anaconda3/lib/python3.6/site-packages/sklearn/linear_model/logistic.py:433: FutureWarning: Default solver will be changed to 'lbfgs' in 0.22. Specify a solver to silence this warning.\n",
      "  FutureWarning)\n",
      "/anaconda3/lib/python3.6/site-packages/sklearn/linear_model/logistic.py:433: FutureWarning: Default solver will be changed to 'lbfgs' in 0.22. Specify a solver to silence this warning.\n",
      "  FutureWarning)\n"
     ]
    },
    {
     "name": "stdout",
     "output_type": "stream",
     "text": [
      "4 0.6432457501786608\n",
      "5 0.6432457501786608\n"
     ]
    },
    {
     "name": "stderr",
     "output_type": "stream",
     "text": [
      "/anaconda3/lib/python3.6/site-packages/sklearn/linear_model/logistic.py:433: FutureWarning: Default solver will be changed to 'lbfgs' in 0.22. Specify a solver to silence this warning.\n",
      "  FutureWarning)\n",
      "/anaconda3/lib/python3.6/site-packages/sklearn/linear_model/logistic.py:433: FutureWarning: Default solver will be changed to 'lbfgs' in 0.22. Specify a solver to silence this warning.\n",
      "  FutureWarning)\n"
     ]
    },
    {
     "name": "stdout",
     "output_type": "stream",
     "text": [
      "6 0.6433057156984869\n",
      "7 0.6433057156984869\n"
     ]
    },
    {
     "name": "stderr",
     "output_type": "stream",
     "text": [
      "/anaconda3/lib/python3.6/site-packages/sklearn/linear_model/logistic.py:433: FutureWarning: Default solver will be changed to 'lbfgs' in 0.22. Specify a solver to silence this warning.\n",
      "  FutureWarning)\n",
      "/anaconda3/lib/python3.6/site-packages/sklearn/linear_model/logistic.py:433: FutureWarning: Default solver will be changed to 'lbfgs' in 0.22. Specify a solver to silence this warning.\n",
      "  FutureWarning)\n"
     ]
    },
    {
     "name": "stdout",
     "output_type": "stream",
     "text": [
      "8 0.6480666123790809\n",
      "9 0.6527825349198053\n",
      "10 0.6760182547623673\n"
     ]
    },
    {
     "name": "stderr",
     "output_type": "stream",
     "text": [
      "/anaconda3/lib/python3.6/site-packages/sklearn/linear_model/logistic.py:433: FutureWarning: Default solver will be changed to 'lbfgs' in 0.22. Specify a solver to silence this warning.\n",
      "  FutureWarning)\n",
      "/anaconda3/lib/python3.6/site-packages/sklearn/linear_model/logistic.py:433: FutureWarning: Default solver will be changed to 'lbfgs' in 0.22. Specify a solver to silence this warning.\n",
      "  FutureWarning)\n"
     ]
    },
    {
     "name": "stdout",
     "output_type": "stream",
     "text": [
      "11 0.677418131032422\n"
     ]
    },
    {
     "name": "stderr",
     "output_type": "stream",
     "text": [
      "/anaconda3/lib/python3.6/site-packages/sklearn/linear_model/logistic.py:433: FutureWarning: Default solver will be changed to 'lbfgs' in 0.22. Specify a solver to silence this warning.\n",
      "  FutureWarning)\n"
     ]
    },
    {
     "name": "stdout",
     "output_type": "stream",
     "text": [
      "12 0.6780918342525255\n"
     ]
    },
    {
     "name": "stderr",
     "output_type": "stream",
     "text": [
      "/anaconda3/lib/python3.6/site-packages/sklearn/linear_model/logistic.py:433: FutureWarning: Default solver will be changed to 'lbfgs' in 0.22. Specify a solver to silence this warning.\n",
      "  FutureWarning)\n"
     ]
    },
    {
     "name": "stdout",
     "output_type": "stream",
     "text": [
      "13 0.678016877352743\n"
     ]
    },
    {
     "name": "stderr",
     "output_type": "stream",
     "text": [
      "/anaconda3/lib/python3.6/site-packages/sklearn/linear_model/logistic.py:433: FutureWarning: Default solver will be changed to 'lbfgs' in 0.22. Specify a solver to silence this warning.\n",
      "  FutureWarning)\n"
     ]
    },
    {
     "name": "stdout",
     "output_type": "stream",
     "text": [
      "14 0.6780018859727863\n"
     ]
    },
    {
     "name": "stderr",
     "output_type": "stream",
     "text": [
      "/anaconda3/lib/python3.6/site-packages/sklearn/linear_model/logistic.py:433: FutureWarning: Default solver will be changed to 'lbfgs' in 0.22. Specify a solver to silence this warning.\n",
      "  FutureWarning)\n"
     ]
    },
    {
     "name": "stdout",
     "output_type": "stream",
     "text": [
      "15 0.679341796723015\n"
     ]
    },
    {
     "name": "stderr",
     "output_type": "stream",
     "text": [
      "/anaconda3/lib/python3.6/site-packages/sklearn/linear_model/logistic.py:433: FutureWarning: Default solver will be changed to 'lbfgs' in 0.22. Specify a solver to silence this warning.\n",
      "  FutureWarning)\n"
     ]
    },
    {
     "name": "stdout",
     "output_type": "stream",
     "text": [
      "16 0.6896122502040891\n"
     ]
    },
    {
     "name": "stderr",
     "output_type": "stream",
     "text": [
      "/anaconda3/lib/python3.6/site-packages/sklearn/linear_model/logistic.py:433: FutureWarning: Default solver will be changed to 'lbfgs' in 0.22. Specify a solver to silence this warning.\n",
      "  FutureWarning)\n"
     ]
    },
    {
     "name": "stdout",
     "output_type": "stream",
     "text": [
      "17 0.6882648437638822\n"
     ]
    },
    {
     "name": "stderr",
     "output_type": "stream",
     "text": [
      "/anaconda3/lib/python3.6/site-packages/sklearn/linear_model/logistic.py:433: FutureWarning: Default solver will be changed to 'lbfgs' in 0.22. Specify a solver to silence this warning.\n",
      "  FutureWarning)\n"
     ]
    },
    {
     "name": "stdout",
     "output_type": "stream",
     "text": [
      "18 0.688953538363942\n"
     ]
    },
    {
     "name": "stderr",
     "output_type": "stream",
     "text": [
      "/anaconda3/lib/python3.6/site-packages/sklearn/linear_model/logistic.py:433: FutureWarning: Default solver will be changed to 'lbfgs' in 0.22. Specify a solver to silence this warning.\n",
      "  FutureWarning)\n"
     ]
    },
    {
     "name": "stdout",
     "output_type": "stream",
     "text": [
      "19 0.6855400481235552\n",
      "\n",
      "19\n",
      "0.6896122502040891\n"
     ]
    }
   ],
   "source": [
    "accuracy = []\n",
    "for i in range(1,train_fea.shape[1]):\n",
    "    features_sub = train_fea.iloc[:,:i]\n",
    "    clf = LogisticRegression()\n",
    "    clf.fit(features_sub, train_lab)\n",
    "    predictions = clf.predict(features_sub)\n",
    "    score = roc_auc_score(train_lab, predictions)\n",
    "    accuracy.append(score)\n",
    "    print(i, score)\n",
    "\n",
    "print(\"\")\n",
    "print(len(accuracy))\n",
    "print(max(accuracy))"
   ]
  },
  {
   "cell_type": "code",
   "execution_count": 15,
   "metadata": {},
   "outputs": [
    {
     "data": {
      "text/plain": [
       "Text(0, 0.5, 'ROC_AUC_Score')"
      ]
     },
     "execution_count": 15,
     "metadata": {},
     "output_type": "execute_result"
    },
    {
     "data": {
      "image/png": "[encoded data removed]",
      "text/plain": [
       "<Figure size 432x288 with 1 Axes>"
      ]
     },
     "metadata": {
      "needs_background": "light"
     },
     "output_type": "display_data"
    }
   ],
   "source": [
    "plt.plot(accuracy)\n",
    "plt.title('ROC_AUC_Score on training data')\n",
    "plt.ylabel('ROC_AUC_Score')"
   ]
  },
  {
   "cell_type": "code",
   "execution_count": 64,
   "metadata": {},
   "outputs": [
    {
     "name": "stderr",
     "output_type": "stream",
     "text": [
      "/anaconda3/lib/python3.6/site-packages/sklearn/linear_model/logistic.py:433: FutureWarning: Default solver will be changed to 'lbfgs' in 0.22. Specify a solver to silence this warning.\n",
      "  FutureWarning)\n",
      "/anaconda3/lib/python3.6/site-packages/sklearn/linear_model/logistic.py:433: FutureWarning: Default solver will be changed to 'lbfgs' in 0.22. Specify a solver to silence this warning.\n",
      "  FutureWarning)\n",
      "/anaconda3/lib/python3.6/site-packages/sklearn/linear_model/logistic.py:433: FutureWarning: Default solver will be changed to 'lbfgs' in 0.22. Specify a solver to silence this warning.\n",
      "  FutureWarning)\n"
     ]
    },
    {
     "name": "stdout",
     "output_type": "stream",
     "text": [
      "1 0.5374319125464503\n",
      "2 0.6091702305179318\n",
      "3 0.6091702305179318\n"
     ]
    },
    {
     "name": "stderr",
     "output_type": "stream",
     "text": [
      "/anaconda3/lib/python3.6/site-packages/sklearn/linear_model/logistic.py:433: FutureWarning: Default solver will be changed to 'lbfgs' in 0.22. Specify a solver to silence this warning.\n",
      "  FutureWarning)\n",
      "/anaconda3/lib/python3.6/site-packages/sklearn/linear_model/logistic.py:433: FutureWarning: Default solver will be changed to 'lbfgs' in 0.22. Specify a solver to silence this warning.\n",
      "  FutureWarning)\n"
     ]
    },
    {
     "name": "stdout",
     "output_type": "stream",
     "text": [
      "4 0.6091702305179318\n",
      "5 0.6091702305179318\n"
     ]
    },
    {
     "name": "stderr",
     "output_type": "stream",
     "text": [
      "/anaconda3/lib/python3.6/site-packages/sklearn/linear_model/logistic.py:433: FutureWarning: Default solver will be changed to 'lbfgs' in 0.22. Specify a solver to silence this warning.\n",
      "  FutureWarning)\n",
      "/anaconda3/lib/python3.6/site-packages/sklearn/linear_model/logistic.py:433: FutureWarning: Default solver will be changed to 'lbfgs' in 0.22. Specify a solver to silence this warning.\n",
      "  FutureWarning)\n"
     ]
    },
    {
     "name": "stdout",
     "output_type": "stream",
     "text": [
      "6 0.6092300606004973\n",
      "7 0.6092300606004973\n"
     ]
    },
    {
     "name": "stderr",
     "output_type": "stream",
     "text": [
      "/anaconda3/lib/python3.6/site-packages/sklearn/linear_model/logistic.py:433: FutureWarning: Default solver will be changed to 'lbfgs' in 0.22. Specify a solver to silence this warning.\n",
      "  FutureWarning)\n",
      "/anaconda3/lib/python3.6/site-packages/sklearn/linear_model/logistic.py:433: FutureWarning: Default solver will be changed to 'lbfgs' in 0.22. Specify a solver to silence this warning.\n",
      "  FutureWarning)\n"
     ]
    },
    {
     "name": "stdout",
     "output_type": "stream",
     "text": [
      "8 0.6022610853668732\n",
      "9 0.6092001455592146\n"
     ]
    },
    {
     "name": "stderr",
     "output_type": "stream",
     "text": [
      "/anaconda3/lib/python3.6/site-packages/sklearn/linear_model/logistic.py:433: FutureWarning: Default solver will be changed to 'lbfgs' in 0.22. Specify a solver to silence this warning.\n",
      "  FutureWarning)\n",
      "/anaconda3/lib/python3.6/site-packages/sklearn/linear_model/logistic.py:433: FutureWarning: Default solver will be changed to 'lbfgs' in 0.22. Specify a solver to silence this warning.\n",
      "  FutureWarning)\n"
     ]
    },
    {
     "name": "stdout",
     "output_type": "stream",
     "text": [
      "10 0.6502960359701735\n",
      "11 0.6536608634218546\n"
     ]
    },
    {
     "name": "stderr",
     "output_type": "stream",
     "text": [
      "/anaconda3/lib/python3.6/site-packages/sklearn/linear_model/logistic.py:433: FutureWarning: Default solver will be changed to 'lbfgs' in 0.22. Specify a solver to silence this warning.\n",
      "  FutureWarning)\n"
     ]
    },
    {
     "name": "stdout",
     "output_type": "stream",
     "text": [
      "12 0.6708140661343702\n"
     ]
    },
    {
     "name": "stderr",
     "output_type": "stream",
     "text": [
      "/anaconda3/lib/python3.6/site-packages/sklearn/linear_model/logistic.py:433: FutureWarning: Default solver will be changed to 'lbfgs' in 0.22. Specify a solver to silence this warning.\n",
      "  FutureWarning)\n"
     ]
    },
    {
     "name": "stdout",
     "output_type": "stream",
     "text": [
      "13 0.6707841510930874\n"
     ]
    },
    {
     "name": "stderr",
     "output_type": "stream",
     "text": [
      "/anaconda3/lib/python3.6/site-packages/sklearn/linear_model/logistic.py:433: FutureWarning: Default solver will be changed to 'lbfgs' in 0.22. Specify a solver to silence this warning.\n",
      "  FutureWarning)\n"
     ]
    },
    {
     "name": "stdout",
     "output_type": "stream",
     "text": [
      "14 0.6707841510930874\n"
     ]
    },
    {
     "name": "stderr",
     "output_type": "stream",
     "text": [
      "/anaconda3/lib/python3.6/site-packages/sklearn/linear_model/logistic.py:433: FutureWarning: Default solver will be changed to 'lbfgs' in 0.22. Specify a solver to silence this warning.\n",
      "  FutureWarning)\n"
     ]
    },
    {
     "name": "stdout",
     "output_type": "stream",
     "text": [
      "15 0.674208808627334\n"
     ]
    },
    {
     "name": "stderr",
     "output_type": "stream",
     "text": [
      "/anaconda3/lib/python3.6/site-packages/sklearn/linear_model/logistic.py:433: FutureWarning: Default solver will be changed to 'lbfgs' in 0.22. Specify a solver to silence this warning.\n",
      "  FutureWarning)\n"
     ]
    },
    {
     "name": "stdout",
     "output_type": "stream",
     "text": [
      "16 0.6810581236958271\n"
     ]
    },
    {
     "name": "stderr",
     "output_type": "stream",
     "text": [
      "/anaconda3/lib/python3.6/site-packages/sklearn/linear_model/logistic.py:433: FutureWarning: Default solver will be changed to 'lbfgs' in 0.22. Specify a solver to silence this warning.\n",
      "  FutureWarning)\n"
     ]
    },
    {
     "name": "stdout",
     "output_type": "stream",
     "text": [
      "17 0.6810581236958271\n"
     ]
    },
    {
     "name": "stderr",
     "output_type": "stream",
     "text": [
      "/anaconda3/lib/python3.6/site-packages/sklearn/linear_model/logistic.py:433: FutureWarning: Default solver will be changed to 'lbfgs' in 0.22. Specify a solver to silence this warning.\n",
      "  FutureWarning)\n"
     ]
    },
    {
     "name": "stdout",
     "output_type": "stream",
     "text": [
      "18 0.6810581236958271\n"
     ]
    },
    {
     "name": "stderr",
     "output_type": "stream",
     "text": [
      "/anaconda3/lib/python3.6/site-packages/sklearn/linear_model/logistic.py:433: FutureWarning: Default solver will be changed to 'lbfgs' in 0.22. Specify a solver to silence this warning.\n",
      "  FutureWarning)\n"
     ]
    },
    {
     "name": "stdout",
     "output_type": "stream",
     "text": [
      "19 0.6639348360245942\n",
      "\n",
      "19\n",
      "0.6810581236958271\n"
     ]
    }
   ],
   "source": [
    "accuracy = []\n",
    "for i in range(1,train_fea.shape[1]):\n",
    "    features_sub = train_fea.iloc[:,:i]\n",
    "    features_sub_test = test_fea.iloc[:,:i]\n",
    "    clf = LogisticRegression()\n",
    "    clf.fit(features_sub, train_lab)\n",
    "    predictions = clf.predict(features_sub_test)\n",
    "    score = roc_auc_score(test_lab, predictions)\n",
    "    accuracy.append(score)\n",
    "    print(i, score)\n",
    "\n",
    "print(\"\")\n",
    "print(len(accuracy))\n",
    "print(max(accuracy))"
   ]
  },
  {
   "cell_type": "code",
   "execution_count": 65,
   "metadata": {},
   "outputs": [
    {
     "data": {
      "text/plain": [
       "Text(0, 0.5, 'ROC_AUC_Score')"
      ]
     },
     "execution_count": 65,
     "metadata": {},
     "output_type": "execute_result"
    },
    {
     "data": {
      "image/png": "[encoded data removed]",
      "text/plain": [
       "<Figure size 432x288 with 1 Axes>"
      ]
     },
     "metadata": {
      "needs_background": "light"
     },
     "output_type": "display_data"
    }
   ],
   "source": [
    "plt.plot(accuracy)\n",
    "plt.title('ROC_AUC_Score on testing data')\n",
    "plt.ylabel('ROC_AUC_Score')"
   ]
  },
  {
   "cell_type": "code",
   "execution_count": 62,
   "metadata": {},
   "outputs": [
    {
     "name": "stderr",
     "output_type": "stream",
     "text": [
      "/anaconda3/lib/python3.6/site-packages/sklearn/linear_model/logistic.py:433: FutureWarning: Default solver will be changed to 'lbfgs' in 0.22. Specify a solver to silence this warning.\n",
      "  FutureWarning)\n",
      "/anaconda3/lib/python3.6/site-packages/sklearn/linear_model/logistic.py:433: FutureWarning: Default solver will be changed to 'lbfgs' in 0.22. Specify a solver to silence this warning.\n",
      "  FutureWarning)\n",
      "/anaconda3/lib/python3.6/site-packages/sklearn/linear_model/logistic.py:433: FutureWarning: Default solver will be changed to 'lbfgs' in 0.22. Specify a solver to silence this warning.\n",
      "  FutureWarning)\n"
     ]
    },
    {
     "name": "stdout",
     "output_type": "stream",
     "text": [
      "1 0.5\n",
      "2 0.5918850975145805\n",
      "3 0.5918850975145805\n"
     ]
    },
    {
     "name": "stderr",
     "output_type": "stream",
     "text": [
      "/anaconda3/lib/python3.6/site-packages/sklearn/linear_model/logistic.py:433: FutureWarning: Default solver will be changed to 'lbfgs' in 0.22. Specify a solver to silence this warning.\n",
      "  FutureWarning)\n",
      "/anaconda3/lib/python3.6/site-packages/sklearn/linear_model/logistic.py:433: FutureWarning: Default solver will be changed to 'lbfgs' in 0.22. Specify a solver to silence this warning.\n",
      "  FutureWarning)\n",
      "/anaconda3/lib/python3.6/site-packages/sklearn/linear_model/logistic.py:433: FutureWarning: Default solver will be changed to 'lbfgs' in 0.22. Specify a solver to silence this warning.\n",
      "  FutureWarning)\n"
     ]
    },
    {
     "name": "stdout",
     "output_type": "stream",
     "text": [
      "4 0.5918850975145805\n",
      "5 0.5918850975145805\n",
      "6 0.5918850975145805\n",
      "7 0.5918850975145805\n"
     ]
    },
    {
     "name": "stderr",
     "output_type": "stream",
     "text": [
      "/anaconda3/lib/python3.6/site-packages/sklearn/linear_model/logistic.py:433: FutureWarning: Default solver will be changed to 'lbfgs' in 0.22. Specify a solver to silence this warning.\n",
      "  FutureWarning)\n",
      "/anaconda3/lib/python3.6/site-packages/sklearn/linear_model/logistic.py:433: FutureWarning: Default solver will be changed to 'lbfgs' in 0.22. Specify a solver to silence this warning.\n",
      "  FutureWarning)\n"
     ]
    },
    {
     "name": "stdout",
     "output_type": "stream",
     "text": [
      "8 0.5919270508624578\n",
      "9 0.5973877829975972\n"
     ]
    },
    {
     "name": "stderr",
     "output_type": "stream",
     "text": [
      "/anaconda3/lib/python3.6/site-packages/sklearn/linear_model/logistic.py:433: FutureWarning: Default solver will be changed to 'lbfgs' in 0.22. Specify a solver to silence this warning.\n",
      "  FutureWarning)\n",
      "/anaconda3/lib/python3.6/site-packages/sklearn/linear_model/logistic.py:433: FutureWarning: Default solver will be changed to 'lbfgs' in 0.22. Specify a solver to silence this warning.\n",
      "  FutureWarning)\n"
     ]
    },
    {
     "name": "stdout",
     "output_type": "stream",
     "text": [
      "10 0.5919270508624578\n",
      "11 0.5919270508624578\n"
     ]
    },
    {
     "name": "stderr",
     "output_type": "stream",
     "text": [
      "/anaconda3/lib/python3.6/site-packages/sklearn/linear_model/logistic.py:433: FutureWarning: Default solver will be changed to 'lbfgs' in 0.22. Specify a solver to silence this warning.\n",
      "  FutureWarning)\n",
      "/anaconda3/lib/python3.6/site-packages/sklearn/linear_model/logistic.py:433: FutureWarning: Default solver will be changed to 'lbfgs' in 0.22. Specify a solver to silence this warning.\n",
      "  FutureWarning)\n"
     ]
    },
    {
     "name": "stdout",
     "output_type": "stream",
     "text": [
      "12 0.5919270508624578\n"
     ]
    },
    {
     "name": "stderr",
     "output_type": "stream",
     "text": [
      "/anaconda3/lib/python3.6/site-packages/sklearn/linear_model/logistic.py:433: FutureWarning: Default solver will be changed to 'lbfgs' in 0.22. Specify a solver to silence this warning.\n",
      "  FutureWarning)\n"
     ]
    },
    {
     "name": "stdout",
     "output_type": "stream",
     "text": [
      "13 0.5919270508624578\n"
     ]
    },
    {
     "name": "stderr",
     "output_type": "stream",
     "text": [
      "/anaconda3/lib/python3.6/site-packages/sklearn/linear_model/logistic.py:433: FutureWarning: Default solver will be changed to 'lbfgs' in 0.22. Specify a solver to silence this warning.\n",
      "  FutureWarning)\n"
     ]
    },
    {
     "name": "stdout",
     "output_type": "stream",
     "text": [
      "14 0.5919270508624578\n"
     ]
    },
    {
     "name": "stderr",
     "output_type": "stream",
     "text": [
      "/anaconda3/lib/python3.6/site-packages/sklearn/linear_model/logistic.py:433: FutureWarning: Default solver will be changed to 'lbfgs' in 0.22. Specify a solver to silence this warning.\n",
      "  FutureWarning)\n"
     ]
    },
    {
     "name": "stdout",
     "output_type": "stream",
     "text": [
      "15 0.5919270508624578\n"
     ]
    },
    {
     "name": "stderr",
     "output_type": "stream",
     "text": [
      "/anaconda3/lib/python3.6/site-packages/sklearn/linear_model/logistic.py:433: FutureWarning: Default solver will be changed to 'lbfgs' in 0.22. Specify a solver to silence this warning.\n",
      "  FutureWarning)\n"
     ]
    },
    {
     "name": "stdout",
     "output_type": "stream",
     "text": [
      "16 0.5919690042103348\n"
     ]
    },
    {
     "name": "stderr",
     "output_type": "stream",
     "text": [
      "/anaconda3/lib/python3.6/site-packages/sklearn/linear_model/logistic.py:433: FutureWarning: Default solver will be changed to 'lbfgs' in 0.22. Specify a solver to silence this warning.\n",
      "  FutureWarning)\n"
     ]
    },
    {
     "name": "stdout",
     "output_type": "stream",
     "text": [
      "17 0.5919690042103348\n"
     ]
    },
    {
     "name": "stderr",
     "output_type": "stream",
     "text": [
      "/anaconda3/lib/python3.6/site-packages/sklearn/linear_model/logistic.py:433: FutureWarning: Default solver will be changed to 'lbfgs' in 0.22. Specify a solver to silence this warning.\n",
      "  FutureWarning)\n"
     ]
    },
    {
     "name": "stdout",
     "output_type": "stream",
     "text": [
      "18 0.5919690042103348\n"
     ]
    },
    {
     "name": "stderr",
     "output_type": "stream",
     "text": [
      "/anaconda3/lib/python3.6/site-packages/sklearn/linear_model/logistic.py:433: FutureWarning: Default solver will be changed to 'lbfgs' in 0.22. Specify a solver to silence this warning.\n",
      "  FutureWarning)\n"
     ]
    },
    {
     "name": "stdout",
     "output_type": "stream",
     "text": [
      "19 0.5919690042103348\n",
      "\n",
      "19\n",
      "0.5973877829975972\n"
     ]
    }
   ],
   "source": [
    "accuracy = []\n",
    "for i in range(1,train_fea.shape[1]):\n",
    "    features_sub = train_fea.iloc[:,:i]\n",
    "    features_sub_oot = oot_fea.iloc[:,:i]\n",
    "    clf = LogisticRegression()\n",
    "    clf.fit(features_sub, train_lab)\n",
    "    predictions = clf.predict(features_sub_oot)\n",
    "    score = roc_auc_score(oot_lab, predictions)\n",
    "    accuracy.append(score)\n",
    "    print(i, score)\n",
    "\n",
    "print(\"\")\n",
    "print(len(accuracy))\n",
    "print(max(accuracy))"
   ]
  },
  {
   "cell_type": "code",
   "execution_count": 63,
   "metadata": {},
   "outputs": [
    {
     "data": {
      "text/plain": [
       "Text(0, 0.5, 'ROC_AUC_Score')"
      ]
     },
     "execution_count": 63,
     "metadata": {},
     "output_type": "execute_result"
    },
    {
     "data": {
      "image/png": "[encoded data removed]",
      "text/plain": [
       "<Figure size 432x288 with 1 Axes>"
      ]
     },
     "metadata": {
      "needs_background": "light"
     },
     "output_type": "display_data"
    }
   ],
   "source": [
    "plt.plot(accuracy)\n",
    "plt.title('ROC_AUC_Score on oot data')\n",
    "plt.ylabel('ROC_AUC_Score')"
   ]
  },
  {
   "cell_type": "markdown",
   "metadata": {},
   "source": [
    "Sadly, the accuracy (optimal # of variables = 19) and ROC_AUC_score (optimal # of variables = 9) seem pretty weird on oot data. I didn't figure out whether anything is wrong yet. "
   ]
  },
  {
   "cell_type": "markdown",
   "metadata": {},
   "source": [
    "# Feature Selection based on FDR"
   ]
  },
  {
   "cell_type": "code",
   "execution_count": 54,
   "metadata": {},
   "outputs": [],
   "source": [
    "def multipltrun(a=10,v=18):\n",
    "    '''\n",
    "    This function run model on different samples based on user input:\n",
    "    \"a\" (int) how many randome samples, default as 5\n",
    "    \"v\" (int) how many variables, default as 6 (most important ones from backward selection)\n",
    "    users can modify model based on different machine learning algorithm and its parameters\n",
    "    \n",
    "    FDR is calculated by first sorting outcome in descending order and cut off at 3%,\n",
    "    sum number of fraud records on top 3% and divided by total fraud racords for that sample\n",
    "    \n",
    "    Final output would be a dataframe contains FDR at 3% for training set, testing set, and oot. \n",
    "    '''\n",
    "    #declare dict\n",
    "    FDRdict={\"train\":[],\"test\":[],\"oot\":[]}\n",
    "    \n",
    "    for i in range(a):        \n",
    "        #split training and testing\n",
    "        train, test = train_test_split(trte_df, test_size=0.2,random_state=i)\n",
    "        \n",
    "        # split lables and features and t\n",
    "        train_lab = train[\"Fraud\"]\n",
    "        train_fea = train.iloc[:,1:v+1]\n",
    "\n",
    "        test_lab = test[\"Fraud\"]\n",
    "        test_fea = test.iloc[:,1:v+1]\n",
    "\n",
    "        oot_lab=oot_df[\"Fraud\"]\n",
    "        oot_fea=oot_df.iloc[:,1:v+1]\n",
    "\n",
    "        #define and fit model\n",
    "\n",
    "        clf = LogisticRegression()\n",
    "        clf.fit(train_fea, train_lab)\n",
    "    \n",
    "        #calculate FDR\n",
    "        for sets in [\"train\",\"test\",\"oot\"]:\n",
    "            fea=vars()[sets+'_fea'] \n",
    "            lab=vars()[sets+'_lab']\n",
    "            prob=pd.DataFrame(clf.predict_proba(fea)) #modify based on your model\n",
    "            result=pd.concat([pd.DataFrame(lab).reset_index(),prob],axis=1)\n",
    "            topRows=int(round(len(result)*0.03))\n",
    "            top3per=result.sort_values(by=1,ascending=False).head(topRows)\n",
    "            FDR=sum(top3per.loc[:,'Fraud'])/sum(result.loc[:,'Fraud'])\n",
    "            FDRdict[sets].append(FDR)\n",
    "    \n",
    "    #convert into dataframe\n",
    "    FDR_df=pd.DataFrame(FDRdict)\n",
    "   \n",
    "    #add new row to calculate mean\n",
    "    FDR_df.loc['mean']=FDR_df.mean()\n",
    "    \n",
    "    return FDR_df"
   ]
  },
  {
   "cell_type": "code",
   "execution_count": 26,
   "metadata": {},
   "outputs": [
    {
     "name": "stderr",
     "output_type": "stream",
     "text": [
      "/anaconda3/lib/python3.6/site-packages/sklearn/linear_model/logistic.py:433: FutureWarning: Default solver will be changed to 'lbfgs' in 0.22. Specify a solver to silence this warning.\n",
      "  FutureWarning)\n",
      "/anaconda3/lib/python3.6/site-packages/sklearn/linear_model/logistic.py:433: FutureWarning: Default solver will be changed to 'lbfgs' in 0.22. Specify a solver to silence this warning.\n",
      "  FutureWarning)\n",
      "/anaconda3/lib/python3.6/site-packages/sklearn/linear_model/logistic.py:433: FutureWarning: Default solver will be changed to 'lbfgs' in 0.22. Specify a solver to silence this warning.\n",
      "  FutureWarning)\n",
      "/anaconda3/lib/python3.6/site-packages/sklearn/linear_model/logistic.py:433: FutureWarning: Default solver will be changed to 'lbfgs' in 0.22. Specify a solver to silence this warning.\n",
      "  FutureWarning)\n",
      "/anaconda3/lib/python3.6/site-packages/sklearn/linear_model/logistic.py:433: FutureWarning: Default solver will be changed to 'lbfgs' in 0.22. Specify a solver to silence this warning.\n",
      "  FutureWarning)\n",
      "/anaconda3/lib/python3.6/site-packages/sklearn/linear_model/logistic.py:433: FutureWarning: Default solver will be changed to 'lbfgs' in 0.22. Specify a solver to silence this warning.\n",
      "  FutureWarning)\n",
      "/anaconda3/lib/python3.6/site-packages/sklearn/linear_model/logistic.py:433: FutureWarning: Default solver will be changed to 'lbfgs' in 0.22. Specify a solver to silence this warning.\n",
      "  FutureWarning)\n",
      "/anaconda3/lib/python3.6/site-packages/sklearn/linear_model/logistic.py:433: FutureWarning: Default solver will be changed to 'lbfgs' in 0.22. Specify a solver to silence this warning.\n",
      "  FutureWarning)\n",
      "/anaconda3/lib/python3.6/site-packages/sklearn/linear_model/logistic.py:433: FutureWarning: Default solver will be changed to 'lbfgs' in 0.22. Specify a solver to silence this warning.\n",
      "  FutureWarning)\n",
      "/anaconda3/lib/python3.6/site-packages/sklearn/linear_model/logistic.py:433: FutureWarning: Default solver will be changed to 'lbfgs' in 0.22. Specify a solver to silence this warning.\n",
      "  FutureWarning)\n"
     ]
    },
    {
     "data": {
      "text/html": [
       "<div>\n",
       "<style scoped>\n",
       "    .dataframe tbody tr th:only-of-type {\n",
       "        vertical-align: middle;\n",
       "    }\n",
       "\n",
       "    .dataframe tbody tr th {\n",
       "        vertical-align: top;\n",
       "    }\n",
       "\n",
       "    .dataframe thead th {\n",
       "        text-align: right;\n",
       "    }\n",
       "</style>\n",
       "<table border=\"1\" class=\"dataframe\">\n",
       "  <thead>\n",
       "    <tr style=\"text-align: right;\">\n",
       "      <th></th>\n",
       "      <th>train</th>\n",
       "      <th>test</th>\n",
       "      <th>oot</th>\n",
       "    </tr>\n",
       "  </thead>\n",
       "  <tbody>\n",
       "    <tr>\n",
       "      <th>0</th>\n",
       "      <td>0.662125</td>\n",
       "      <td>0.609589</td>\n",
       "      <td>0.340782</td>\n",
       "    </tr>\n",
       "    <tr>\n",
       "      <th>1</th>\n",
       "      <td>0.664286</td>\n",
       "      <td>0.661111</td>\n",
       "      <td>0.402235</td>\n",
       "    </tr>\n",
       "    <tr>\n",
       "      <th>2</th>\n",
       "      <td>0.668596</td>\n",
       "      <td>0.650794</td>\n",
       "      <td>0.385475</td>\n",
       "    </tr>\n",
       "    <tr>\n",
       "      <th>3</th>\n",
       "      <td>0.655462</td>\n",
       "      <td>0.650602</td>\n",
       "      <td>0.335196</td>\n",
       "    </tr>\n",
       "    <tr>\n",
       "      <th>4</th>\n",
       "      <td>0.654596</td>\n",
       "      <td>0.685185</td>\n",
       "      <td>0.385475</td>\n",
       "    </tr>\n",
       "    <tr>\n",
       "      <th>5</th>\n",
       "      <td>0.670940</td>\n",
       "      <td>0.606742</td>\n",
       "      <td>0.351955</td>\n",
       "    </tr>\n",
       "    <tr>\n",
       "      <th>6</th>\n",
       "      <td>0.665698</td>\n",
       "      <td>0.625000</td>\n",
       "      <td>0.346369</td>\n",
       "    </tr>\n",
       "    <tr>\n",
       "      <th>7</th>\n",
       "      <td>0.646974</td>\n",
       "      <td>0.715054</td>\n",
       "      <td>0.335196</td>\n",
       "    </tr>\n",
       "    <tr>\n",
       "      <th>8</th>\n",
       "      <td>0.642655</td>\n",
       "      <td>0.709302</td>\n",
       "      <td>0.402235</td>\n",
       "    </tr>\n",
       "    <tr>\n",
       "      <th>9</th>\n",
       "      <td>0.671408</td>\n",
       "      <td>0.638418</td>\n",
       "      <td>0.396648</td>\n",
       "    </tr>\n",
       "    <tr>\n",
       "      <th>mean</th>\n",
       "      <td>0.660274</td>\n",
       "      <td>0.655180</td>\n",
       "      <td>0.368156</td>\n",
       "    </tr>\n",
       "  </tbody>\n",
       "</table>\n",
       "</div>"
      ],
      "text/plain": [
       "         train      test       oot\n",
       "0     0.662125  0.609589  0.340782\n",
       "1     0.664286  0.661111  0.402235\n",
       "2     0.668596  0.650794  0.385475\n",
       "3     0.655462  0.650602  0.335196\n",
       "4     0.654596  0.685185  0.385475\n",
       "5     0.670940  0.606742  0.351955\n",
       "6     0.665698  0.625000  0.346369\n",
       "7     0.646974  0.715054  0.335196\n",
       "8     0.642655  0.709302  0.402235\n",
       "9     0.671408  0.638418  0.396648\n",
       "mean  0.660274  0.655180  0.368156"
      ]
     },
     "execution_count": 26,
     "metadata": {},
     "output_type": "execute_result"
    }
   ],
   "source": [
    "multipltrun()"
   ]
  },
  {
   "cell_type": "code",
   "execution_count": 55,
   "metadata": {},
   "outputs": [
    {
     "name": "stderr",
     "output_type": "stream",
     "text": [
      "/anaconda3/lib/python3.6/site-packages/sklearn/linear_model/logistic.py:433: FutureWarning: Default solver will be changed to 'lbfgs' in 0.22. Specify a solver to silence this warning.\n",
      "  FutureWarning)\n",
      "/anaconda3/lib/python3.6/site-packages/sklearn/linear_model/logistic.py:433: FutureWarning: Default solver will be changed to 'lbfgs' in 0.22. Specify a solver to silence this warning.\n",
      "  FutureWarning)\n",
      "/anaconda3/lib/python3.6/site-packages/sklearn/linear_model/logistic.py:433: FutureWarning: Default solver will be changed to 'lbfgs' in 0.22. Specify a solver to silence this warning.\n",
      "  FutureWarning)\n",
      "/anaconda3/lib/python3.6/site-packages/sklearn/linear_model/logistic.py:433: FutureWarning: Default solver will be changed to 'lbfgs' in 0.22. Specify a solver to silence this warning.\n",
      "  FutureWarning)\n",
      "/anaconda3/lib/python3.6/site-packages/sklearn/linear_model/logistic.py:433: FutureWarning: Default solver will be changed to 'lbfgs' in 0.22. Specify a solver to silence this warning.\n",
      "  FutureWarning)\n",
      "/anaconda3/lib/python3.6/site-packages/sklearn/linear_model/logistic.py:433: FutureWarning: Default solver will be changed to 'lbfgs' in 0.22. Specify a solver to silence this warning.\n",
      "  FutureWarning)\n",
      "/anaconda3/lib/python3.6/site-packages/sklearn/linear_model/logistic.py:433: FutureWarning: Default solver will be changed to 'lbfgs' in 0.22. Specify a solver to silence this warning.\n",
      "  FutureWarning)\n",
      "/anaconda3/lib/python3.6/site-packages/sklearn/linear_model/logistic.py:433: FutureWarning: Default solver will be changed to 'lbfgs' in 0.22. Specify a solver to silence this warning.\n",
      "  FutureWarning)\n",
      "/anaconda3/lib/python3.6/site-packages/sklearn/linear_model/logistic.py:433: FutureWarning: Default solver will be changed to 'lbfgs' in 0.22. Specify a solver to silence this warning.\n",
      "  FutureWarning)\n",
      "/anaconda3/lib/python3.6/site-packages/sklearn/linear_model/logistic.py:433: FutureWarning: Default solver will be changed to 'lbfgs' in 0.22. Specify a solver to silence this warning.\n",
      "  FutureWarning)\n"
     ]
    },
    {
     "data": {
      "text/html": [
       "<div>\n",
       "<style scoped>\n",
       "    .dataframe tbody tr th:only-of-type {\n",
       "        vertical-align: middle;\n",
       "    }\n",
       "\n",
       "    .dataframe tbody tr th {\n",
       "        vertical-align: top;\n",
       "    }\n",
       "\n",
       "    .dataframe thead th {\n",
       "        text-align: right;\n",
       "    }\n",
       "</style>\n",
       "<table border=\"1\" class=\"dataframe\">\n",
       "  <thead>\n",
       "    <tr style=\"text-align: right;\">\n",
       "      <th></th>\n",
       "      <th>train</th>\n",
       "      <th>test</th>\n",
       "      <th>oot</th>\n",
       "    </tr>\n",
       "  </thead>\n",
       "  <tbody>\n",
       "    <tr>\n",
       "      <th>0</th>\n",
       "      <td>0.663488</td>\n",
       "      <td>0.602740</td>\n",
       "      <td>0.335196</td>\n",
       "    </tr>\n",
       "    <tr>\n",
       "      <th>1</th>\n",
       "      <td>0.665714</td>\n",
       "      <td>0.661111</td>\n",
       "      <td>0.407821</td>\n",
       "    </tr>\n",
       "    <tr>\n",
       "      <th>2</th>\n",
       "      <td>0.662808</td>\n",
       "      <td>0.656085</td>\n",
       "      <td>0.379888</td>\n",
       "    </tr>\n",
       "    <tr>\n",
       "      <th>3</th>\n",
       "      <td>0.663866</td>\n",
       "      <td>0.638554</td>\n",
       "      <td>0.335196</td>\n",
       "    </tr>\n",
       "    <tr>\n",
       "      <th>4</th>\n",
       "      <td>0.658774</td>\n",
       "      <td>0.697531</td>\n",
       "      <td>0.385475</td>\n",
       "    </tr>\n",
       "    <tr>\n",
       "      <th>5</th>\n",
       "      <td>0.670940</td>\n",
       "      <td>0.606742</td>\n",
       "      <td>0.351955</td>\n",
       "    </tr>\n",
       "    <tr>\n",
       "      <th>6</th>\n",
       "      <td>0.674419</td>\n",
       "      <td>0.619792</td>\n",
       "      <td>0.329609</td>\n",
       "    </tr>\n",
       "    <tr>\n",
       "      <th>7</th>\n",
       "      <td>0.648415</td>\n",
       "      <td>0.720430</td>\n",
       "      <td>0.335196</td>\n",
       "    </tr>\n",
       "    <tr>\n",
       "      <th>8</th>\n",
       "      <td>0.651130</td>\n",
       "      <td>0.720930</td>\n",
       "      <td>0.385475</td>\n",
       "    </tr>\n",
       "    <tr>\n",
       "      <th>9</th>\n",
       "      <td>0.674253</td>\n",
       "      <td>0.649718</td>\n",
       "      <td>0.374302</td>\n",
       "    </tr>\n",
       "    <tr>\n",
       "      <th>mean</th>\n",
       "      <td>0.663381</td>\n",
       "      <td>0.657363</td>\n",
       "      <td>0.362011</td>\n",
       "    </tr>\n",
       "  </tbody>\n",
       "</table>\n",
       "</div>"
      ],
      "text/plain": [
       "         train      test       oot\n",
       "0     0.663488  0.602740  0.335196\n",
       "1     0.665714  0.661111  0.407821\n",
       "2     0.662808  0.656085  0.379888\n",
       "3     0.663866  0.638554  0.335196\n",
       "4     0.658774  0.697531  0.385475\n",
       "5     0.670940  0.606742  0.351955\n",
       "6     0.674419  0.619792  0.329609\n",
       "7     0.648415  0.720430  0.335196\n",
       "8     0.651130  0.720930  0.385475\n",
       "9     0.674253  0.649718  0.374302\n",
       "mean  0.663381  0.657363  0.362011"
      ]
     },
     "execution_count": 55,
     "metadata": {},
     "output_type": "execute_result"
    }
   ],
   "source": [
    "multipltrun(v=19)"
   ]
  },
  {
   "cell_type": "code",
   "execution_count": 52,
   "metadata": {},
   "outputs": [],
   "source": [
    "def multipltrun_2(a=10,v=18):\n",
    "    '''\n",
    "    This function run model on different samples based on user input:\n",
    "    \"a\" (int) how many randome samples, default as 5\n",
    "    \"v\" (int) how many variables, default as 6 (most important ones from backward selection)\n",
    "    users can modify model based on different machine learning algorithm and its parameters\n",
    "    \n",
    "    FDR is calculated by first sorting outcome in descending order and cut off at 3%,\n",
    "    sum number of fraud records on top 3% and divided by total fraud racords for that sample\n",
    "    \n",
    "    Final output would be a dataframe contains FDR at 3% for training set, testing set, and oot. \n",
    "    '''\n",
    "    #declare dict\n",
    "    FDRdf_v=pd.DataFrame({\"train\":[],\"test\":[],\"oot\":[]})\n",
    "    \n",
    "    for j in range(1,v+1):\n",
    "        FDRdict={\"train\":[],\"test\":[],\"oot\":[]}\n",
    "        \n",
    "        for i in range(a):\n",
    "        #split training and testing\n",
    "            train, test = train_test_split(trte_df, test_size=0.2,random_state=i)\n",
    "        \n",
    "            # split lables and features and t\n",
    "            train_lab = train[\"Fraud\"]\n",
    "            train_fea = train.iloc[:,1:j+1]\n",
    "\n",
    "            test_lab = test[\"Fraud\"]\n",
    "            test_fea = test.iloc[:,1:j+1]\n",
    "\n",
    "            oot_lab=oot_df[\"Fraud\"]\n",
    "            oot_fea=oot_df.iloc[:,1:j+1]\n",
    "\n",
    "            #define and fit model\n",
    "\n",
    "            clf = LogisticRegression()\n",
    "            clf.fit(train_fea, train_lab)\n",
    "\n",
    "            #calculate FDR\n",
    "            for sets in [\"train\",\"test\",\"oot\"]:\n",
    "                fea=vars()[sets+'_fea'] \n",
    "                lab=vars()[sets+'_lab']\n",
    "                prob=pd.DataFrame(clf.predict_proba(fea)) \n",
    "                result=pd.concat([pd.DataFrame(lab).reset_index(),prob],axis=1)\n",
    "                topRows=int(round(len(result)*0.03))\n",
    "                top3per=result.sort_values(by=1,ascending=False).head(topRows)\n",
    "                FDR=sum(top3per.loc[:,'Fraud'])/sum(result.loc[:,'Fraud'])\n",
    "                FDRdict[sets].append(FDR)\n",
    "    \n",
    "    #convert into dataframe\n",
    "        FDR_df=pd.DataFrame(FDRdict)\n",
    "   \n",
    "    #add new row to calculate mean\n",
    "        # FDRdf_v.append(FDR_df.mean(),ignore_index=True)\n",
    "    \n",
    "        FDRdf_v.loc[j+1]=FDR_df.mean()\n",
    "        \n",
    "    return FDRdf_v"
   ]
  },
  {
   "cell_type": "code",
   "execution_count": 53,
   "metadata": {},
   "outputs": [
    {
     "name": "stderr",
     "output_type": "stream",
     "text": [
      "/anaconda3/lib/python3.6/site-packages/sklearn/linear_model/logistic.py:433: FutureWarning: Default solver will be changed to 'lbfgs' in 0.22. Specify a solver to silence this warning.\n",
      "  FutureWarning)\n",
      "/anaconda3/lib/python3.6/site-packages/sklearn/linear_model/logistic.py:433: FutureWarning: Default solver will be changed to 'lbfgs' in 0.22. Specify a solver to silence this warning.\n",
      "  FutureWarning)\n",
      "/anaconda3/lib/python3.6/site-packages/sklearn/linear_model/logistic.py:433: FutureWarning: Default solver will be changed to 'lbfgs' in 0.22. Specify a solver to silence this warning.\n",
      "  FutureWarning)\n",
      "/anaconda3/lib/python3.6/site-packages/sklearn/linear_model/logistic.py:433: FutureWarning: Default solver will be changed to 'lbfgs' in 0.22. Specify a solver to silence this warning.\n",
      "  FutureWarning)\n",
      "/anaconda3/lib/python3.6/site-packages/sklearn/linear_model/logistic.py:433: FutureWarning: Default solver will be changed to 'lbfgs' in 0.22. Specify a solver to silence this warning.\n",
      "  FutureWarning)\n",
      "/anaconda3/lib/python3.6/site-packages/sklearn/linear_model/logistic.py:433: FutureWarning: Default solver will be changed to 'lbfgs' in 0.22. Specify a solver to silence this warning.\n",
      "  FutureWarning)\n",
      "/anaconda3/lib/python3.6/site-packages/sklearn/linear_model/logistic.py:433: FutureWarning: Default solver will be changed to 'lbfgs' in 0.22. Specify a solver to silence this warning.\n",
      "  FutureWarning)\n",
      "/anaconda3/lib/python3.6/site-packages/sklearn/linear_model/logistic.py:433: FutureWarning: Default solver will be changed to 'lbfgs' in 0.22. Specify a solver to silence this warning.\n",
      "  FutureWarning)\n",
      "/anaconda3/lib/python3.6/site-packages/sklearn/linear_model/logistic.py:433: FutureWarning: Default solver will be changed to 'lbfgs' in 0.22. Specify a solver to silence this warning.\n",
      "  FutureWarning)\n",
      "/anaconda3/lib/python3.6/site-packages/sklearn/linear_model/logistic.py:433: FutureWarning: Default solver will be changed to 'lbfgs' in 0.22. Specify a solver to silence this warning.\n",
      "  FutureWarning)\n",
      "/anaconda3/lib/python3.6/site-packages/sklearn/linear_model/logistic.py:433: FutureWarning: Default solver will be changed to 'lbfgs' in 0.22. Specify a solver to silence this warning.\n",
      "  FutureWarning)\n",
      "/anaconda3/lib/python3.6/site-packages/sklearn/linear_model/logistic.py:433: FutureWarning: Default solver will be changed to 'lbfgs' in 0.22. Specify a solver to silence this warning.\n",
      "  FutureWarning)\n",
      "/anaconda3/lib/python3.6/site-packages/sklearn/linear_model/logistic.py:433: FutureWarning: Default solver will be changed to 'lbfgs' in 0.22. Specify a solver to silence this warning.\n",
      "  FutureWarning)\n",
      "/anaconda3/lib/python3.6/site-packages/sklearn/linear_model/logistic.py:433: FutureWarning: Default solver will be changed to 'lbfgs' in 0.22. Specify a solver to silence this warning.\n",
      "  FutureWarning)\n",
      "/anaconda3/lib/python3.6/site-packages/sklearn/linear_model/logistic.py:433: FutureWarning: Default solver will be changed to 'lbfgs' in 0.22. Specify a solver to silence this warning.\n",
      "  FutureWarning)\n",
      "/anaconda3/lib/python3.6/site-packages/sklearn/linear_model/logistic.py:433: FutureWarning: Default solver will be changed to 'lbfgs' in 0.22. Specify a solver to silence this warning.\n",
      "  FutureWarning)\n",
      "/anaconda3/lib/python3.6/site-packages/sklearn/linear_model/logistic.py:433: FutureWarning: Default solver will be changed to 'lbfgs' in 0.22. Specify a solver to silence this warning.\n",
      "  FutureWarning)\n",
      "/anaconda3/lib/python3.6/site-packages/sklearn/linear_model/logistic.py:433: FutureWarning: Default solver will be changed to 'lbfgs' in 0.22. Specify a solver to silence this warning.\n",
      "  FutureWarning)\n",
      "/anaconda3/lib/python3.6/site-packages/sklearn/linear_model/logistic.py:433: FutureWarning: Default solver will be changed to 'lbfgs' in 0.22. Specify a solver to silence this warning.\n",
      "  FutureWarning)\n",
      "/anaconda3/lib/python3.6/site-packages/sklearn/linear_model/logistic.py:433: FutureWarning: Default solver will be changed to 'lbfgs' in 0.22. Specify a solver to silence this warning.\n",
      "  FutureWarning)\n",
      "/anaconda3/lib/python3.6/site-packages/sklearn/linear_model/logistic.py:433: FutureWarning: Default solver will be changed to 'lbfgs' in 0.22. Specify a solver to silence this warning.\n",
      "  FutureWarning)\n",
      "/anaconda3/lib/python3.6/site-packages/sklearn/linear_model/logistic.py:433: FutureWarning: Default solver will be changed to 'lbfgs' in 0.22. Specify a solver to silence this warning.\n",
      "  FutureWarning)\n",
      "/anaconda3/lib/python3.6/site-packages/sklearn/linear_model/logistic.py:433: FutureWarning: Default solver will be changed to 'lbfgs' in 0.22. Specify a solver to silence this warning.\n",
      "  FutureWarning)\n",
      "/anaconda3/lib/python3.6/site-packages/sklearn/linear_model/logistic.py:433: FutureWarning: Default solver will be changed to 'lbfgs' in 0.22. Specify a solver to silence this warning.\n",
      "  FutureWarning)\n",
      "/anaconda3/lib/python3.6/site-packages/sklearn/linear_model/logistic.py:433: FutureWarning: Default solver will be changed to 'lbfgs' in 0.22. Specify a solver to silence this warning.\n",
      "  FutureWarning)\n",
      "/anaconda3/lib/python3.6/site-packages/sklearn/linear_model/logistic.py:433: FutureWarning: Default solver will be changed to 'lbfgs' in 0.22. Specify a solver to silence this warning.\n",
      "  FutureWarning)\n",
      "/anaconda3/lib/python3.6/site-packages/sklearn/linear_model/logistic.py:433: FutureWarning: Default solver will be changed to 'lbfgs' in 0.22. Specify a solver to silence this warning.\n",
      "  FutureWarning)\n",
      "/anaconda3/lib/python3.6/site-packages/sklearn/linear_model/logistic.py:433: FutureWarning: Default solver will be changed to 'lbfgs' in 0.22. Specify a solver to silence this warning.\n",
      "  FutureWarning)\n",
      "/anaconda3/lib/python3.6/site-packages/sklearn/linear_model/logistic.py:433: FutureWarning: Default solver will be changed to 'lbfgs' in 0.22. Specify a solver to silence this warning.\n",
      "  FutureWarning)\n",
      "/anaconda3/lib/python3.6/site-packages/sklearn/linear_model/logistic.py:433: FutureWarning: Default solver will be changed to 'lbfgs' in 0.22. Specify a solver to silence this warning.\n",
      "  FutureWarning)\n",
      "/anaconda3/lib/python3.6/site-packages/sklearn/linear_model/logistic.py:433: FutureWarning: Default solver will be changed to 'lbfgs' in 0.22. Specify a solver to silence this warning.\n",
      "  FutureWarning)\n",
      "/anaconda3/lib/python3.6/site-packages/sklearn/linear_model/logistic.py:433: FutureWarning: Default solver will be changed to 'lbfgs' in 0.22. Specify a solver to silence this warning.\n",
      "  FutureWarning)\n",
      "/anaconda3/lib/python3.6/site-packages/sklearn/linear_model/logistic.py:433: FutureWarning: Default solver will be changed to 'lbfgs' in 0.22. Specify a solver to silence this warning.\n",
      "  FutureWarning)\n",
      "/anaconda3/lib/python3.6/site-packages/sklearn/linear_model/logistic.py:433: FutureWarning: Default solver will be changed to 'lbfgs' in 0.22. Specify a solver to silence this warning.\n",
      "  FutureWarning)\n",
      "/anaconda3/lib/python3.6/site-packages/sklearn/linear_model/logistic.py:433: FutureWarning: Default solver will be changed to 'lbfgs' in 0.22. Specify a solver to silence this warning.\n",
      "  FutureWarning)\n",
      "/anaconda3/lib/python3.6/site-packages/sklearn/linear_model/logistic.py:433: FutureWarning: Default solver will be changed to 'lbfgs' in 0.22. Specify a solver to silence this warning.\n",
      "  FutureWarning)\n",
      "/anaconda3/lib/python3.6/site-packages/sklearn/linear_model/logistic.py:433: FutureWarning: Default solver will be changed to 'lbfgs' in 0.22. Specify a solver to silence this warning.\n",
      "  FutureWarning)\n",
      "/anaconda3/lib/python3.6/site-packages/sklearn/linear_model/logistic.py:433: FutureWarning: Default solver will be changed to 'lbfgs' in 0.22. Specify a solver to silence this warning.\n",
      "  FutureWarning)\n",
      "/anaconda3/lib/python3.6/site-packages/sklearn/linear_model/logistic.py:433: FutureWarning: Default solver will be changed to 'lbfgs' in 0.22. Specify a solver to silence this warning.\n",
      "  FutureWarning)\n",
      "/anaconda3/lib/python3.6/site-packages/sklearn/linear_model/logistic.py:433: FutureWarning: Default solver will be changed to 'lbfgs' in 0.22. Specify a solver to silence this warning.\n",
      "  FutureWarning)\n",
      "/anaconda3/lib/python3.6/site-packages/sklearn/linear_model/logistic.py:433: FutureWarning: Default solver will be changed to 'lbfgs' in 0.22. Specify a solver to silence this warning.\n",
      "  FutureWarning)\n",
      "/anaconda3/lib/python3.6/site-packages/sklearn/linear_model/logistic.py:433: FutureWarning: Default solver will be changed to 'lbfgs' in 0.22. Specify a solver to silence this warning.\n",
      "  FutureWarning)\n"
     ]
    },
    {
     "name": "stderr",
     "output_type": "stream",
     "text": [
      "/anaconda3/lib/python3.6/site-packages/sklearn/linear_model/logistic.py:433: FutureWarning: Default solver will be changed to 'lbfgs' in 0.22. Specify a solver to silence this warning.\n",
      "  FutureWarning)\n",
      "/anaconda3/lib/python3.6/site-packages/sklearn/linear_model/logistic.py:433: FutureWarning: Default solver will be changed to 'lbfgs' in 0.22. Specify a solver to silence this warning.\n",
      "  FutureWarning)\n",
      "/anaconda3/lib/python3.6/site-packages/sklearn/linear_model/logistic.py:433: FutureWarning: Default solver will be changed to 'lbfgs' in 0.22. Specify a solver to silence this warning.\n",
      "  FutureWarning)\n",
      "/anaconda3/lib/python3.6/site-packages/sklearn/linear_model/logistic.py:433: FutureWarning: Default solver will be changed to 'lbfgs' in 0.22. Specify a solver to silence this warning.\n",
      "  FutureWarning)\n",
      "/anaconda3/lib/python3.6/site-packages/sklearn/linear_model/logistic.py:433: FutureWarning: Default solver will be changed to 'lbfgs' in 0.22. Specify a solver to silence this warning.\n",
      "  FutureWarning)\n",
      "/anaconda3/lib/python3.6/site-packages/sklearn/linear_model/logistic.py:433: FutureWarning: Default solver will be changed to 'lbfgs' in 0.22. Specify a solver to silence this warning.\n",
      "  FutureWarning)\n",
      "/anaconda3/lib/python3.6/site-packages/sklearn/linear_model/logistic.py:433: FutureWarning: Default solver will be changed to 'lbfgs' in 0.22. Specify a solver to silence this warning.\n",
      "  FutureWarning)\n",
      "/anaconda3/lib/python3.6/site-packages/sklearn/linear_model/logistic.py:433: FutureWarning: Default solver will be changed to 'lbfgs' in 0.22. Specify a solver to silence this warning.\n",
      "  FutureWarning)\n",
      "/anaconda3/lib/python3.6/site-packages/sklearn/linear_model/logistic.py:433: FutureWarning: Default solver will be changed to 'lbfgs' in 0.22. Specify a solver to silence this warning.\n",
      "  FutureWarning)\n",
      "/anaconda3/lib/python3.6/site-packages/sklearn/linear_model/logistic.py:433: FutureWarning: Default solver will be changed to 'lbfgs' in 0.22. Specify a solver to silence this warning.\n",
      "  FutureWarning)\n",
      "/anaconda3/lib/python3.6/site-packages/sklearn/linear_model/logistic.py:433: FutureWarning: Default solver will be changed to 'lbfgs' in 0.22. Specify a solver to silence this warning.\n",
      "  FutureWarning)\n",
      "/anaconda3/lib/python3.6/site-packages/sklearn/linear_model/logistic.py:433: FutureWarning: Default solver will be changed to 'lbfgs' in 0.22. Specify a solver to silence this warning.\n",
      "  FutureWarning)\n",
      "/anaconda3/lib/python3.6/site-packages/sklearn/linear_model/logistic.py:433: FutureWarning: Default solver will be changed to 'lbfgs' in 0.22. Specify a solver to silence this warning.\n",
      "  FutureWarning)\n",
      "/anaconda3/lib/python3.6/site-packages/sklearn/linear_model/logistic.py:433: FutureWarning: Default solver will be changed to 'lbfgs' in 0.22. Specify a solver to silence this warning.\n",
      "  FutureWarning)\n",
      "/anaconda3/lib/python3.6/site-packages/sklearn/linear_model/logistic.py:433: FutureWarning: Default solver will be changed to 'lbfgs' in 0.22. Specify a solver to silence this warning.\n",
      "  FutureWarning)\n",
      "/anaconda3/lib/python3.6/site-packages/sklearn/linear_model/logistic.py:433: FutureWarning: Default solver will be changed to 'lbfgs' in 0.22. Specify a solver to silence this warning.\n",
      "  FutureWarning)\n",
      "/anaconda3/lib/python3.6/site-packages/sklearn/linear_model/logistic.py:433: FutureWarning: Default solver will be changed to 'lbfgs' in 0.22. Specify a solver to silence this warning.\n",
      "  FutureWarning)\n",
      "/anaconda3/lib/python3.6/site-packages/sklearn/linear_model/logistic.py:433: FutureWarning: Default solver will be changed to 'lbfgs' in 0.22. Specify a solver to silence this warning.\n",
      "  FutureWarning)\n",
      "/anaconda3/lib/python3.6/site-packages/sklearn/linear_model/logistic.py:433: FutureWarning: Default solver will be changed to 'lbfgs' in 0.22. Specify a solver to silence this warning.\n",
      "  FutureWarning)\n",
      "/anaconda3/lib/python3.6/site-packages/sklearn/linear_model/logistic.py:433: FutureWarning: Default solver will be changed to 'lbfgs' in 0.22. Specify a solver to silence this warning.\n",
      "  FutureWarning)\n",
      "/anaconda3/lib/python3.6/site-packages/sklearn/linear_model/logistic.py:433: FutureWarning: Default solver will be changed to 'lbfgs' in 0.22. Specify a solver to silence this warning.\n",
      "  FutureWarning)\n",
      "/anaconda3/lib/python3.6/site-packages/sklearn/linear_model/logistic.py:433: FutureWarning: Default solver will be changed to 'lbfgs' in 0.22. Specify a solver to silence this warning.\n",
      "  FutureWarning)\n",
      "/anaconda3/lib/python3.6/site-packages/sklearn/linear_model/logistic.py:433: FutureWarning: Default solver will be changed to 'lbfgs' in 0.22. Specify a solver to silence this warning.\n",
      "  FutureWarning)\n",
      "/anaconda3/lib/python3.6/site-packages/sklearn/linear_model/logistic.py:433: FutureWarning: Default solver will be changed to 'lbfgs' in 0.22. Specify a solver to silence this warning.\n",
      "  FutureWarning)\n",
      "/anaconda3/lib/python3.6/site-packages/sklearn/linear_model/logistic.py:433: FutureWarning: Default solver will be changed to 'lbfgs' in 0.22. Specify a solver to silence this warning.\n",
      "  FutureWarning)\n",
      "/anaconda3/lib/python3.6/site-packages/sklearn/linear_model/logistic.py:433: FutureWarning: Default solver will be changed to 'lbfgs' in 0.22. Specify a solver to silence this warning.\n",
      "  FutureWarning)\n",
      "/anaconda3/lib/python3.6/site-packages/sklearn/linear_model/logistic.py:433: FutureWarning: Default solver will be changed to 'lbfgs' in 0.22. Specify a solver to silence this warning.\n",
      "  FutureWarning)\n",
      "/anaconda3/lib/python3.6/site-packages/sklearn/linear_model/logistic.py:433: FutureWarning: Default solver will be changed to 'lbfgs' in 0.22. Specify a solver to silence this warning.\n",
      "  FutureWarning)\n",
      "/anaconda3/lib/python3.6/site-packages/sklearn/linear_model/logistic.py:433: FutureWarning: Default solver will be changed to 'lbfgs' in 0.22. Specify a solver to silence this warning.\n",
      "  FutureWarning)\n",
      "/anaconda3/lib/python3.6/site-packages/sklearn/linear_model/logistic.py:433: FutureWarning: Default solver will be changed to 'lbfgs' in 0.22. Specify a solver to silence this warning.\n",
      "  FutureWarning)\n",
      "/anaconda3/lib/python3.6/site-packages/sklearn/linear_model/logistic.py:433: FutureWarning: Default solver will be changed to 'lbfgs' in 0.22. Specify a solver to silence this warning.\n",
      "  FutureWarning)\n",
      "/anaconda3/lib/python3.6/site-packages/sklearn/linear_model/logistic.py:433: FutureWarning: Default solver will be changed to 'lbfgs' in 0.22. Specify a solver to silence this warning.\n",
      "  FutureWarning)\n",
      "/anaconda3/lib/python3.6/site-packages/sklearn/linear_model/logistic.py:433: FutureWarning: Default solver will be changed to 'lbfgs' in 0.22. Specify a solver to silence this warning.\n",
      "  FutureWarning)\n",
      "/anaconda3/lib/python3.6/site-packages/sklearn/linear_model/logistic.py:433: FutureWarning: Default solver will be changed to 'lbfgs' in 0.22. Specify a solver to silence this warning.\n",
      "  FutureWarning)\n",
      "/anaconda3/lib/python3.6/site-packages/sklearn/linear_model/logistic.py:433: FutureWarning: Default solver will be changed to 'lbfgs' in 0.22. Specify a solver to silence this warning.\n",
      "  FutureWarning)\n",
      "/anaconda3/lib/python3.6/site-packages/sklearn/linear_model/logistic.py:433: FutureWarning: Default solver will be changed to 'lbfgs' in 0.22. Specify a solver to silence this warning.\n",
      "  FutureWarning)\n",
      "/anaconda3/lib/python3.6/site-packages/sklearn/linear_model/logistic.py:433: FutureWarning: Default solver will be changed to 'lbfgs' in 0.22. Specify a solver to silence this warning.\n",
      "  FutureWarning)\n",
      "/anaconda3/lib/python3.6/site-packages/sklearn/linear_model/logistic.py:433: FutureWarning: Default solver will be changed to 'lbfgs' in 0.22. Specify a solver to silence this warning.\n",
      "  FutureWarning)\n",
      "/anaconda3/lib/python3.6/site-packages/sklearn/linear_model/logistic.py:433: FutureWarning: Default solver will be changed to 'lbfgs' in 0.22. Specify a solver to silence this warning.\n",
      "  FutureWarning)\n",
      "/anaconda3/lib/python3.6/site-packages/sklearn/linear_model/logistic.py:433: FutureWarning: Default solver will be changed to 'lbfgs' in 0.22. Specify a solver to silence this warning.\n",
      "  FutureWarning)\n",
      "/anaconda3/lib/python3.6/site-packages/sklearn/linear_model/logistic.py:433: FutureWarning: Default solver will be changed to 'lbfgs' in 0.22. Specify a solver to silence this warning.\n",
      "  FutureWarning)\n"
     ]
    },
    {
     "name": "stderr",
     "output_type": "stream",
     "text": [
      "/anaconda3/lib/python3.6/site-packages/sklearn/linear_model/logistic.py:433: FutureWarning: Default solver will be changed to 'lbfgs' in 0.22. Specify a solver to silence this warning.\n",
      "  FutureWarning)\n",
      "/anaconda3/lib/python3.6/site-packages/sklearn/linear_model/logistic.py:433: FutureWarning: Default solver will be changed to 'lbfgs' in 0.22. Specify a solver to silence this warning.\n",
      "  FutureWarning)\n",
      "/anaconda3/lib/python3.6/site-packages/sklearn/linear_model/logistic.py:433: FutureWarning: Default solver will be changed to 'lbfgs' in 0.22. Specify a solver to silence this warning.\n",
      "  FutureWarning)\n",
      "/anaconda3/lib/python3.6/site-packages/sklearn/linear_model/logistic.py:433: FutureWarning: Default solver will be changed to 'lbfgs' in 0.22. Specify a solver to silence this warning.\n",
      "  FutureWarning)\n",
      "/anaconda3/lib/python3.6/site-packages/sklearn/linear_model/logistic.py:433: FutureWarning: Default solver will be changed to 'lbfgs' in 0.22. Specify a solver to silence this warning.\n",
      "  FutureWarning)\n",
      "/anaconda3/lib/python3.6/site-packages/sklearn/linear_model/logistic.py:433: FutureWarning: Default solver will be changed to 'lbfgs' in 0.22. Specify a solver to silence this warning.\n",
      "  FutureWarning)\n",
      "/anaconda3/lib/python3.6/site-packages/sklearn/linear_model/logistic.py:433: FutureWarning: Default solver will be changed to 'lbfgs' in 0.22. Specify a solver to silence this warning.\n",
      "  FutureWarning)\n",
      "/anaconda3/lib/python3.6/site-packages/sklearn/linear_model/logistic.py:433: FutureWarning: Default solver will be changed to 'lbfgs' in 0.22. Specify a solver to silence this warning.\n",
      "  FutureWarning)\n",
      "/anaconda3/lib/python3.6/site-packages/sklearn/linear_model/logistic.py:433: FutureWarning: Default solver will be changed to 'lbfgs' in 0.22. Specify a solver to silence this warning.\n",
      "  FutureWarning)\n",
      "/anaconda3/lib/python3.6/site-packages/sklearn/linear_model/logistic.py:433: FutureWarning: Default solver will be changed to 'lbfgs' in 0.22. Specify a solver to silence this warning.\n",
      "  FutureWarning)\n",
      "/anaconda3/lib/python3.6/site-packages/sklearn/linear_model/logistic.py:433: FutureWarning: Default solver will be changed to 'lbfgs' in 0.22. Specify a solver to silence this warning.\n",
      "  FutureWarning)\n",
      "/anaconda3/lib/python3.6/site-packages/sklearn/linear_model/logistic.py:433: FutureWarning: Default solver will be changed to 'lbfgs' in 0.22. Specify a solver to silence this warning.\n",
      "  FutureWarning)\n",
      "/anaconda3/lib/python3.6/site-packages/sklearn/linear_model/logistic.py:433: FutureWarning: Default solver will be changed to 'lbfgs' in 0.22. Specify a solver to silence this warning.\n",
      "  FutureWarning)\n",
      "/anaconda3/lib/python3.6/site-packages/sklearn/linear_model/logistic.py:433: FutureWarning: Default solver will be changed to 'lbfgs' in 0.22. Specify a solver to silence this warning.\n",
      "  FutureWarning)\n",
      "/anaconda3/lib/python3.6/site-packages/sklearn/linear_model/logistic.py:433: FutureWarning: Default solver will be changed to 'lbfgs' in 0.22. Specify a solver to silence this warning.\n",
      "  FutureWarning)\n",
      "/anaconda3/lib/python3.6/site-packages/sklearn/linear_model/logistic.py:433: FutureWarning: Default solver will be changed to 'lbfgs' in 0.22. Specify a solver to silence this warning.\n",
      "  FutureWarning)\n",
      "/anaconda3/lib/python3.6/site-packages/sklearn/linear_model/logistic.py:433: FutureWarning: Default solver will be changed to 'lbfgs' in 0.22. Specify a solver to silence this warning.\n",
      "  FutureWarning)\n",
      "/anaconda3/lib/python3.6/site-packages/sklearn/linear_model/logistic.py:433: FutureWarning: Default solver will be changed to 'lbfgs' in 0.22. Specify a solver to silence this warning.\n",
      "  FutureWarning)\n",
      "/anaconda3/lib/python3.6/site-packages/sklearn/linear_model/logistic.py:433: FutureWarning: Default solver will be changed to 'lbfgs' in 0.22. Specify a solver to silence this warning.\n",
      "  FutureWarning)\n",
      "/anaconda3/lib/python3.6/site-packages/sklearn/linear_model/logistic.py:433: FutureWarning: Default solver will be changed to 'lbfgs' in 0.22. Specify a solver to silence this warning.\n",
      "  FutureWarning)\n",
      "/anaconda3/lib/python3.6/site-packages/sklearn/linear_model/logistic.py:433: FutureWarning: Default solver will be changed to 'lbfgs' in 0.22. Specify a solver to silence this warning.\n",
      "  FutureWarning)\n",
      "/anaconda3/lib/python3.6/site-packages/sklearn/linear_model/logistic.py:433: FutureWarning: Default solver will be changed to 'lbfgs' in 0.22. Specify a solver to silence this warning.\n",
      "  FutureWarning)\n",
      "/anaconda3/lib/python3.6/site-packages/sklearn/linear_model/logistic.py:433: FutureWarning: Default solver will be changed to 'lbfgs' in 0.22. Specify a solver to silence this warning.\n",
      "  FutureWarning)\n",
      "/anaconda3/lib/python3.6/site-packages/sklearn/linear_model/logistic.py:433: FutureWarning: Default solver will be changed to 'lbfgs' in 0.22. Specify a solver to silence this warning.\n",
      "  FutureWarning)\n",
      "/anaconda3/lib/python3.6/site-packages/sklearn/linear_model/logistic.py:433: FutureWarning: Default solver will be changed to 'lbfgs' in 0.22. Specify a solver to silence this warning.\n",
      "  FutureWarning)\n",
      "/anaconda3/lib/python3.6/site-packages/sklearn/linear_model/logistic.py:433: FutureWarning: Default solver will be changed to 'lbfgs' in 0.22. Specify a solver to silence this warning.\n",
      "  FutureWarning)\n",
      "/anaconda3/lib/python3.6/site-packages/sklearn/linear_model/logistic.py:433: FutureWarning: Default solver will be changed to 'lbfgs' in 0.22. Specify a solver to silence this warning.\n",
      "  FutureWarning)\n",
      "/anaconda3/lib/python3.6/site-packages/sklearn/linear_model/logistic.py:433: FutureWarning: Default solver will be changed to 'lbfgs' in 0.22. Specify a solver to silence this warning.\n",
      "  FutureWarning)\n",
      "/anaconda3/lib/python3.6/site-packages/sklearn/linear_model/logistic.py:433: FutureWarning: Default solver will be changed to 'lbfgs' in 0.22. Specify a solver to silence this warning.\n",
      "  FutureWarning)\n",
      "/anaconda3/lib/python3.6/site-packages/sklearn/linear_model/logistic.py:433: FutureWarning: Default solver will be changed to 'lbfgs' in 0.22. Specify a solver to silence this warning.\n",
      "  FutureWarning)\n",
      "/anaconda3/lib/python3.6/site-packages/sklearn/linear_model/logistic.py:433: FutureWarning: Default solver will be changed to 'lbfgs' in 0.22. Specify a solver to silence this warning.\n",
      "  FutureWarning)\n",
      "/anaconda3/lib/python3.6/site-packages/sklearn/linear_model/logistic.py:433: FutureWarning: Default solver will be changed to 'lbfgs' in 0.22. Specify a solver to silence this warning.\n",
      "  FutureWarning)\n",
      "/anaconda3/lib/python3.6/site-packages/sklearn/linear_model/logistic.py:433: FutureWarning: Default solver will be changed to 'lbfgs' in 0.22. Specify a solver to silence this warning.\n",
      "  FutureWarning)\n",
      "/anaconda3/lib/python3.6/site-packages/sklearn/linear_model/logistic.py:433: FutureWarning: Default solver will be changed to 'lbfgs' in 0.22. Specify a solver to silence this warning.\n",
      "  FutureWarning)\n",
      "/anaconda3/lib/python3.6/site-packages/sklearn/linear_model/logistic.py:433: FutureWarning: Default solver will be changed to 'lbfgs' in 0.22. Specify a solver to silence this warning.\n",
      "  FutureWarning)\n",
      "/anaconda3/lib/python3.6/site-packages/sklearn/linear_model/logistic.py:433: FutureWarning: Default solver will be changed to 'lbfgs' in 0.22. Specify a solver to silence this warning.\n",
      "  FutureWarning)\n",
      "/anaconda3/lib/python3.6/site-packages/sklearn/linear_model/logistic.py:433: FutureWarning: Default solver will be changed to 'lbfgs' in 0.22. Specify a solver to silence this warning.\n",
      "  FutureWarning)\n",
      "/anaconda3/lib/python3.6/site-packages/sklearn/linear_model/logistic.py:433: FutureWarning: Default solver will be changed to 'lbfgs' in 0.22. Specify a solver to silence this warning.\n",
      "  FutureWarning)\n",
      "/anaconda3/lib/python3.6/site-packages/sklearn/linear_model/logistic.py:433: FutureWarning: Default solver will be changed to 'lbfgs' in 0.22. Specify a solver to silence this warning.\n",
      "  FutureWarning)\n",
      "/anaconda3/lib/python3.6/site-packages/sklearn/linear_model/logistic.py:433: FutureWarning: Default solver will be changed to 'lbfgs' in 0.22. Specify a solver to silence this warning.\n",
      "  FutureWarning)\n",
      "/anaconda3/lib/python3.6/site-packages/sklearn/linear_model/logistic.py:433: FutureWarning: Default solver will be changed to 'lbfgs' in 0.22. Specify a solver to silence this warning.\n",
      "  FutureWarning)\n"
     ]
    },
    {
     "name": "stderr",
     "output_type": "stream",
     "text": [
      "/anaconda3/lib/python3.6/site-packages/sklearn/linear_model/logistic.py:433: FutureWarning: Default solver will be changed to 'lbfgs' in 0.22. Specify a solver to silence this warning.\n",
      "  FutureWarning)\n",
      "/anaconda3/lib/python3.6/site-packages/sklearn/linear_model/logistic.py:433: FutureWarning: Default solver will be changed to 'lbfgs' in 0.22. Specify a solver to silence this warning.\n",
      "  FutureWarning)\n",
      "/anaconda3/lib/python3.6/site-packages/sklearn/linear_model/logistic.py:433: FutureWarning: Default solver will be changed to 'lbfgs' in 0.22. Specify a solver to silence this warning.\n",
      "  FutureWarning)\n",
      "/anaconda3/lib/python3.6/site-packages/sklearn/linear_model/logistic.py:433: FutureWarning: Default solver will be changed to 'lbfgs' in 0.22. Specify a solver to silence this warning.\n",
      "  FutureWarning)\n",
      "/anaconda3/lib/python3.6/site-packages/sklearn/linear_model/logistic.py:433: FutureWarning: Default solver will be changed to 'lbfgs' in 0.22. Specify a solver to silence this warning.\n",
      "  FutureWarning)\n",
      "/anaconda3/lib/python3.6/site-packages/sklearn/linear_model/logistic.py:433: FutureWarning: Default solver will be changed to 'lbfgs' in 0.22. Specify a solver to silence this warning.\n",
      "  FutureWarning)\n",
      "/anaconda3/lib/python3.6/site-packages/sklearn/linear_model/logistic.py:433: FutureWarning: Default solver will be changed to 'lbfgs' in 0.22. Specify a solver to silence this warning.\n",
      "  FutureWarning)\n",
      "/anaconda3/lib/python3.6/site-packages/sklearn/linear_model/logistic.py:433: FutureWarning: Default solver will be changed to 'lbfgs' in 0.22. Specify a solver to silence this warning.\n",
      "  FutureWarning)\n",
      "/anaconda3/lib/python3.6/site-packages/sklearn/linear_model/logistic.py:433: FutureWarning: Default solver will be changed to 'lbfgs' in 0.22. Specify a solver to silence this warning.\n",
      "  FutureWarning)\n",
      "/anaconda3/lib/python3.6/site-packages/sklearn/linear_model/logistic.py:433: FutureWarning: Default solver will be changed to 'lbfgs' in 0.22. Specify a solver to silence this warning.\n",
      "  FutureWarning)\n",
      "/anaconda3/lib/python3.6/site-packages/sklearn/linear_model/logistic.py:433: FutureWarning: Default solver will be changed to 'lbfgs' in 0.22. Specify a solver to silence this warning.\n",
      "  FutureWarning)\n",
      "/anaconda3/lib/python3.6/site-packages/sklearn/linear_model/logistic.py:433: FutureWarning: Default solver will be changed to 'lbfgs' in 0.22. Specify a solver to silence this warning.\n",
      "  FutureWarning)\n",
      "/anaconda3/lib/python3.6/site-packages/sklearn/linear_model/logistic.py:433: FutureWarning: Default solver will be changed to 'lbfgs' in 0.22. Specify a solver to silence this warning.\n",
      "  FutureWarning)\n",
      "/anaconda3/lib/python3.6/site-packages/sklearn/linear_model/logistic.py:433: FutureWarning: Default solver will be changed to 'lbfgs' in 0.22. Specify a solver to silence this warning.\n",
      "  FutureWarning)\n",
      "/anaconda3/lib/python3.6/site-packages/sklearn/linear_model/logistic.py:433: FutureWarning: Default solver will be changed to 'lbfgs' in 0.22. Specify a solver to silence this warning.\n",
      "  FutureWarning)\n",
      "/anaconda3/lib/python3.6/site-packages/sklearn/linear_model/logistic.py:433: FutureWarning: Default solver will be changed to 'lbfgs' in 0.22. Specify a solver to silence this warning.\n",
      "  FutureWarning)\n",
      "/anaconda3/lib/python3.6/site-packages/sklearn/linear_model/logistic.py:433: FutureWarning: Default solver will be changed to 'lbfgs' in 0.22. Specify a solver to silence this warning.\n",
      "  FutureWarning)\n",
      "/anaconda3/lib/python3.6/site-packages/sklearn/linear_model/logistic.py:433: FutureWarning: Default solver will be changed to 'lbfgs' in 0.22. Specify a solver to silence this warning.\n",
      "  FutureWarning)\n",
      "/anaconda3/lib/python3.6/site-packages/sklearn/linear_model/logistic.py:433: FutureWarning: Default solver will be changed to 'lbfgs' in 0.22. Specify a solver to silence this warning.\n",
      "  FutureWarning)\n",
      "/anaconda3/lib/python3.6/site-packages/sklearn/linear_model/logistic.py:433: FutureWarning: Default solver will be changed to 'lbfgs' in 0.22. Specify a solver to silence this warning.\n",
      "  FutureWarning)\n",
      "/anaconda3/lib/python3.6/site-packages/sklearn/linear_model/logistic.py:433: FutureWarning: Default solver will be changed to 'lbfgs' in 0.22. Specify a solver to silence this warning.\n",
      "  FutureWarning)\n",
      "/anaconda3/lib/python3.6/site-packages/sklearn/linear_model/logistic.py:433: FutureWarning: Default solver will be changed to 'lbfgs' in 0.22. Specify a solver to silence this warning.\n",
      "  FutureWarning)\n",
      "/anaconda3/lib/python3.6/site-packages/sklearn/linear_model/logistic.py:433: FutureWarning: Default solver will be changed to 'lbfgs' in 0.22. Specify a solver to silence this warning.\n",
      "  FutureWarning)\n",
      "/anaconda3/lib/python3.6/site-packages/sklearn/linear_model/logistic.py:433: FutureWarning: Default solver will be changed to 'lbfgs' in 0.22. Specify a solver to silence this warning.\n",
      "  FutureWarning)\n",
      "/anaconda3/lib/python3.6/site-packages/sklearn/linear_model/logistic.py:433: FutureWarning: Default solver will be changed to 'lbfgs' in 0.22. Specify a solver to silence this warning.\n",
      "  FutureWarning)\n",
      "/anaconda3/lib/python3.6/site-packages/sklearn/linear_model/logistic.py:433: FutureWarning: Default solver will be changed to 'lbfgs' in 0.22. Specify a solver to silence this warning.\n",
      "  FutureWarning)\n",
      "/anaconda3/lib/python3.6/site-packages/sklearn/linear_model/logistic.py:433: FutureWarning: Default solver will be changed to 'lbfgs' in 0.22. Specify a solver to silence this warning.\n",
      "  FutureWarning)\n",
      "/anaconda3/lib/python3.6/site-packages/sklearn/linear_model/logistic.py:433: FutureWarning: Default solver will be changed to 'lbfgs' in 0.22. Specify a solver to silence this warning.\n",
      "  FutureWarning)\n",
      "/anaconda3/lib/python3.6/site-packages/sklearn/linear_model/logistic.py:433: FutureWarning: Default solver will be changed to 'lbfgs' in 0.22. Specify a solver to silence this warning.\n",
      "  FutureWarning)\n",
      "/anaconda3/lib/python3.6/site-packages/sklearn/linear_model/logistic.py:433: FutureWarning: Default solver will be changed to 'lbfgs' in 0.22. Specify a solver to silence this warning.\n",
      "  FutureWarning)\n",
      "/anaconda3/lib/python3.6/site-packages/sklearn/linear_model/logistic.py:433: FutureWarning: Default solver will be changed to 'lbfgs' in 0.22. Specify a solver to silence this warning.\n",
      "  FutureWarning)\n",
      "/anaconda3/lib/python3.6/site-packages/sklearn/linear_model/logistic.py:433: FutureWarning: Default solver will be changed to 'lbfgs' in 0.22. Specify a solver to silence this warning.\n",
      "  FutureWarning)\n",
      "/anaconda3/lib/python3.6/site-packages/sklearn/linear_model/logistic.py:433: FutureWarning: Default solver will be changed to 'lbfgs' in 0.22. Specify a solver to silence this warning.\n",
      "  FutureWarning)\n",
      "/anaconda3/lib/python3.6/site-packages/sklearn/linear_model/logistic.py:433: FutureWarning: Default solver will be changed to 'lbfgs' in 0.22. Specify a solver to silence this warning.\n",
      "  FutureWarning)\n",
      "/anaconda3/lib/python3.6/site-packages/sklearn/linear_model/logistic.py:433: FutureWarning: Default solver will be changed to 'lbfgs' in 0.22. Specify a solver to silence this warning.\n",
      "  FutureWarning)\n",
      "/anaconda3/lib/python3.6/site-packages/sklearn/linear_model/logistic.py:433: FutureWarning: Default solver will be changed to 'lbfgs' in 0.22. Specify a solver to silence this warning.\n",
      "  FutureWarning)\n",
      "/anaconda3/lib/python3.6/site-packages/sklearn/linear_model/logistic.py:433: FutureWarning: Default solver will be changed to 'lbfgs' in 0.22. Specify a solver to silence this warning.\n",
      "  FutureWarning)\n",
      "/anaconda3/lib/python3.6/site-packages/sklearn/linear_model/logistic.py:433: FutureWarning: Default solver will be changed to 'lbfgs' in 0.22. Specify a solver to silence this warning.\n",
      "  FutureWarning)\n",
      "/anaconda3/lib/python3.6/site-packages/sklearn/linear_model/logistic.py:433: FutureWarning: Default solver will be changed to 'lbfgs' in 0.22. Specify a solver to silence this warning.\n",
      "  FutureWarning)\n",
      "/anaconda3/lib/python3.6/site-packages/sklearn/linear_model/logistic.py:433: FutureWarning: Default solver will be changed to 'lbfgs' in 0.22. Specify a solver to silence this warning.\n",
      "  FutureWarning)\n",
      "/anaconda3/lib/python3.6/site-packages/sklearn/linear_model/logistic.py:433: FutureWarning: Default solver will be changed to 'lbfgs' in 0.22. Specify a solver to silence this warning.\n",
      "  FutureWarning)\n"
     ]
    },
    {
     "name": "stderr",
     "output_type": "stream",
     "text": [
      "/anaconda3/lib/python3.6/site-packages/sklearn/linear_model/logistic.py:433: FutureWarning: Default solver will be changed to 'lbfgs' in 0.22. Specify a solver to silence this warning.\n",
      "  FutureWarning)\n",
      "/anaconda3/lib/python3.6/site-packages/sklearn/linear_model/logistic.py:433: FutureWarning: Default solver will be changed to 'lbfgs' in 0.22. Specify a solver to silence this warning.\n",
      "  FutureWarning)\n",
      "/anaconda3/lib/python3.6/site-packages/sklearn/linear_model/logistic.py:433: FutureWarning: Default solver will be changed to 'lbfgs' in 0.22. Specify a solver to silence this warning.\n",
      "  FutureWarning)\n",
      "/anaconda3/lib/python3.6/site-packages/sklearn/linear_model/logistic.py:433: FutureWarning: Default solver will be changed to 'lbfgs' in 0.22. Specify a solver to silence this warning.\n",
      "  FutureWarning)\n",
      "/anaconda3/lib/python3.6/site-packages/sklearn/linear_model/logistic.py:433: FutureWarning: Default solver will be changed to 'lbfgs' in 0.22. Specify a solver to silence this warning.\n",
      "  FutureWarning)\n",
      "/anaconda3/lib/python3.6/site-packages/sklearn/linear_model/logistic.py:433: FutureWarning: Default solver will be changed to 'lbfgs' in 0.22. Specify a solver to silence this warning.\n",
      "  FutureWarning)\n",
      "/anaconda3/lib/python3.6/site-packages/sklearn/linear_model/logistic.py:433: FutureWarning: Default solver will be changed to 'lbfgs' in 0.22. Specify a solver to silence this warning.\n",
      "  FutureWarning)\n",
      "/anaconda3/lib/python3.6/site-packages/sklearn/linear_model/logistic.py:433: FutureWarning: Default solver will be changed to 'lbfgs' in 0.22. Specify a solver to silence this warning.\n",
      "  FutureWarning)\n",
      "/anaconda3/lib/python3.6/site-packages/sklearn/linear_model/logistic.py:433: FutureWarning: Default solver will be changed to 'lbfgs' in 0.22. Specify a solver to silence this warning.\n",
      "  FutureWarning)\n",
      "/anaconda3/lib/python3.6/site-packages/sklearn/linear_model/logistic.py:433: FutureWarning: Default solver will be changed to 'lbfgs' in 0.22. Specify a solver to silence this warning.\n",
      "  FutureWarning)\n",
      "/anaconda3/lib/python3.6/site-packages/sklearn/linear_model/logistic.py:433: FutureWarning: Default solver will be changed to 'lbfgs' in 0.22. Specify a solver to silence this warning.\n",
      "  FutureWarning)\n",
      "/anaconda3/lib/python3.6/site-packages/sklearn/linear_model/logistic.py:433: FutureWarning: Default solver will be changed to 'lbfgs' in 0.22. Specify a solver to silence this warning.\n",
      "  FutureWarning)\n",
      "/anaconda3/lib/python3.6/site-packages/sklearn/linear_model/logistic.py:433: FutureWarning: Default solver will be changed to 'lbfgs' in 0.22. Specify a solver to silence this warning.\n",
      "  FutureWarning)\n",
      "/anaconda3/lib/python3.6/site-packages/sklearn/linear_model/logistic.py:433: FutureWarning: Default solver will be changed to 'lbfgs' in 0.22. Specify a solver to silence this warning.\n",
      "  FutureWarning)\n",
      "/anaconda3/lib/python3.6/site-packages/sklearn/linear_model/logistic.py:433: FutureWarning: Default solver will be changed to 'lbfgs' in 0.22. Specify a solver to silence this warning.\n",
      "  FutureWarning)\n"
     ]
    },
    {
     "data": {
      "text/html": [
       "<div>\n",
       "<style scoped>\n",
       "    .dataframe tbody tr th:only-of-type {\n",
       "        vertical-align: middle;\n",
       "    }\n",
       "\n",
       "    .dataframe tbody tr th {\n",
       "        vertical-align: top;\n",
       "    }\n",
       "\n",
       "    .dataframe thead th {\n",
       "        text-align: right;\n",
       "    }\n",
       "</style>\n",
       "<table border=\"1\" class=\"dataframe\">\n",
       "  <thead>\n",
       "    <tr style=\"text-align: right;\">\n",
       "      <th></th>\n",
       "      <th>train</th>\n",
       "      <th>test</th>\n",
       "      <th>oot</th>\n",
       "    </tr>\n",
       "  </thead>\n",
       "  <tbody>\n",
       "    <tr>\n",
       "      <th>2</th>\n",
       "      <td>0.393394</td>\n",
       "      <td>0.397770</td>\n",
       "      <td>0.078212</td>\n",
       "    </tr>\n",
       "    <tr>\n",
       "      <th>3</th>\n",
       "      <td>0.616231</td>\n",
       "      <td>0.627992</td>\n",
       "      <td>0.245810</td>\n",
       "    </tr>\n",
       "    <tr>\n",
       "      <th>4</th>\n",
       "      <td>0.617516</td>\n",
       "      <td>0.629147</td>\n",
       "      <td>0.245810</td>\n",
       "    </tr>\n",
       "    <tr>\n",
       "      <th>5</th>\n",
       "      <td>0.618079</td>\n",
       "      <td>0.629184</td>\n",
       "      <td>0.245810</td>\n",
       "    </tr>\n",
       "    <tr>\n",
       "      <th>6</th>\n",
       "      <td>0.617943</td>\n",
       "      <td>0.629184</td>\n",
       "      <td>0.245810</td>\n",
       "    </tr>\n",
       "    <tr>\n",
       "      <th>7</th>\n",
       "      <td>0.615696</td>\n",
       "      <td>0.622555</td>\n",
       "      <td>0.245810</td>\n",
       "    </tr>\n",
       "    <tr>\n",
       "      <th>8</th>\n",
       "      <td>0.614982</td>\n",
       "      <td>0.622555</td>\n",
       "      <td>0.245810</td>\n",
       "    </tr>\n",
       "    <tr>\n",
       "      <th>9</th>\n",
       "      <td>0.621501</td>\n",
       "      <td>0.635721</td>\n",
       "      <td>0.288827</td>\n",
       "    </tr>\n",
       "    <tr>\n",
       "      <th>10</th>\n",
       "      <td>0.626748</td>\n",
       "      <td>0.637007</td>\n",
       "      <td>0.344134</td>\n",
       "    </tr>\n",
       "    <tr>\n",
       "      <th>11</th>\n",
       "      <td>0.631344</td>\n",
       "      <td>0.640766</td>\n",
       "      <td>0.311173</td>\n",
       "    </tr>\n",
       "    <tr>\n",
       "      <th>12</th>\n",
       "      <td>0.644051</td>\n",
       "      <td>0.648023</td>\n",
       "      <td>0.368715</td>\n",
       "    </tr>\n",
       "    <tr>\n",
       "      <th>13</th>\n",
       "      <td>0.655148</td>\n",
       "      <td>0.652407</td>\n",
       "      <td>0.375419</td>\n",
       "    </tr>\n",
       "    <tr>\n",
       "      <th>14</th>\n",
       "      <td>0.654862</td>\n",
       "      <td>0.652868</td>\n",
       "      <td>0.374302</td>\n",
       "    </tr>\n",
       "    <tr>\n",
       "      <th>15</th>\n",
       "      <td>0.655147</td>\n",
       "      <td>0.652841</td>\n",
       "      <td>0.373743</td>\n",
       "    </tr>\n",
       "    <tr>\n",
       "      <th>16</th>\n",
       "      <td>0.655575</td>\n",
       "      <td>0.655198</td>\n",
       "      <td>0.367039</td>\n",
       "    </tr>\n",
       "    <tr>\n",
       "      <th>17</th>\n",
       "      <td>0.661703</td>\n",
       "      <td>0.658595</td>\n",
       "      <td>0.372626</td>\n",
       "    </tr>\n",
       "    <tr>\n",
       "      <th>18</th>\n",
       "      <td>0.662274</td>\n",
       "      <td>0.658595</td>\n",
       "      <td>0.373184</td>\n",
       "    </tr>\n",
       "    <tr>\n",
       "      <th>19</th>\n",
       "      <td>0.660274</td>\n",
       "      <td>0.655180</td>\n",
       "      <td>0.368156</td>\n",
       "    </tr>\n",
       "  </tbody>\n",
       "</table>\n",
       "</div>"
      ],
      "text/plain": [
       "       train      test       oot\n",
       "2   0.393394  0.397770  0.078212\n",
       "3   0.616231  0.627992  0.245810\n",
       "4   0.617516  0.629147  0.245810\n",
       "5   0.618079  0.629184  0.245810\n",
       "6   0.617943  0.629184  0.245810\n",
       "7   0.615696  0.622555  0.245810\n",
       "8   0.614982  0.622555  0.245810\n",
       "9   0.621501  0.635721  0.288827\n",
       "10  0.626748  0.637007  0.344134\n",
       "11  0.631344  0.640766  0.311173\n",
       "12  0.644051  0.648023  0.368715\n",
       "13  0.655148  0.652407  0.375419\n",
       "14  0.654862  0.652868  0.374302\n",
       "15  0.655147  0.652841  0.373743\n",
       "16  0.655575  0.655198  0.367039\n",
       "17  0.661703  0.658595  0.372626\n",
       "18  0.662274  0.658595  0.373184\n",
       "19  0.660274  0.655180  0.368156"
      ]
     },
     "execution_count": 53,
     "metadata": {},
     "output_type": "execute_result"
    }
   ],
   "source": [
    "multipltrun_2()"
   ]
  },
  {
   "cell_type": "code",
   "execution_count": 56,
   "metadata": {},
   "outputs": [
    {
     "name": "stderr",
     "output_type": "stream",
     "text": [
      "/anaconda3/lib/python3.6/site-packages/sklearn/linear_model/logistic.py:433: FutureWarning: Default solver will be changed to 'lbfgs' in 0.22. Specify a solver to silence this warning.\n",
      "  FutureWarning)\n",
      "/anaconda3/lib/python3.6/site-packages/sklearn/linear_model/logistic.py:433: FutureWarning: Default solver will be changed to 'lbfgs' in 0.22. Specify a solver to silence this warning.\n",
      "  FutureWarning)\n",
      "/anaconda3/lib/python3.6/site-packages/sklearn/linear_model/logistic.py:433: FutureWarning: Default solver will be changed to 'lbfgs' in 0.22. Specify a solver to silence this warning.\n",
      "  FutureWarning)\n",
      "/anaconda3/lib/python3.6/site-packages/sklearn/linear_model/logistic.py:433: FutureWarning: Default solver will be changed to 'lbfgs' in 0.22. Specify a solver to silence this warning.\n",
      "  FutureWarning)\n",
      "/anaconda3/lib/python3.6/site-packages/sklearn/linear_model/logistic.py:433: FutureWarning: Default solver will be changed to 'lbfgs' in 0.22. Specify a solver to silence this warning.\n",
      "  FutureWarning)\n",
      "/anaconda3/lib/python3.6/site-packages/sklearn/linear_model/logistic.py:433: FutureWarning: Default solver will be changed to 'lbfgs' in 0.22. Specify a solver to silence this warning.\n",
      "  FutureWarning)\n",
      "/anaconda3/lib/python3.6/site-packages/sklearn/linear_model/logistic.py:433: FutureWarning: Default solver will be changed to 'lbfgs' in 0.22. Specify a solver to silence this warning.\n",
      "  FutureWarning)\n",
      "/anaconda3/lib/python3.6/site-packages/sklearn/linear_model/logistic.py:433: FutureWarning: Default solver will be changed to 'lbfgs' in 0.22. Specify a solver to silence this warning.\n",
      "  FutureWarning)\n",
      "/anaconda3/lib/python3.6/site-packages/sklearn/linear_model/logistic.py:433: FutureWarning: Default solver will be changed to 'lbfgs' in 0.22. Specify a solver to silence this warning.\n",
      "  FutureWarning)\n",
      "/anaconda3/lib/python3.6/site-packages/sklearn/linear_model/logistic.py:433: FutureWarning: Default solver will be changed to 'lbfgs' in 0.22. Specify a solver to silence this warning.\n",
      "  FutureWarning)\n",
      "/anaconda3/lib/python3.6/site-packages/sklearn/linear_model/logistic.py:433: FutureWarning: Default solver will be changed to 'lbfgs' in 0.22. Specify a solver to silence this warning.\n",
      "  FutureWarning)\n",
      "/anaconda3/lib/python3.6/site-packages/sklearn/linear_model/logistic.py:433: FutureWarning: Default solver will be changed to 'lbfgs' in 0.22. Specify a solver to silence this warning.\n",
      "  FutureWarning)\n",
      "/anaconda3/lib/python3.6/site-packages/sklearn/linear_model/logistic.py:433: FutureWarning: Default solver will be changed to 'lbfgs' in 0.22. Specify a solver to silence this warning.\n",
      "  FutureWarning)\n",
      "/anaconda3/lib/python3.6/site-packages/sklearn/linear_model/logistic.py:433: FutureWarning: Default solver will be changed to 'lbfgs' in 0.22. Specify a solver to silence this warning.\n",
      "  FutureWarning)\n",
      "/anaconda3/lib/python3.6/site-packages/sklearn/linear_model/logistic.py:433: FutureWarning: Default solver will be changed to 'lbfgs' in 0.22. Specify a solver to silence this warning.\n",
      "  FutureWarning)\n",
      "/anaconda3/lib/python3.6/site-packages/sklearn/linear_model/logistic.py:433: FutureWarning: Default solver will be changed to 'lbfgs' in 0.22. Specify a solver to silence this warning.\n",
      "  FutureWarning)\n",
      "/anaconda3/lib/python3.6/site-packages/sklearn/linear_model/logistic.py:433: FutureWarning: Default solver will be changed to 'lbfgs' in 0.22. Specify a solver to silence this warning.\n",
      "  FutureWarning)\n",
      "/anaconda3/lib/python3.6/site-packages/sklearn/linear_model/logistic.py:433: FutureWarning: Default solver will be changed to 'lbfgs' in 0.22. Specify a solver to silence this warning.\n",
      "  FutureWarning)\n",
      "/anaconda3/lib/python3.6/site-packages/sklearn/linear_model/logistic.py:433: FutureWarning: Default solver will be changed to 'lbfgs' in 0.22. Specify a solver to silence this warning.\n",
      "  FutureWarning)\n",
      "/anaconda3/lib/python3.6/site-packages/sklearn/linear_model/logistic.py:433: FutureWarning: Default solver will be changed to 'lbfgs' in 0.22. Specify a solver to silence this warning.\n",
      "  FutureWarning)\n",
      "/anaconda3/lib/python3.6/site-packages/sklearn/linear_model/logistic.py:433: FutureWarning: Default solver will be changed to 'lbfgs' in 0.22. Specify a solver to silence this warning.\n",
      "  FutureWarning)\n",
      "/anaconda3/lib/python3.6/site-packages/sklearn/linear_model/logistic.py:433: FutureWarning: Default solver will be changed to 'lbfgs' in 0.22. Specify a solver to silence this warning.\n",
      "  FutureWarning)\n",
      "/anaconda3/lib/python3.6/site-packages/sklearn/linear_model/logistic.py:433: FutureWarning: Default solver will be changed to 'lbfgs' in 0.22. Specify a solver to silence this warning.\n",
      "  FutureWarning)\n",
      "/anaconda3/lib/python3.6/site-packages/sklearn/linear_model/logistic.py:433: FutureWarning: Default solver will be changed to 'lbfgs' in 0.22. Specify a solver to silence this warning.\n",
      "  FutureWarning)\n",
      "/anaconda3/lib/python3.6/site-packages/sklearn/linear_model/logistic.py:433: FutureWarning: Default solver will be changed to 'lbfgs' in 0.22. Specify a solver to silence this warning.\n",
      "  FutureWarning)\n",
      "/anaconda3/lib/python3.6/site-packages/sklearn/linear_model/logistic.py:433: FutureWarning: Default solver will be changed to 'lbfgs' in 0.22. Specify a solver to silence this warning.\n",
      "  FutureWarning)\n",
      "/anaconda3/lib/python3.6/site-packages/sklearn/linear_model/logistic.py:433: FutureWarning: Default solver will be changed to 'lbfgs' in 0.22. Specify a solver to silence this warning.\n",
      "  FutureWarning)\n",
      "/anaconda3/lib/python3.6/site-packages/sklearn/linear_model/logistic.py:433: FutureWarning: Default solver will be changed to 'lbfgs' in 0.22. Specify a solver to silence this warning.\n",
      "  FutureWarning)\n",
      "/anaconda3/lib/python3.6/site-packages/sklearn/linear_model/logistic.py:433: FutureWarning: Default solver will be changed to 'lbfgs' in 0.22. Specify a solver to silence this warning.\n",
      "  FutureWarning)\n",
      "/anaconda3/lib/python3.6/site-packages/sklearn/linear_model/logistic.py:433: FutureWarning: Default solver will be changed to 'lbfgs' in 0.22. Specify a solver to silence this warning.\n",
      "  FutureWarning)\n",
      "/anaconda3/lib/python3.6/site-packages/sklearn/linear_model/logistic.py:433: FutureWarning: Default solver will be changed to 'lbfgs' in 0.22. Specify a solver to silence this warning.\n",
      "  FutureWarning)\n",
      "/anaconda3/lib/python3.6/site-packages/sklearn/linear_model/logistic.py:433: FutureWarning: Default solver will be changed to 'lbfgs' in 0.22. Specify a solver to silence this warning.\n",
      "  FutureWarning)\n",
      "/anaconda3/lib/python3.6/site-packages/sklearn/linear_model/logistic.py:433: FutureWarning: Default solver will be changed to 'lbfgs' in 0.22. Specify a solver to silence this warning.\n",
      "  FutureWarning)\n",
      "/anaconda3/lib/python3.6/site-packages/sklearn/linear_model/logistic.py:433: FutureWarning: Default solver will be changed to 'lbfgs' in 0.22. Specify a solver to silence this warning.\n",
      "  FutureWarning)\n",
      "/anaconda3/lib/python3.6/site-packages/sklearn/linear_model/logistic.py:433: FutureWarning: Default solver will be changed to 'lbfgs' in 0.22. Specify a solver to silence this warning.\n",
      "  FutureWarning)\n",
      "/anaconda3/lib/python3.6/site-packages/sklearn/linear_model/logistic.py:433: FutureWarning: Default solver will be changed to 'lbfgs' in 0.22. Specify a solver to silence this warning.\n",
      "  FutureWarning)\n",
      "/anaconda3/lib/python3.6/site-packages/sklearn/linear_model/logistic.py:433: FutureWarning: Default solver will be changed to 'lbfgs' in 0.22. Specify a solver to silence this warning.\n",
      "  FutureWarning)\n",
      "/anaconda3/lib/python3.6/site-packages/sklearn/linear_model/logistic.py:433: FutureWarning: Default solver will be changed to 'lbfgs' in 0.22. Specify a solver to silence this warning.\n",
      "  FutureWarning)\n",
      "/anaconda3/lib/python3.6/site-packages/sklearn/linear_model/logistic.py:433: FutureWarning: Default solver will be changed to 'lbfgs' in 0.22. Specify a solver to silence this warning.\n",
      "  FutureWarning)\n",
      "/anaconda3/lib/python3.6/site-packages/sklearn/linear_model/logistic.py:433: FutureWarning: Default solver will be changed to 'lbfgs' in 0.22. Specify a solver to silence this warning.\n",
      "  FutureWarning)\n",
      "/anaconda3/lib/python3.6/site-packages/sklearn/linear_model/logistic.py:433: FutureWarning: Default solver will be changed to 'lbfgs' in 0.22. Specify a solver to silence this warning.\n",
      "  FutureWarning)\n"
     ]
    },
    {
     "name": "stderr",
     "output_type": "stream",
     "text": [
      "/anaconda3/lib/python3.6/site-packages/sklearn/linear_model/logistic.py:433: FutureWarning: Default solver will be changed to 'lbfgs' in 0.22. Specify a solver to silence this warning.\n",
      "  FutureWarning)\n",
      "/anaconda3/lib/python3.6/site-packages/sklearn/linear_model/logistic.py:433: FutureWarning: Default solver will be changed to 'lbfgs' in 0.22. Specify a solver to silence this warning.\n",
      "  FutureWarning)\n",
      "/anaconda3/lib/python3.6/site-packages/sklearn/linear_model/logistic.py:433: FutureWarning: Default solver will be changed to 'lbfgs' in 0.22. Specify a solver to silence this warning.\n",
      "  FutureWarning)\n",
      "/anaconda3/lib/python3.6/site-packages/sklearn/linear_model/logistic.py:433: FutureWarning: Default solver will be changed to 'lbfgs' in 0.22. Specify a solver to silence this warning.\n",
      "  FutureWarning)\n",
      "/anaconda3/lib/python3.6/site-packages/sklearn/linear_model/logistic.py:433: FutureWarning: Default solver will be changed to 'lbfgs' in 0.22. Specify a solver to silence this warning.\n",
      "  FutureWarning)\n",
      "/anaconda3/lib/python3.6/site-packages/sklearn/linear_model/logistic.py:433: FutureWarning: Default solver will be changed to 'lbfgs' in 0.22. Specify a solver to silence this warning.\n",
      "  FutureWarning)\n",
      "/anaconda3/lib/python3.6/site-packages/sklearn/linear_model/logistic.py:433: FutureWarning: Default solver will be changed to 'lbfgs' in 0.22. Specify a solver to silence this warning.\n",
      "  FutureWarning)\n",
      "/anaconda3/lib/python3.6/site-packages/sklearn/linear_model/logistic.py:433: FutureWarning: Default solver will be changed to 'lbfgs' in 0.22. Specify a solver to silence this warning.\n",
      "  FutureWarning)\n",
      "/anaconda3/lib/python3.6/site-packages/sklearn/linear_model/logistic.py:433: FutureWarning: Default solver will be changed to 'lbfgs' in 0.22. Specify a solver to silence this warning.\n",
      "  FutureWarning)\n",
      "/anaconda3/lib/python3.6/site-packages/sklearn/linear_model/logistic.py:433: FutureWarning: Default solver will be changed to 'lbfgs' in 0.22. Specify a solver to silence this warning.\n",
      "  FutureWarning)\n",
      "/anaconda3/lib/python3.6/site-packages/sklearn/linear_model/logistic.py:433: FutureWarning: Default solver will be changed to 'lbfgs' in 0.22. Specify a solver to silence this warning.\n",
      "  FutureWarning)\n",
      "/anaconda3/lib/python3.6/site-packages/sklearn/linear_model/logistic.py:433: FutureWarning: Default solver will be changed to 'lbfgs' in 0.22. Specify a solver to silence this warning.\n",
      "  FutureWarning)\n",
      "/anaconda3/lib/python3.6/site-packages/sklearn/linear_model/logistic.py:433: FutureWarning: Default solver will be changed to 'lbfgs' in 0.22. Specify a solver to silence this warning.\n",
      "  FutureWarning)\n",
      "/anaconda3/lib/python3.6/site-packages/sklearn/linear_model/logistic.py:433: FutureWarning: Default solver will be changed to 'lbfgs' in 0.22. Specify a solver to silence this warning.\n",
      "  FutureWarning)\n",
      "/anaconda3/lib/python3.6/site-packages/sklearn/linear_model/logistic.py:433: FutureWarning: Default solver will be changed to 'lbfgs' in 0.22. Specify a solver to silence this warning.\n",
      "  FutureWarning)\n",
      "/anaconda3/lib/python3.6/site-packages/sklearn/linear_model/logistic.py:433: FutureWarning: Default solver will be changed to 'lbfgs' in 0.22. Specify a solver to silence this warning.\n",
      "  FutureWarning)\n",
      "/anaconda3/lib/python3.6/site-packages/sklearn/linear_model/logistic.py:433: FutureWarning: Default solver will be changed to 'lbfgs' in 0.22. Specify a solver to silence this warning.\n",
      "  FutureWarning)\n",
      "/anaconda3/lib/python3.6/site-packages/sklearn/linear_model/logistic.py:433: FutureWarning: Default solver will be changed to 'lbfgs' in 0.22. Specify a solver to silence this warning.\n",
      "  FutureWarning)\n",
      "/anaconda3/lib/python3.6/site-packages/sklearn/linear_model/logistic.py:433: FutureWarning: Default solver will be changed to 'lbfgs' in 0.22. Specify a solver to silence this warning.\n",
      "  FutureWarning)\n",
      "/anaconda3/lib/python3.6/site-packages/sklearn/linear_model/logistic.py:433: FutureWarning: Default solver will be changed to 'lbfgs' in 0.22. Specify a solver to silence this warning.\n",
      "  FutureWarning)\n",
      "/anaconda3/lib/python3.6/site-packages/sklearn/linear_model/logistic.py:433: FutureWarning: Default solver will be changed to 'lbfgs' in 0.22. Specify a solver to silence this warning.\n",
      "  FutureWarning)\n",
      "/anaconda3/lib/python3.6/site-packages/sklearn/linear_model/logistic.py:433: FutureWarning: Default solver will be changed to 'lbfgs' in 0.22. Specify a solver to silence this warning.\n",
      "  FutureWarning)\n",
      "/anaconda3/lib/python3.6/site-packages/sklearn/linear_model/logistic.py:433: FutureWarning: Default solver will be changed to 'lbfgs' in 0.22. Specify a solver to silence this warning.\n",
      "  FutureWarning)\n",
      "/anaconda3/lib/python3.6/site-packages/sklearn/linear_model/logistic.py:433: FutureWarning: Default solver will be changed to 'lbfgs' in 0.22. Specify a solver to silence this warning.\n",
      "  FutureWarning)\n",
      "/anaconda3/lib/python3.6/site-packages/sklearn/linear_model/logistic.py:433: FutureWarning: Default solver will be changed to 'lbfgs' in 0.22. Specify a solver to silence this warning.\n",
      "  FutureWarning)\n",
      "/anaconda3/lib/python3.6/site-packages/sklearn/linear_model/logistic.py:433: FutureWarning: Default solver will be changed to 'lbfgs' in 0.22. Specify a solver to silence this warning.\n",
      "  FutureWarning)\n",
      "/anaconda3/lib/python3.6/site-packages/sklearn/linear_model/logistic.py:433: FutureWarning: Default solver will be changed to 'lbfgs' in 0.22. Specify a solver to silence this warning.\n",
      "  FutureWarning)\n",
      "/anaconda3/lib/python3.6/site-packages/sklearn/linear_model/logistic.py:433: FutureWarning: Default solver will be changed to 'lbfgs' in 0.22. Specify a solver to silence this warning.\n",
      "  FutureWarning)\n",
      "/anaconda3/lib/python3.6/site-packages/sklearn/linear_model/logistic.py:433: FutureWarning: Default solver will be changed to 'lbfgs' in 0.22. Specify a solver to silence this warning.\n",
      "  FutureWarning)\n",
      "/anaconda3/lib/python3.6/site-packages/sklearn/linear_model/logistic.py:433: FutureWarning: Default solver will be changed to 'lbfgs' in 0.22. Specify a solver to silence this warning.\n",
      "  FutureWarning)\n",
      "/anaconda3/lib/python3.6/site-packages/sklearn/linear_model/logistic.py:433: FutureWarning: Default solver will be changed to 'lbfgs' in 0.22. Specify a solver to silence this warning.\n",
      "  FutureWarning)\n",
      "/anaconda3/lib/python3.6/site-packages/sklearn/linear_model/logistic.py:433: FutureWarning: Default solver will be changed to 'lbfgs' in 0.22. Specify a solver to silence this warning.\n",
      "  FutureWarning)\n",
      "/anaconda3/lib/python3.6/site-packages/sklearn/linear_model/logistic.py:433: FutureWarning: Default solver will be changed to 'lbfgs' in 0.22. Specify a solver to silence this warning.\n",
      "  FutureWarning)\n",
      "/anaconda3/lib/python3.6/site-packages/sklearn/linear_model/logistic.py:433: FutureWarning: Default solver will be changed to 'lbfgs' in 0.22. Specify a solver to silence this warning.\n",
      "  FutureWarning)\n",
      "/anaconda3/lib/python3.6/site-packages/sklearn/linear_model/logistic.py:433: FutureWarning: Default solver will be changed to 'lbfgs' in 0.22. Specify a solver to silence this warning.\n",
      "  FutureWarning)\n",
      "/anaconda3/lib/python3.6/site-packages/sklearn/linear_model/logistic.py:433: FutureWarning: Default solver will be changed to 'lbfgs' in 0.22. Specify a solver to silence this warning.\n",
      "  FutureWarning)\n",
      "/anaconda3/lib/python3.6/site-packages/sklearn/linear_model/logistic.py:433: FutureWarning: Default solver will be changed to 'lbfgs' in 0.22. Specify a solver to silence this warning.\n",
      "  FutureWarning)\n",
      "/anaconda3/lib/python3.6/site-packages/sklearn/linear_model/logistic.py:433: FutureWarning: Default solver will be changed to 'lbfgs' in 0.22. Specify a solver to silence this warning.\n",
      "  FutureWarning)\n",
      "/anaconda3/lib/python3.6/site-packages/sklearn/linear_model/logistic.py:433: FutureWarning: Default solver will be changed to 'lbfgs' in 0.22. Specify a solver to silence this warning.\n",
      "  FutureWarning)\n",
      "/anaconda3/lib/python3.6/site-packages/sklearn/linear_model/logistic.py:433: FutureWarning: Default solver will be changed to 'lbfgs' in 0.22. Specify a solver to silence this warning.\n",
      "  FutureWarning)\n",
      "/anaconda3/lib/python3.6/site-packages/sklearn/linear_model/logistic.py:433: FutureWarning: Default solver will be changed to 'lbfgs' in 0.22. Specify a solver to silence this warning.\n",
      "  FutureWarning)\n"
     ]
    },
    {
     "name": "stderr",
     "output_type": "stream",
     "text": [
      "/anaconda3/lib/python3.6/site-packages/sklearn/linear_model/logistic.py:433: FutureWarning: Default solver will be changed to 'lbfgs' in 0.22. Specify a solver to silence this warning.\n",
      "  FutureWarning)\n",
      "/anaconda3/lib/python3.6/site-packages/sklearn/linear_model/logistic.py:433: FutureWarning: Default solver will be changed to 'lbfgs' in 0.22. Specify a solver to silence this warning.\n",
      "  FutureWarning)\n",
      "/anaconda3/lib/python3.6/site-packages/sklearn/linear_model/logistic.py:433: FutureWarning: Default solver will be changed to 'lbfgs' in 0.22. Specify a solver to silence this warning.\n",
      "  FutureWarning)\n",
      "/anaconda3/lib/python3.6/site-packages/sklearn/linear_model/logistic.py:433: FutureWarning: Default solver will be changed to 'lbfgs' in 0.22. Specify a solver to silence this warning.\n",
      "  FutureWarning)\n",
      "/anaconda3/lib/python3.6/site-packages/sklearn/linear_model/logistic.py:433: FutureWarning: Default solver will be changed to 'lbfgs' in 0.22. Specify a solver to silence this warning.\n",
      "  FutureWarning)\n",
      "/anaconda3/lib/python3.6/site-packages/sklearn/linear_model/logistic.py:433: FutureWarning: Default solver will be changed to 'lbfgs' in 0.22. Specify a solver to silence this warning.\n",
      "  FutureWarning)\n",
      "/anaconda3/lib/python3.6/site-packages/sklearn/linear_model/logistic.py:433: FutureWarning: Default solver will be changed to 'lbfgs' in 0.22. Specify a solver to silence this warning.\n",
      "  FutureWarning)\n",
      "/anaconda3/lib/python3.6/site-packages/sklearn/linear_model/logistic.py:433: FutureWarning: Default solver will be changed to 'lbfgs' in 0.22. Specify a solver to silence this warning.\n",
      "  FutureWarning)\n",
      "/anaconda3/lib/python3.6/site-packages/sklearn/linear_model/logistic.py:433: FutureWarning: Default solver will be changed to 'lbfgs' in 0.22. Specify a solver to silence this warning.\n",
      "  FutureWarning)\n",
      "/anaconda3/lib/python3.6/site-packages/sklearn/linear_model/logistic.py:433: FutureWarning: Default solver will be changed to 'lbfgs' in 0.22. Specify a solver to silence this warning.\n",
      "  FutureWarning)\n",
      "/anaconda3/lib/python3.6/site-packages/sklearn/linear_model/logistic.py:433: FutureWarning: Default solver will be changed to 'lbfgs' in 0.22. Specify a solver to silence this warning.\n",
      "  FutureWarning)\n",
      "/anaconda3/lib/python3.6/site-packages/sklearn/linear_model/logistic.py:433: FutureWarning: Default solver will be changed to 'lbfgs' in 0.22. Specify a solver to silence this warning.\n",
      "  FutureWarning)\n",
      "/anaconda3/lib/python3.6/site-packages/sklearn/linear_model/logistic.py:433: FutureWarning: Default solver will be changed to 'lbfgs' in 0.22. Specify a solver to silence this warning.\n",
      "  FutureWarning)\n",
      "/anaconda3/lib/python3.6/site-packages/sklearn/linear_model/logistic.py:433: FutureWarning: Default solver will be changed to 'lbfgs' in 0.22. Specify a solver to silence this warning.\n",
      "  FutureWarning)\n",
      "/anaconda3/lib/python3.6/site-packages/sklearn/linear_model/logistic.py:433: FutureWarning: Default solver will be changed to 'lbfgs' in 0.22. Specify a solver to silence this warning.\n",
      "  FutureWarning)\n",
      "/anaconda3/lib/python3.6/site-packages/sklearn/linear_model/logistic.py:433: FutureWarning: Default solver will be changed to 'lbfgs' in 0.22. Specify a solver to silence this warning.\n",
      "  FutureWarning)\n",
      "/anaconda3/lib/python3.6/site-packages/sklearn/linear_model/logistic.py:433: FutureWarning: Default solver will be changed to 'lbfgs' in 0.22. Specify a solver to silence this warning.\n",
      "  FutureWarning)\n",
      "/anaconda3/lib/python3.6/site-packages/sklearn/linear_model/logistic.py:433: FutureWarning: Default solver will be changed to 'lbfgs' in 0.22. Specify a solver to silence this warning.\n",
      "  FutureWarning)\n",
      "/anaconda3/lib/python3.6/site-packages/sklearn/linear_model/logistic.py:433: FutureWarning: Default solver will be changed to 'lbfgs' in 0.22. Specify a solver to silence this warning.\n",
      "  FutureWarning)\n",
      "/anaconda3/lib/python3.6/site-packages/sklearn/linear_model/logistic.py:433: FutureWarning: Default solver will be changed to 'lbfgs' in 0.22. Specify a solver to silence this warning.\n",
      "  FutureWarning)\n",
      "/anaconda3/lib/python3.6/site-packages/sklearn/linear_model/logistic.py:433: FutureWarning: Default solver will be changed to 'lbfgs' in 0.22. Specify a solver to silence this warning.\n",
      "  FutureWarning)\n",
      "/anaconda3/lib/python3.6/site-packages/sklearn/linear_model/logistic.py:433: FutureWarning: Default solver will be changed to 'lbfgs' in 0.22. Specify a solver to silence this warning.\n",
      "  FutureWarning)\n",
      "/anaconda3/lib/python3.6/site-packages/sklearn/linear_model/logistic.py:433: FutureWarning: Default solver will be changed to 'lbfgs' in 0.22. Specify a solver to silence this warning.\n",
      "  FutureWarning)\n",
      "/anaconda3/lib/python3.6/site-packages/sklearn/linear_model/logistic.py:433: FutureWarning: Default solver will be changed to 'lbfgs' in 0.22. Specify a solver to silence this warning.\n",
      "  FutureWarning)\n",
      "/anaconda3/lib/python3.6/site-packages/sklearn/linear_model/logistic.py:433: FutureWarning: Default solver will be changed to 'lbfgs' in 0.22. Specify a solver to silence this warning.\n",
      "  FutureWarning)\n",
      "/anaconda3/lib/python3.6/site-packages/sklearn/linear_model/logistic.py:433: FutureWarning: Default solver will be changed to 'lbfgs' in 0.22. Specify a solver to silence this warning.\n",
      "  FutureWarning)\n",
      "/anaconda3/lib/python3.6/site-packages/sklearn/linear_model/logistic.py:433: FutureWarning: Default solver will be changed to 'lbfgs' in 0.22. Specify a solver to silence this warning.\n",
      "  FutureWarning)\n",
      "/anaconda3/lib/python3.6/site-packages/sklearn/linear_model/logistic.py:433: FutureWarning: Default solver will be changed to 'lbfgs' in 0.22. Specify a solver to silence this warning.\n",
      "  FutureWarning)\n",
      "/anaconda3/lib/python3.6/site-packages/sklearn/linear_model/logistic.py:433: FutureWarning: Default solver will be changed to 'lbfgs' in 0.22. Specify a solver to silence this warning.\n",
      "  FutureWarning)\n",
      "/anaconda3/lib/python3.6/site-packages/sklearn/linear_model/logistic.py:433: FutureWarning: Default solver will be changed to 'lbfgs' in 0.22. Specify a solver to silence this warning.\n",
      "  FutureWarning)\n",
      "/anaconda3/lib/python3.6/site-packages/sklearn/linear_model/logistic.py:433: FutureWarning: Default solver will be changed to 'lbfgs' in 0.22. Specify a solver to silence this warning.\n",
      "  FutureWarning)\n",
      "/anaconda3/lib/python3.6/site-packages/sklearn/linear_model/logistic.py:433: FutureWarning: Default solver will be changed to 'lbfgs' in 0.22. Specify a solver to silence this warning.\n",
      "  FutureWarning)\n",
      "/anaconda3/lib/python3.6/site-packages/sklearn/linear_model/logistic.py:433: FutureWarning: Default solver will be changed to 'lbfgs' in 0.22. Specify a solver to silence this warning.\n",
      "  FutureWarning)\n",
      "/anaconda3/lib/python3.6/site-packages/sklearn/linear_model/logistic.py:433: FutureWarning: Default solver will be changed to 'lbfgs' in 0.22. Specify a solver to silence this warning.\n",
      "  FutureWarning)\n",
      "/anaconda3/lib/python3.6/site-packages/sklearn/linear_model/logistic.py:433: FutureWarning: Default solver will be changed to 'lbfgs' in 0.22. Specify a solver to silence this warning.\n",
      "  FutureWarning)\n",
      "/anaconda3/lib/python3.6/site-packages/sklearn/linear_model/logistic.py:433: FutureWarning: Default solver will be changed to 'lbfgs' in 0.22. Specify a solver to silence this warning.\n",
      "  FutureWarning)\n",
      "/anaconda3/lib/python3.6/site-packages/sklearn/linear_model/logistic.py:433: FutureWarning: Default solver will be changed to 'lbfgs' in 0.22. Specify a solver to silence this warning.\n",
      "  FutureWarning)\n",
      "/anaconda3/lib/python3.6/site-packages/sklearn/linear_model/logistic.py:433: FutureWarning: Default solver will be changed to 'lbfgs' in 0.22. Specify a solver to silence this warning.\n",
      "  FutureWarning)\n",
      "/anaconda3/lib/python3.6/site-packages/sklearn/linear_model/logistic.py:433: FutureWarning: Default solver will be changed to 'lbfgs' in 0.22. Specify a solver to silence this warning.\n",
      "  FutureWarning)\n",
      "/anaconda3/lib/python3.6/site-packages/sklearn/linear_model/logistic.py:433: FutureWarning: Default solver will be changed to 'lbfgs' in 0.22. Specify a solver to silence this warning.\n",
      "  FutureWarning)\n",
      "/anaconda3/lib/python3.6/site-packages/sklearn/linear_model/logistic.py:433: FutureWarning: Default solver will be changed to 'lbfgs' in 0.22. Specify a solver to silence this warning.\n",
      "  FutureWarning)\n"
     ]
    },
    {
     "name": "stderr",
     "output_type": "stream",
     "text": [
      "/anaconda3/lib/python3.6/site-packages/sklearn/linear_model/logistic.py:433: FutureWarning: Default solver will be changed to 'lbfgs' in 0.22. Specify a solver to silence this warning.\n",
      "  FutureWarning)\n",
      "/anaconda3/lib/python3.6/site-packages/sklearn/linear_model/logistic.py:433: FutureWarning: Default solver will be changed to 'lbfgs' in 0.22. Specify a solver to silence this warning.\n",
      "  FutureWarning)\n",
      "/anaconda3/lib/python3.6/site-packages/sklearn/linear_model/logistic.py:433: FutureWarning: Default solver will be changed to 'lbfgs' in 0.22. Specify a solver to silence this warning.\n",
      "  FutureWarning)\n",
      "/anaconda3/lib/python3.6/site-packages/sklearn/linear_model/logistic.py:433: FutureWarning: Default solver will be changed to 'lbfgs' in 0.22. Specify a solver to silence this warning.\n",
      "  FutureWarning)\n",
      "/anaconda3/lib/python3.6/site-packages/sklearn/linear_model/logistic.py:433: FutureWarning: Default solver will be changed to 'lbfgs' in 0.22. Specify a solver to silence this warning.\n",
      "  FutureWarning)\n",
      "/anaconda3/lib/python3.6/site-packages/sklearn/linear_model/logistic.py:433: FutureWarning: Default solver will be changed to 'lbfgs' in 0.22. Specify a solver to silence this warning.\n",
      "  FutureWarning)\n",
      "/anaconda3/lib/python3.6/site-packages/sklearn/linear_model/logistic.py:433: FutureWarning: Default solver will be changed to 'lbfgs' in 0.22. Specify a solver to silence this warning.\n",
      "  FutureWarning)\n",
      "/anaconda3/lib/python3.6/site-packages/sklearn/linear_model/logistic.py:433: FutureWarning: Default solver will be changed to 'lbfgs' in 0.22. Specify a solver to silence this warning.\n",
      "  FutureWarning)\n",
      "/anaconda3/lib/python3.6/site-packages/sklearn/linear_model/logistic.py:433: FutureWarning: Default solver will be changed to 'lbfgs' in 0.22. Specify a solver to silence this warning.\n",
      "  FutureWarning)\n",
      "/anaconda3/lib/python3.6/site-packages/sklearn/linear_model/logistic.py:433: FutureWarning: Default solver will be changed to 'lbfgs' in 0.22. Specify a solver to silence this warning.\n",
      "  FutureWarning)\n",
      "/anaconda3/lib/python3.6/site-packages/sklearn/linear_model/logistic.py:433: FutureWarning: Default solver will be changed to 'lbfgs' in 0.22. Specify a solver to silence this warning.\n",
      "  FutureWarning)\n",
      "/anaconda3/lib/python3.6/site-packages/sklearn/linear_model/logistic.py:433: FutureWarning: Default solver will be changed to 'lbfgs' in 0.22. Specify a solver to silence this warning.\n",
      "  FutureWarning)\n",
      "/anaconda3/lib/python3.6/site-packages/sklearn/linear_model/logistic.py:433: FutureWarning: Default solver will be changed to 'lbfgs' in 0.22. Specify a solver to silence this warning.\n",
      "  FutureWarning)\n",
      "/anaconda3/lib/python3.6/site-packages/sklearn/linear_model/logistic.py:433: FutureWarning: Default solver will be changed to 'lbfgs' in 0.22. Specify a solver to silence this warning.\n",
      "  FutureWarning)\n",
      "/anaconda3/lib/python3.6/site-packages/sklearn/linear_model/logistic.py:433: FutureWarning: Default solver will be changed to 'lbfgs' in 0.22. Specify a solver to silence this warning.\n",
      "  FutureWarning)\n",
      "/anaconda3/lib/python3.6/site-packages/sklearn/linear_model/logistic.py:433: FutureWarning: Default solver will be changed to 'lbfgs' in 0.22. Specify a solver to silence this warning.\n",
      "  FutureWarning)\n",
      "/anaconda3/lib/python3.6/site-packages/sklearn/linear_model/logistic.py:433: FutureWarning: Default solver will be changed to 'lbfgs' in 0.22. Specify a solver to silence this warning.\n",
      "  FutureWarning)\n",
      "/anaconda3/lib/python3.6/site-packages/sklearn/linear_model/logistic.py:433: FutureWarning: Default solver will be changed to 'lbfgs' in 0.22. Specify a solver to silence this warning.\n",
      "  FutureWarning)\n",
      "/anaconda3/lib/python3.6/site-packages/sklearn/linear_model/logistic.py:433: FutureWarning: Default solver will be changed to 'lbfgs' in 0.22. Specify a solver to silence this warning.\n",
      "  FutureWarning)\n",
      "/anaconda3/lib/python3.6/site-packages/sklearn/linear_model/logistic.py:433: FutureWarning: Default solver will be changed to 'lbfgs' in 0.22. Specify a solver to silence this warning.\n",
      "  FutureWarning)\n",
      "/anaconda3/lib/python3.6/site-packages/sklearn/linear_model/logistic.py:433: FutureWarning: Default solver will be changed to 'lbfgs' in 0.22. Specify a solver to silence this warning.\n",
      "  FutureWarning)\n",
      "/anaconda3/lib/python3.6/site-packages/sklearn/linear_model/logistic.py:433: FutureWarning: Default solver will be changed to 'lbfgs' in 0.22. Specify a solver to silence this warning.\n",
      "  FutureWarning)\n",
      "/anaconda3/lib/python3.6/site-packages/sklearn/linear_model/logistic.py:433: FutureWarning: Default solver will be changed to 'lbfgs' in 0.22. Specify a solver to silence this warning.\n",
      "  FutureWarning)\n",
      "/anaconda3/lib/python3.6/site-packages/sklearn/linear_model/logistic.py:433: FutureWarning: Default solver will be changed to 'lbfgs' in 0.22. Specify a solver to silence this warning.\n",
      "  FutureWarning)\n",
      "/anaconda3/lib/python3.6/site-packages/sklearn/linear_model/logistic.py:433: FutureWarning: Default solver will be changed to 'lbfgs' in 0.22. Specify a solver to silence this warning.\n",
      "  FutureWarning)\n",
      "/anaconda3/lib/python3.6/site-packages/sklearn/linear_model/logistic.py:433: FutureWarning: Default solver will be changed to 'lbfgs' in 0.22. Specify a solver to silence this warning.\n",
      "  FutureWarning)\n",
      "/anaconda3/lib/python3.6/site-packages/sklearn/linear_model/logistic.py:433: FutureWarning: Default solver will be changed to 'lbfgs' in 0.22. Specify a solver to silence this warning.\n",
      "  FutureWarning)\n",
      "/anaconda3/lib/python3.6/site-packages/sklearn/linear_model/logistic.py:433: FutureWarning: Default solver will be changed to 'lbfgs' in 0.22. Specify a solver to silence this warning.\n",
      "  FutureWarning)\n",
      "/anaconda3/lib/python3.6/site-packages/sklearn/linear_model/logistic.py:433: FutureWarning: Default solver will be changed to 'lbfgs' in 0.22. Specify a solver to silence this warning.\n",
      "  FutureWarning)\n",
      "/anaconda3/lib/python3.6/site-packages/sklearn/linear_model/logistic.py:433: FutureWarning: Default solver will be changed to 'lbfgs' in 0.22. Specify a solver to silence this warning.\n",
      "  FutureWarning)\n",
      "/anaconda3/lib/python3.6/site-packages/sklearn/linear_model/logistic.py:433: FutureWarning: Default solver will be changed to 'lbfgs' in 0.22. Specify a solver to silence this warning.\n",
      "  FutureWarning)\n",
      "/anaconda3/lib/python3.6/site-packages/sklearn/linear_model/logistic.py:433: FutureWarning: Default solver will be changed to 'lbfgs' in 0.22. Specify a solver to silence this warning.\n",
      "  FutureWarning)\n",
      "/anaconda3/lib/python3.6/site-packages/sklearn/linear_model/logistic.py:433: FutureWarning: Default solver will be changed to 'lbfgs' in 0.22. Specify a solver to silence this warning.\n",
      "  FutureWarning)\n",
      "/anaconda3/lib/python3.6/site-packages/sklearn/linear_model/logistic.py:433: FutureWarning: Default solver will be changed to 'lbfgs' in 0.22. Specify a solver to silence this warning.\n",
      "  FutureWarning)\n",
      "/anaconda3/lib/python3.6/site-packages/sklearn/linear_model/logistic.py:433: FutureWarning: Default solver will be changed to 'lbfgs' in 0.22. Specify a solver to silence this warning.\n",
      "  FutureWarning)\n",
      "/anaconda3/lib/python3.6/site-packages/sklearn/linear_model/logistic.py:433: FutureWarning: Default solver will be changed to 'lbfgs' in 0.22. Specify a solver to silence this warning.\n",
      "  FutureWarning)\n",
      "/anaconda3/lib/python3.6/site-packages/sklearn/linear_model/logistic.py:433: FutureWarning: Default solver will be changed to 'lbfgs' in 0.22. Specify a solver to silence this warning.\n",
      "  FutureWarning)\n",
      "/anaconda3/lib/python3.6/site-packages/sklearn/linear_model/logistic.py:433: FutureWarning: Default solver will be changed to 'lbfgs' in 0.22. Specify a solver to silence this warning.\n",
      "  FutureWarning)\n",
      "/anaconda3/lib/python3.6/site-packages/sklearn/linear_model/logistic.py:433: FutureWarning: Default solver will be changed to 'lbfgs' in 0.22. Specify a solver to silence this warning.\n",
      "  FutureWarning)\n",
      "/anaconda3/lib/python3.6/site-packages/sklearn/linear_model/logistic.py:433: FutureWarning: Default solver will be changed to 'lbfgs' in 0.22. Specify a solver to silence this warning.\n",
      "  FutureWarning)\n",
      "/anaconda3/lib/python3.6/site-packages/sklearn/linear_model/logistic.py:433: FutureWarning: Default solver will be changed to 'lbfgs' in 0.22. Specify a solver to silence this warning.\n",
      "  FutureWarning)\n"
     ]
    },
    {
     "name": "stderr",
     "output_type": "stream",
     "text": [
      "/anaconda3/lib/python3.6/site-packages/sklearn/linear_model/logistic.py:433: FutureWarning: Default solver will be changed to 'lbfgs' in 0.22. Specify a solver to silence this warning.\n",
      "  FutureWarning)\n",
      "/anaconda3/lib/python3.6/site-packages/sklearn/linear_model/logistic.py:433: FutureWarning: Default solver will be changed to 'lbfgs' in 0.22. Specify a solver to silence this warning.\n",
      "  FutureWarning)\n",
      "/anaconda3/lib/python3.6/site-packages/sklearn/linear_model/logistic.py:433: FutureWarning: Default solver will be changed to 'lbfgs' in 0.22. Specify a solver to silence this warning.\n",
      "  FutureWarning)\n",
      "/anaconda3/lib/python3.6/site-packages/sklearn/linear_model/logistic.py:433: FutureWarning: Default solver will be changed to 'lbfgs' in 0.22. Specify a solver to silence this warning.\n",
      "  FutureWarning)\n",
      "/anaconda3/lib/python3.6/site-packages/sklearn/linear_model/logistic.py:433: FutureWarning: Default solver will be changed to 'lbfgs' in 0.22. Specify a solver to silence this warning.\n",
      "  FutureWarning)\n",
      "/anaconda3/lib/python3.6/site-packages/sklearn/linear_model/logistic.py:433: FutureWarning: Default solver will be changed to 'lbfgs' in 0.22. Specify a solver to silence this warning.\n",
      "  FutureWarning)\n",
      "/anaconda3/lib/python3.6/site-packages/sklearn/linear_model/logistic.py:433: FutureWarning: Default solver will be changed to 'lbfgs' in 0.22. Specify a solver to silence this warning.\n",
      "  FutureWarning)\n",
      "/anaconda3/lib/python3.6/site-packages/sklearn/linear_model/logistic.py:433: FutureWarning: Default solver will be changed to 'lbfgs' in 0.22. Specify a solver to silence this warning.\n",
      "  FutureWarning)\n",
      "/anaconda3/lib/python3.6/site-packages/sklearn/linear_model/logistic.py:433: FutureWarning: Default solver will be changed to 'lbfgs' in 0.22. Specify a solver to silence this warning.\n",
      "  FutureWarning)\n",
      "/anaconda3/lib/python3.6/site-packages/sklearn/linear_model/logistic.py:433: FutureWarning: Default solver will be changed to 'lbfgs' in 0.22. Specify a solver to silence this warning.\n",
      "  FutureWarning)\n",
      "/anaconda3/lib/python3.6/site-packages/sklearn/linear_model/logistic.py:433: FutureWarning: Default solver will be changed to 'lbfgs' in 0.22. Specify a solver to silence this warning.\n",
      "  FutureWarning)\n",
      "/anaconda3/lib/python3.6/site-packages/sklearn/linear_model/logistic.py:433: FutureWarning: Default solver will be changed to 'lbfgs' in 0.22. Specify a solver to silence this warning.\n",
      "  FutureWarning)\n",
      "/anaconda3/lib/python3.6/site-packages/sklearn/linear_model/logistic.py:433: FutureWarning: Default solver will be changed to 'lbfgs' in 0.22. Specify a solver to silence this warning.\n",
      "  FutureWarning)\n",
      "/anaconda3/lib/python3.6/site-packages/sklearn/linear_model/logistic.py:433: FutureWarning: Default solver will be changed to 'lbfgs' in 0.22. Specify a solver to silence this warning.\n",
      "  FutureWarning)\n",
      "/anaconda3/lib/python3.6/site-packages/sklearn/linear_model/logistic.py:433: FutureWarning: Default solver will be changed to 'lbfgs' in 0.22. Specify a solver to silence this warning.\n",
      "  FutureWarning)\n",
      "/anaconda3/lib/python3.6/site-packages/sklearn/linear_model/logistic.py:433: FutureWarning: Default solver will be changed to 'lbfgs' in 0.22. Specify a solver to silence this warning.\n",
      "  FutureWarning)\n"
     ]
    }
   ],
   "source": [
    "multipltrun_df=multipltrun_2()"
   ]
  },
  {
   "cell_type": "markdown",
   "metadata": {},
   "source": [
    "## According to the chart above, the optimal FDR for oot data is 0.375419, corresponding to 13 variables."
   ]
  },
  {
   "cell_type": "code",
   "execution_count": 57,
   "metadata": {},
   "outputs": [
    {
     "data": {
      "text/plain": [
       "Text(0, 0.5, 'FDR')"
      ]
     },
     "execution_count": 57,
     "metadata": {},
     "output_type": "execute_result"
    },
    {
     "data": {
      "image/png": "[encoded data removed]",
      "text/plain": [
       "<Figure size 432x288 with 1 Axes>"
      ]
     },
     "metadata": {
      "needs_background": "light"
     },
     "output_type": "display_data"
    }
   ],
   "source": [
    "plt.plot(multipltrun_df['oot'])\n",
    "plt.title('FDR on oot data')\n",
    "plt.ylabel('FDR')"
   ]
  },
  {
   "cell_type": "markdown",
   "metadata": {},
   "source": [
    "Conclusion: optimal # of variables is 13, the corresponding FDR is 0.375419."
   ]
  }
 ],
 "metadata": {
  "anaconda-cloud": {},
  "kernelspec": {
   "display_name": "Python 3",
   "language": "python",
   "name": "python3"
  },
  "language_info": {
   "codemirror_mode": {
    "name": "ipython",
    "version": 3
   },
   "file_extension": ".py",
   "mimetype": "text/x-python",
   "name": "python",
   "nbconvert_exporter": "python",
   "pygments_lexer": "ipython3",
   "version": "3.6.8"
  },
  "nbpresent": {
   "slides": {
    "000eb71e-c5c7-480f-870e-9ca839bf59fc": {
     "id": "000eb71e-c5c7-480f-870e-9ca839bf59fc",
     "prev": "bebb6b7c-bec5-41f7-9389-848bbe795e66",
     "regions": {
      "d8be80fe-a50e-48e1-81fa-ae04b28c096b": {
       "attrs": {
        "height": 0.8,
        "width": 0.8,
        "x": 0.1,
        "y": 0.1
       },
       "content": {
        "cell": "183c6087-bab7-495b-991e-5f26dbc87272",
        "part": "whole"
       },
       "id": "d8be80fe-a50e-48e1-81fa-ae04b28c096b"
      }
     }
    },
    "1f3d535d-4085-456d-b1a2-e591c79d643b": {
     "id": "1f3d535d-4085-456d-b1a2-e591c79d643b",
     "prev": "879f01df-6761-4d11-a1f9-7f3c0d609b88",
     "regions": {
      "1eef7b0e-cfe8-463d-a84d-ec8a401af0b9": {
       "attrs": {
        "height": 0.8,
        "width": 0.8,
        "x": 0.1,
        "y": 0.1
       },
       "content": {
        "cell": "9db4791a-d98d-4334-927e-4d78f25dfc2b",
        "part": "whole"
       },
       "id": "1eef7b0e-cfe8-463d-a84d-ec8a401af0b9"
      }
     }
    },
    "3d17961e-80b7-4078-8650-ce35468d74eb": {
     "id": "3d17961e-80b7-4078-8650-ce35468d74eb",
     "prev": "d142675d-f132-41c6-81b6-bc4bdee76ef5",
     "regions": {
      "d35b525a-4753-4225-9b4f-bd0b6de4a45d": {
       "attrs": {
        "height": 0.8,
        "width": 0.8,
        "x": 0.1,
        "y": 0.1
       },
       "content": {
        "cell": "62a16342-f00b-49c1-a570-1d08e5f107a3",
        "part": "whole"
       },
       "id": "d35b525a-4753-4225-9b4f-bd0b6de4a45d"
      }
     }
    },
    "45cb7223-71d6-413c-aa06-2d1550af2ff8": {
     "id": "45cb7223-71d6-413c-aa06-2d1550af2ff8",
     "prev": "bc380d13-2995-415b-a50f-6007f88b187c",
     "regions": {
      "e9880413-4691-401a-8602-ef94bf1b5034": {
       "attrs": {
        "height": 0.8,
        "width": 0.8,
        "x": 0.1,
        "y": 0.1
       },
       "content": {
        "cell": "44d4eb36-ee0e-4070-b455-472afb0f3f4a",
        "part": "whole"
       },
       "id": "e9880413-4691-401a-8602-ef94bf1b5034"
      }
     }
    },
    "60e86473-8e3e-4d56-9d18-e4bfbe9e3b83": {
     "id": "60e86473-8e3e-4d56-9d18-e4bfbe9e3b83",
     "prev": "85091533-59af-463f-be20-667c38d650b9",
     "regions": {
      "efe8eb4a-8589-4c4e-8286-705e9485ab70": {
       "attrs": {
        "height": 0.8,
        "width": 0.8,
        "x": 0.1,
        "y": 0.1
       },
       "content": {
        "cell": "affacd4e-c4f5-4205-8c3b-ddf001223236",
        "part": "whole"
       },
       "id": "efe8eb4a-8589-4c4e-8286-705e9485ab70"
      }
     }
    },
    "6229913b-718b-4e67-a831-330fb6a2a6d3": {
     "id": "6229913b-718b-4e67-a831-330fb6a2a6d3",
     "prev": "71288704-7e7b-485f-aafb-a0a0adc12334",
     "regions": {
      "e3f3c209-4098-4c6f-b201-9ab875ffec86": {
       "attrs": {
        "height": 0.8,
        "width": 0.8,
        "x": 0.1,
        "y": 0.1
       },
       "content": {
        "cell": "80e83d2f-e09e-4631-b9de-5a6a9df3eb83",
        "part": "whole"
       },
       "id": "e3f3c209-4098-4c6f-b201-9ab875ffec86"
      }
     }
    },
    "63ca5375-2a1d-44fd-a2ac-e77e2762c1be": {
     "id": "63ca5375-2a1d-44fd-a2ac-e77e2762c1be",
     "prev": "9c5194f8-5732-4017-99ec-8be6638853cf",
     "regions": {
      "19a77190-bd02-4dad-9151-908491f1ef55": {
       "attrs": {
        "height": 0.8,
        "width": 0.8,
        "x": 0.1,
        "y": 0.1
       },
       "content": {
        "cell": "64130f62-181f-49ba-b8c5-f3509b04c5b1",
        "part": "whole"
       },
       "id": "19a77190-bd02-4dad-9151-908491f1ef55"
      }
     }
    },
    "71288704-7e7b-485f-aafb-a0a0adc12334": {
     "id": "71288704-7e7b-485f-aafb-a0a0adc12334",
     "prev": "b88e913f-e7f8-4908-938c-d9655f1e22d9",
     "regions": {
      "fee52edc-0227-47f7-a315-3cbfaec79de8": {
       "attrs": {
        "height": 0.8,
        "width": 0.8,
        "x": 0.1,
        "y": 0.1
       },
       "content": {
        "cell": "564e5f61-4b3d-4a4c-9661-3fc0f5f5161b",
        "part": "whole"
       },
       "id": "fee52edc-0227-47f7-a315-3cbfaec79de8"
      }
     }
    },
    "834da33c-237b-4408-826d-bbb049f10208": {
     "id": "834da33c-237b-4408-826d-bbb049f10208",
     "prev": "000eb71e-c5c7-480f-870e-9ca839bf59fc",
     "regions": {
      "cd9ab26f-5a8d-478a-882d-8e0fd165e7a6": {
       "attrs": {
        "height": 0.8,
        "width": 0.8,
        "x": 0.1,
        "y": 0.1
       },
       "content": {
        "cell": "6a5dc069-a3a0-47f0-8c1e-8ab2fcaa2fb8",
        "part": "whole"
       },
       "id": "cd9ab26f-5a8d-478a-882d-8e0fd165e7a6"
      }
     }
    },
    "845d6736-9fa8-457b-bdf5-dd4d1e651e28": {
     "id": "845d6736-9fa8-457b-bdf5-dd4d1e651e28",
     "prev": "a9d8d44d-fa22-49f3-acde-201fa6676260",
     "regions": {
      "afef51ab-2b52-4278-bf21-fceea8840075": {
       "attrs": {
        "height": 0.8,
        "width": 0.8,
        "x": 0.1,
        "y": 0.1
       },
       "content": {
        "cell": "0d8f109e-3f55-4671-bb7d-d3164e60432d",
        "part": "whole"
       },
       "id": "afef51ab-2b52-4278-bf21-fceea8840075"
      }
     }
    },
    "85091533-59af-463f-be20-667c38d650b9": {
     "id": "85091533-59af-463f-be20-667c38d650b9",
     "prev": "45cb7223-71d6-413c-aa06-2d1550af2ff8",
     "regions": {
      "94c9cc60-0aa4-4d82-bc90-f7d4091f38ae": {
       "attrs": {
        "height": 0.8,
        "width": 0.8,
        "x": 0.1,
        "y": 0.1
       },
       "content": {
        "cell": "3be92b91-7733-4e0b-b0e7-5f48915edeb6",
        "part": "whole"
       },
       "id": "94c9cc60-0aa4-4d82-bc90-f7d4091f38ae"
      }
     }
    },
    "879f01df-6761-4d11-a1f9-7f3c0d609b88": {
     "id": "879f01df-6761-4d11-a1f9-7f3c0d609b88",
     "prev": "834da33c-237b-4408-826d-bbb049f10208",
     "regions": {
      "f36699f3-ab60-43ec-b189-361b928be091": {
       "attrs": {
        "height": 0.8,
        "width": 0.8,
        "x": 0.1,
        "y": 0.1
       },
       "content": {
        "cell": "5047f4e0-7965-4330-8f9c-37eedca51a9b",
        "part": "whole"
       },
       "id": "f36699f3-ab60-43ec-b189-361b928be091"
      }
     }
    },
    "8b7e2b25-60cb-48ce-9694-3cfb15d42c6e": {
     "id": "8b7e2b25-60cb-48ce-9694-3cfb15d42c6e",
     "prev": "3d17961e-80b7-4078-8650-ce35468d74eb",
     "regions": {
      "78c9ff4a-7e13-4652-a434-c0f7e22b1638": {
       "attrs": {
        "height": 0.8,
        "width": 0.8,
        "x": 0.1,
        "y": 0.1
       },
       "content": {
        "cell": "f7cae24a-be12-466c-992e-7937ef0c1504",
        "part": "whole"
       },
       "id": "78c9ff4a-7e13-4652-a434-c0f7e22b1638"
      }
     }
    },
    "946770f4-14cb-4f82-9d3e-8cdf68a99528": {
     "id": "946770f4-14cb-4f82-9d3e-8cdf68a99528",
     "prev": "b8d16fce-c0f0-4961-9832-b131c07b7416",
     "regions": {
      "1bedf970-b954-4dfa-985e-f1ea533833e8": {
       "attrs": {
        "height": 0.8,
        "width": 0.8,
        "x": 0.1,
        "y": 0.1
       },
       "content": {
        "cell": "45f6c8eb-e012-4b98-8aea-a4ec91a1d90a",
        "part": "whole"
       },
       "id": "1bedf970-b954-4dfa-985e-f1ea533833e8"
      }
     }
    },
    "9c5194f8-5732-4017-99ec-8be6638853cf": {
     "id": "9c5194f8-5732-4017-99ec-8be6638853cf",
     "prev": "c77f22fb-d214-47d3-a0f0-4c1a747a7bb2",
     "regions": {
      "84e01f1d-d0e2-4019-b5c6-344af1237216": {
       "attrs": {
        "height": 0.8,
        "width": 0.8,
        "x": 0.1,
        "y": 0.1
       },
       "content": {
        "cell": "dfa808c2-291b-4339-a67e-5c91685ac828",
        "part": "whole"
       },
       "id": "84e01f1d-d0e2-4019-b5c6-344af1237216"
      }
     }
    },
    "a717a20c-7d2f-4aa4-8802-91112bd49f5a": {
     "id": "a717a20c-7d2f-4aa4-8802-91112bd49f5a",
     "prev": "845d6736-9fa8-457b-bdf5-dd4d1e651e28",
     "regions": {
      "c20efcbb-1855-40cb-94ea-1630ed29363a": {
       "attrs": {
        "height": 0.8,
        "width": 0.8,
        "x": 0.1,
        "y": 0.1
       },
       "content": {
        "cell": "082165ed-e1a2-484a-9477-f19bc7fcc478",
        "part": "whole"
       },
       "id": "c20efcbb-1855-40cb-94ea-1630ed29363a"
      }
     }
    },
    "a798a46b-083e-480d-873f-82bcd1d90fad": {
     "id": "a798a46b-083e-480d-873f-82bcd1d90fad",
     "prev": "8b7e2b25-60cb-48ce-9694-3cfb15d42c6e",
     "regions": {
      "83a4c0b3-b4f1-4aea-b88e-1e5b0563cc54": {
       "attrs": {
        "height": 0.8,
        "width": 0.8,
        "x": 0.1,
        "y": 0.1
       },
       "content": {
        "cell": "ca872076-f66d-465d-9570-1df8458ac4f0",
        "part": "whole"
       },
       "id": "83a4c0b3-b4f1-4aea-b88e-1e5b0563cc54"
      }
     }
    },
    "a9d8d44d-fa22-49f3-acde-201fa6676260": {
     "id": "a9d8d44d-fa22-49f3-acde-201fa6676260",
     "prev": "60e86473-8e3e-4d56-9d18-e4bfbe9e3b83",
     "regions": {
      "8d6b3e3c-f25b-4d09-9a2a-ee80ae8e3624": {
       "attrs": {
        "height": 0.8,
        "width": 0.8,
        "x": 0.1,
        "y": 0.1
       },
       "content": {
        "cell": "d26d6714-cef7-4d41-a351-91c541107406",
        "part": "whole"
       },
       "id": "8d6b3e3c-f25b-4d09-9a2a-ee80ae8e3624"
      }
     }
    },
    "b88e913f-e7f8-4908-938c-d9655f1e22d9": {
     "id": "b88e913f-e7f8-4908-938c-d9655f1e22d9",
     "prev": "1f3d535d-4085-456d-b1a2-e591c79d643b",
     "regions": {
      "4faf83e8-e428-443a-9eef-a70c8c10a040": {
       "attrs": {
        "height": 0.8,
        "width": 0.8,
        "x": 0.1,
        "y": 0.1
       },
       "content": {
        "cell": "e06185da-78a9-4ad0-a324-34b36fbf20a0",
        "part": "whole"
       },
       "id": "4faf83e8-e428-443a-9eef-a70c8c10a040"
      }
     }
    },
    "b8d16fce-c0f0-4961-9832-b131c07b7416": {
     "id": "b8d16fce-c0f0-4961-9832-b131c07b7416",
     "prev": "d54c2e22-56ae-4c28-8bc2-bc5722fdbcc7",
     "regions": {
      "0c3dcf7a-ca96-43f6-8a75-deb2c8e845b1": {
       "attrs": {
        "height": 0.8,
        "width": 0.8,
        "x": 0.1,
        "y": 0.1
       },
       "content": {
        "cell": "4d14dd87-b8e7-494a-9cff-3caf17ae8fdc",
        "part": "whole"
       },
       "id": "0c3dcf7a-ca96-43f6-8a75-deb2c8e845b1"
      }
     }
    },
    "bc380d13-2995-415b-a50f-6007f88b187c": {
     "id": "bc380d13-2995-415b-a50f-6007f88b187c",
     "prev": null,
     "regions": {}
    },
    "bebb6b7c-bec5-41f7-9389-848bbe795e66": {
     "id": "bebb6b7c-bec5-41f7-9389-848bbe795e66",
     "prev": "ca255684-a6b6-4aa7-82c8-6a2e85dc359b",
     "regions": {
      "f44333f1-1226-4dc3-bd8a-a27355b346fe": {
       "attrs": {
        "height": 0.8,
        "width": 0.8,
        "x": 0.1,
        "y": 0.1
       },
       "content": {
        "cell": "0e30e186-7936-444b-8820-c447b17784e1",
        "part": "whole"
       },
       "id": "f44333f1-1226-4dc3-bd8a-a27355b346fe"
      }
     }
    },
    "c77f22fb-d214-47d3-a0f0-4c1a747a7bb2": {
     "id": "c77f22fb-d214-47d3-a0f0-4c1a747a7bb2",
     "prev": "a798a46b-083e-480d-873f-82bcd1d90fad",
     "regions": {
      "e2a998b2-ac39-42fb-ac26-6a512c734803": {
       "attrs": {
        "height": 0.8,
        "width": 0.8,
        "x": 0.1,
        "y": 0.1
       },
       "content": {
        "cell": "c2b2ba5a-98dc-4fac-9888-2e6b2c19adcc",
        "part": "whole"
       },
       "id": "e2a998b2-ac39-42fb-ac26-6a512c734803"
      }
     }
    },
    "ca255684-a6b6-4aa7-82c8-6a2e85dc359b": {
     "id": "ca255684-a6b6-4aa7-82c8-6a2e85dc359b",
     "prev": "dc2b97d1-4a86-4019-9bef-c21921801f19",
     "regions": {
      "6de1b118-4d7f-4c2d-a9b3-139d700154fd": {
       "attrs": {
        "height": 0.8,
        "width": 0.8,
        "x": 0.1,
        "y": 0.1
       },
       "content": {
        "cell": "8ff86ed0-ffa6-4cf9-8314-f3b419fa06ce",
        "part": "whole"
       },
       "id": "6de1b118-4d7f-4c2d-a9b3-139d700154fd"
      }
     }
    },
    "d142675d-f132-41c6-81b6-bc4bdee76ef5": {
     "id": "d142675d-f132-41c6-81b6-bc4bdee76ef5",
     "prev": "f5e6273f-3e0f-465d-b001-ea084134bac6",
     "regions": {
      "d5306476-a9fd-4f97-a463-787bc42763e1": {
       "attrs": {
        "height": 0.8,
        "width": 0.8,
        "x": 0.1,
        "y": 0.1
       },
       "content": {
        "cell": "9ecaf1c3-2298-4493-b4d2-9dfe0b81122b",
        "part": "whole"
       },
       "id": "d5306476-a9fd-4f97-a463-787bc42763e1"
      }
     }
    },
    "d54c2e22-56ae-4c28-8bc2-bc5722fdbcc7": {
     "id": "d54c2e22-56ae-4c28-8bc2-bc5722fdbcc7",
     "prev": "63ca5375-2a1d-44fd-a2ac-e77e2762c1be",
     "regions": {
      "0de91b44-e9e2-4137-9d0f-46193a77e4e6": {
       "attrs": {
        "height": 0.8,
        "width": 0.8,
        "x": 0.1,
        "y": 0.1
       },
       "content": {
        "cell": "3604bfbe-a46b-46cb-95a2-04223aa94d65",
        "part": "whole"
       },
       "id": "0de91b44-e9e2-4137-9d0f-46193a77e4e6"
      }
     }
    },
    "dc2b97d1-4a86-4019-9bef-c21921801f19": {
     "id": "dc2b97d1-4a86-4019-9bef-c21921801f19",
     "prev": "a717a20c-7d2f-4aa4-8802-91112bd49f5a",
     "regions": {
      "31b5d06a-e42a-4845-994b-dc40c8d113fa": {
       "attrs": {
        "height": 0.8,
        "width": 0.8,
        "x": 0.1,
        "y": 0.1
       },
       "content": {
        "cell": "6dd1e682-6841-4836-a4cd-9786c98d6d8d",
        "part": "whole"
       },
       "id": "31b5d06a-e42a-4845-994b-dc40c8d113fa"
      }
     }
    },
    "f5e6273f-3e0f-465d-b001-ea084134bac6": {
     "id": "f5e6273f-3e0f-465d-b001-ea084134bac6",
     "prev": "6229913b-718b-4e67-a831-330fb6a2a6d3",
     "regions": {
      "55794442-1786-4fd2-bb42-67bcce11897d": {
       "attrs": {
        "height": 0.8,
        "width": 0.8,
        "x": 0.1,
        "y": 0.1
       },
       "content": {
        "cell": "be1b823e-31e5-42e1-8c9e-c11b863afe6d",
        "part": "whole"
       },
       "id": "55794442-1786-4fd2-bb42-67bcce11897d"
      }
     }
    }
   },
   "themes": {}
  }
 },
 "nbformat": 4,
 "nbformat_minor": 1
}
